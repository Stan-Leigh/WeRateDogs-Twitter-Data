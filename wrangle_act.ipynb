{
 "cells": [
  {
   "cell_type": "markdown",
   "metadata": {
    "extensions": {
     "jupyter_dashboards": {
      "version": 1,
      "views": {
       "grid_default": {
        "col": 0,
        "height": 4,
        "hidden": false,
        "row": 0,
        "width": 4
       },
       "report_default": {
        "hidden": false
       }
      }
     }
    }
   },
   "source": [
    "# Project: Wrangling and Analyze Data"
   ]
  },
  {
   "cell_type": "code",
   "execution_count": 1,
   "metadata": {},
   "outputs": [],
   "source": [
    "# import relevant libraries\n",
    "\n",
    "import numpy as np\n",
    "import pandas as pd\n",
    "import requests\n",
    "import tweepy\n",
    "import json\n",
    "import matplotlib.pyplot as plt\n",
    "import seaborn as sns"
   ]
  },
  {
   "cell_type": "markdown",
   "metadata": {},
   "source": [
    "## Data Gathering"
   ]
  },
  {
   "cell_type": "markdown",
   "metadata": {},
   "source": [
    "1. Directly download the WeRateDogs Twitter archive data (twitter_archive_enhanced.csv)"
   ]
  },
  {
   "cell_type": "code",
   "execution_count": 2,
   "metadata": {
    "extensions": {
     "jupyter_dashboards": {
      "version": 1,
      "views": {
       "grid_default": {
        "hidden": true
       },
       "report_default": {
        "hidden": true
       }
      }
     }
    }
   },
   "outputs": [],
   "source": [
    "# read download data into a pandas dataframe\n",
    "\n",
    "twitter_df = pd.read_csv('twitter-archive-enhanced.csv')"
   ]
  },
  {
   "cell_type": "code",
   "execution_count": 3,
   "metadata": {},
   "outputs": [
    {
     "data": {
      "text/html": [
       "<div>\n",
       "<style scoped>\n",
       "    .dataframe tbody tr th:only-of-type {\n",
       "        vertical-align: middle;\n",
       "    }\n",
       "\n",
       "    .dataframe tbody tr th {\n",
       "        vertical-align: top;\n",
       "    }\n",
       "\n",
       "    .dataframe thead th {\n",
       "        text-align: right;\n",
       "    }\n",
       "</style>\n",
       "<table border=\"1\" class=\"dataframe\">\n",
       "  <thead>\n",
       "    <tr style=\"text-align: right;\">\n",
       "      <th></th>\n",
       "      <th>tweet_id</th>\n",
       "      <th>in_reply_to_status_id</th>\n",
       "      <th>in_reply_to_user_id</th>\n",
       "      <th>timestamp</th>\n",
       "      <th>source</th>\n",
       "      <th>text</th>\n",
       "      <th>retweeted_status_id</th>\n",
       "      <th>retweeted_status_user_id</th>\n",
       "      <th>retweeted_status_timestamp</th>\n",
       "      <th>expanded_urls</th>\n",
       "      <th>rating_numerator</th>\n",
       "      <th>rating_denominator</th>\n",
       "      <th>name</th>\n",
       "      <th>doggo</th>\n",
       "      <th>floofer</th>\n",
       "      <th>pupper</th>\n",
       "      <th>puppo</th>\n",
       "    </tr>\n",
       "  </thead>\n",
       "  <tbody>\n",
       "    <tr>\n",
       "      <th>0</th>\n",
       "      <td>892420643555336193</td>\n",
       "      <td>NaN</td>\n",
       "      <td>NaN</td>\n",
       "      <td>2017-08-01 16:23:56 +0000</td>\n",
       "      <td>&lt;a href=\"http://twitter.com/download/iphone\" r...</td>\n",
       "      <td>This is Phineas. He's a mystical boy. Only eve...</td>\n",
       "      <td>NaN</td>\n",
       "      <td>NaN</td>\n",
       "      <td>NaN</td>\n",
       "      <td>https://twitter.com/dog_rates/status/892420643...</td>\n",
       "      <td>13</td>\n",
       "      <td>10</td>\n",
       "      <td>Phineas</td>\n",
       "      <td>None</td>\n",
       "      <td>None</td>\n",
       "      <td>None</td>\n",
       "      <td>None</td>\n",
       "    </tr>\n",
       "    <tr>\n",
       "      <th>1</th>\n",
       "      <td>892177421306343426</td>\n",
       "      <td>NaN</td>\n",
       "      <td>NaN</td>\n",
       "      <td>2017-08-01 00:17:27 +0000</td>\n",
       "      <td>&lt;a href=\"http://twitter.com/download/iphone\" r...</td>\n",
       "      <td>This is Tilly. She's just checking pup on you....</td>\n",
       "      <td>NaN</td>\n",
       "      <td>NaN</td>\n",
       "      <td>NaN</td>\n",
       "      <td>https://twitter.com/dog_rates/status/892177421...</td>\n",
       "      <td>13</td>\n",
       "      <td>10</td>\n",
       "      <td>Tilly</td>\n",
       "      <td>None</td>\n",
       "      <td>None</td>\n",
       "      <td>None</td>\n",
       "      <td>None</td>\n",
       "    </tr>\n",
       "    <tr>\n",
       "      <th>2</th>\n",
       "      <td>891815181378084864</td>\n",
       "      <td>NaN</td>\n",
       "      <td>NaN</td>\n",
       "      <td>2017-07-31 00:18:03 +0000</td>\n",
       "      <td>&lt;a href=\"http://twitter.com/download/iphone\" r...</td>\n",
       "      <td>This is Archie. He is a rare Norwegian Pouncin...</td>\n",
       "      <td>NaN</td>\n",
       "      <td>NaN</td>\n",
       "      <td>NaN</td>\n",
       "      <td>https://twitter.com/dog_rates/status/891815181...</td>\n",
       "      <td>12</td>\n",
       "      <td>10</td>\n",
       "      <td>Archie</td>\n",
       "      <td>None</td>\n",
       "      <td>None</td>\n",
       "      <td>None</td>\n",
       "      <td>None</td>\n",
       "    </tr>\n",
       "  </tbody>\n",
       "</table>\n",
       "</div>"
      ],
      "text/plain": [
       "             tweet_id  in_reply_to_status_id  in_reply_to_user_id  \\\n",
       "0  892420643555336193                    NaN                  NaN   \n",
       "1  892177421306343426                    NaN                  NaN   \n",
       "2  891815181378084864                    NaN                  NaN   \n",
       "\n",
       "                   timestamp  \\\n",
       "0  2017-08-01 16:23:56 +0000   \n",
       "1  2017-08-01 00:17:27 +0000   \n",
       "2  2017-07-31 00:18:03 +0000   \n",
       "\n",
       "                                              source  \\\n",
       "0  <a href=\"http://twitter.com/download/iphone\" r...   \n",
       "1  <a href=\"http://twitter.com/download/iphone\" r...   \n",
       "2  <a href=\"http://twitter.com/download/iphone\" r...   \n",
       "\n",
       "                                                text  retweeted_status_id  \\\n",
       "0  This is Phineas. He's a mystical boy. Only eve...                  NaN   \n",
       "1  This is Tilly. She's just checking pup on you....                  NaN   \n",
       "2  This is Archie. He is a rare Norwegian Pouncin...                  NaN   \n",
       "\n",
       "   retweeted_status_user_id retweeted_status_timestamp  \\\n",
       "0                       NaN                        NaN   \n",
       "1                       NaN                        NaN   \n",
       "2                       NaN                        NaN   \n",
       "\n",
       "                                       expanded_urls  rating_numerator  \\\n",
       "0  https://twitter.com/dog_rates/status/892420643...                13   \n",
       "1  https://twitter.com/dog_rates/status/892177421...                13   \n",
       "2  https://twitter.com/dog_rates/status/891815181...                12   \n",
       "\n",
       "   rating_denominator     name doggo floofer pupper puppo  \n",
       "0                  10  Phineas  None    None   None  None  \n",
       "1                  10    Tilly  None    None   None  None  \n",
       "2                  10   Archie  None    None   None  None  "
      ]
     },
     "execution_count": 3,
     "metadata": {},
     "output_type": "execute_result"
    }
   ],
   "source": [
    "# view first few rows of the dataframe\n",
    "\n",
    "twitter_df.head(3)"
   ]
  },
  {
   "cell_type": "markdown",
   "metadata": {},
   "source": [
    "2. Use the Requests library to download the tweet image prediction (image_predictions.tsv)"
   ]
  },
  {
   "cell_type": "code",
   "execution_count": 4,
   "metadata": {},
   "outputs": [],
   "source": [
    "# url we're downloading the data from\n",
    "url = 'https://d17h27t6h515a5.cloudfront.net/topher/2017/August/599fd2ad_image-predictions/image-predictions.tsv'\n",
    "\n",
    "response = requests.get(url)"
   ]
  },
  {
   "cell_type": "code",
   "execution_count": 5,
   "metadata": {},
   "outputs": [
    {
     "data": {
      "text/plain": [
       "<Response [200]>"
      ]
     },
     "execution_count": 5,
     "metadata": {},
     "output_type": "execute_result"
    }
   ],
   "source": [
    "response"
   ]
  },
  {
   "cell_type": "markdown",
   "metadata": {},
   "source": [
    "Response 200 means that our request to get the data from the url was successful."
   ]
  },
  {
   "cell_type": "code",
   "execution_count": null,
   "metadata": {},
   "outputs": [],
   "source": [
    "with open('image_predictions.tsv', 'wb') as file:\n",
    "    file.write(response.content)"
   ]
  },
  {
   "cell_type": "code",
   "execution_count": 6,
   "metadata": {},
   "outputs": [
    {
     "data": {
      "text/html": [
       "<div>\n",
       "<style scoped>\n",
       "    .dataframe tbody tr th:only-of-type {\n",
       "        vertical-align: middle;\n",
       "    }\n",
       "\n",
       "    .dataframe tbody tr th {\n",
       "        vertical-align: top;\n",
       "    }\n",
       "\n",
       "    .dataframe thead th {\n",
       "        text-align: right;\n",
       "    }\n",
       "</style>\n",
       "<table border=\"1\" class=\"dataframe\">\n",
       "  <thead>\n",
       "    <tr style=\"text-align: right;\">\n",
       "      <th></th>\n",
       "      <th>tweet_id</th>\n",
       "      <th>jpg_url</th>\n",
       "      <th>img_num</th>\n",
       "      <th>p1</th>\n",
       "      <th>p1_conf</th>\n",
       "      <th>p1_dog</th>\n",
       "      <th>p2</th>\n",
       "      <th>p2_conf</th>\n",
       "      <th>p2_dog</th>\n",
       "      <th>p3</th>\n",
       "      <th>p3_conf</th>\n",
       "      <th>p3_dog</th>\n",
       "    </tr>\n",
       "  </thead>\n",
       "  <tbody>\n",
       "    <tr>\n",
       "      <th>0</th>\n",
       "      <td>666020888022790149</td>\n",
       "      <td>https://pbs.twimg.com/media/CT4udn0WwAA0aMy.jpg</td>\n",
       "      <td>1</td>\n",
       "      <td>Welsh_springer_spaniel</td>\n",
       "      <td>0.465074</td>\n",
       "      <td>True</td>\n",
       "      <td>collie</td>\n",
       "      <td>0.156665</td>\n",
       "      <td>True</td>\n",
       "      <td>Shetland_sheepdog</td>\n",
       "      <td>0.061428</td>\n",
       "      <td>True</td>\n",
       "    </tr>\n",
       "    <tr>\n",
       "      <th>1</th>\n",
       "      <td>666029285002620928</td>\n",
       "      <td>https://pbs.twimg.com/media/CT42GRgUYAA5iDo.jpg</td>\n",
       "      <td>1</td>\n",
       "      <td>redbone</td>\n",
       "      <td>0.506826</td>\n",
       "      <td>True</td>\n",
       "      <td>miniature_pinscher</td>\n",
       "      <td>0.074192</td>\n",
       "      <td>True</td>\n",
       "      <td>Rhodesian_ridgeback</td>\n",
       "      <td>0.072010</td>\n",
       "      <td>True</td>\n",
       "    </tr>\n",
       "    <tr>\n",
       "      <th>2</th>\n",
       "      <td>666033412701032449</td>\n",
       "      <td>https://pbs.twimg.com/media/CT4521TWwAEvMyu.jpg</td>\n",
       "      <td>1</td>\n",
       "      <td>German_shepherd</td>\n",
       "      <td>0.596461</td>\n",
       "      <td>True</td>\n",
       "      <td>malinois</td>\n",
       "      <td>0.138584</td>\n",
       "      <td>True</td>\n",
       "      <td>bloodhound</td>\n",
       "      <td>0.116197</td>\n",
       "      <td>True</td>\n",
       "    </tr>\n",
       "  </tbody>\n",
       "</table>\n",
       "</div>"
      ],
      "text/plain": [
       "             tweet_id                                          jpg_url  \\\n",
       "0  666020888022790149  https://pbs.twimg.com/media/CT4udn0WwAA0aMy.jpg   \n",
       "1  666029285002620928  https://pbs.twimg.com/media/CT42GRgUYAA5iDo.jpg   \n",
       "2  666033412701032449  https://pbs.twimg.com/media/CT4521TWwAEvMyu.jpg   \n",
       "\n",
       "   img_num                      p1   p1_conf  p1_dog                  p2  \\\n",
       "0        1  Welsh_springer_spaniel  0.465074    True              collie   \n",
       "1        1                 redbone  0.506826    True  miniature_pinscher   \n",
       "2        1         German_shepherd  0.596461    True            malinois   \n",
       "\n",
       "    p2_conf  p2_dog                   p3   p3_conf  p3_dog  \n",
       "0  0.156665    True    Shetland_sheepdog  0.061428    True  \n",
       "1  0.074192    True  Rhodesian_ridgeback  0.072010    True  \n",
       "2  0.138584    True           bloodhound  0.116197    True  "
      ]
     },
     "execution_count": 6,
     "metadata": {},
     "output_type": "execute_result"
    }
   ],
   "source": [
    "# read the image data into a dataframe\n",
    "image_df = pd.read_csv('image_predictions.tsv', sep='\\t')\n",
    "\n",
    "# view first few rows of the dataframe\n",
    "image_df.head(3)"
   ]
  },
  {
   "cell_type": "markdown",
   "metadata": {},
   "source": [
    "3. Use the Tweepy library to query additional data via the Twitter API (tweet_json.txt)"
   ]
  },
  {
   "cell_type": "code",
   "execution_count": null,
   "metadata": {},
   "outputs": [],
   "source": [
    "# keys and token to access the API\n",
    "consumer_key = 'CONSUMER KEY'\n",
    "consumer_secret = 'CONSUMER SECRET'\n",
    "access_token = 'ACCESS TOKEN'\n",
    "access_secret = 'ACCESS SECRET'\n",
    "\n",
    "# access the API\n",
    "auth = tweepy.OAuthHandler(consumer_key, consumer_secret)\n",
    "auth.set_access_token(access_token, access_secret)\n",
    "\n",
    "api = tweepy.API(auth, wait_on_rate_limit=True)"
   ]
  },
  {
   "cell_type": "code",
   "execution_count": null,
   "metadata": {},
   "outputs": [],
   "source": [
    "# get all the tweet ids in twitter_df\n",
    "tweet_ids = list(twitter_df['tweet_id'].unique())\n",
    "\n",
    "# for each id, get the tweet data and write it to a txt file, tweet_json.txt\n",
    "with open('tweet_json.txt', 'w') as file:\n",
    "    for tweet_id in tweet_ids:\n",
    "        # To monitor which tweet we're working on currently\n",
    "        print(f'Gathering id: {tweet_id}')\n",
    "        try:\n",
    "            # get the tweet for the tweet_id given, extended tweet mode gives extra data\n",
    "            tweet = api.get_status(tweet_id, tweet_mode='extended')\n",
    "            # load the data into our file. It is loaded as json\n",
    "            json.dump(tweet._json, file)\n",
    "            # add a new line after so that each tweet would be on a separate line.\n",
    "            file.write('\\n')\n",
    "        except Exception as e:\n",
    "            print(f'Error with {tweet_id} id: {str(e)}')\n",
    "        "
   ]
  },
  {
   "cell_type": "code",
   "execution_count": 7,
   "metadata": {},
   "outputs": [
    {
     "data": {
      "text/html": [
       "<div>\n",
       "<style scoped>\n",
       "    .dataframe tbody tr th:only-of-type {\n",
       "        vertical-align: middle;\n",
       "    }\n",
       "\n",
       "    .dataframe tbody tr th {\n",
       "        vertical-align: top;\n",
       "    }\n",
       "\n",
       "    .dataframe thead th {\n",
       "        text-align: right;\n",
       "    }\n",
       "</style>\n",
       "<table border=\"1\" class=\"dataframe\">\n",
       "  <thead>\n",
       "    <tr style=\"text-align: right;\">\n",
       "      <th></th>\n",
       "      <th>tweet_id</th>\n",
       "      <th>retweet_count</th>\n",
       "      <th>favorite_count</th>\n",
       "      <th>retweeted</th>\n",
       "      <th>favorited</th>\n",
       "      <th>is_quote_status</th>\n",
       "      <th>display_text_range</th>\n",
       "    </tr>\n",
       "  </thead>\n",
       "  <tbody>\n",
       "    <tr>\n",
       "      <th>0</th>\n",
       "      <td>892420643555336193</td>\n",
       "      <td>7036</td>\n",
       "      <td>33872</td>\n",
       "      <td>False</td>\n",
       "      <td>False</td>\n",
       "      <td>False</td>\n",
       "      <td>[0, 85]</td>\n",
       "    </tr>\n",
       "    <tr>\n",
       "      <th>1</th>\n",
       "      <td>892177421306343426</td>\n",
       "      <td>5312</td>\n",
       "      <td>29385</td>\n",
       "      <td>False</td>\n",
       "      <td>False</td>\n",
       "      <td>False</td>\n",
       "      <td>[0, 138]</td>\n",
       "    </tr>\n",
       "    <tr>\n",
       "      <th>2</th>\n",
       "      <td>891815181378084864</td>\n",
       "      <td>3491</td>\n",
       "      <td>22100</td>\n",
       "      <td>False</td>\n",
       "      <td>False</td>\n",
       "      <td>False</td>\n",
       "      <td>[0, 121]</td>\n",
       "    </tr>\n",
       "    <tr>\n",
       "      <th>3</th>\n",
       "      <td>891689557279858688</td>\n",
       "      <td>7243</td>\n",
       "      <td>36999</td>\n",
       "      <td>False</td>\n",
       "      <td>False</td>\n",
       "      <td>False</td>\n",
       "      <td>[0, 79]</td>\n",
       "    </tr>\n",
       "    <tr>\n",
       "      <th>4</th>\n",
       "      <td>891327558926688256</td>\n",
       "      <td>7784</td>\n",
       "      <td>35374</td>\n",
       "      <td>False</td>\n",
       "      <td>False</td>\n",
       "      <td>False</td>\n",
       "      <td>[0, 138]</td>\n",
       "    </tr>\n",
       "  </tbody>\n",
       "</table>\n",
       "</div>"
      ],
      "text/plain": [
       "             tweet_id  retweet_count  favorite_count  retweeted  favorited  \\\n",
       "0  892420643555336193           7036           33872      False      False   \n",
       "1  892177421306343426           5312           29385      False      False   \n",
       "2  891815181378084864           3491           22100      False      False   \n",
       "3  891689557279858688           7243           36999      False      False   \n",
       "4  891327558926688256           7784           35374      False      False   \n",
       "\n",
       "   is_quote_status display_text_range  \n",
       "0            False            [0, 85]  \n",
       "1            False           [0, 138]  \n",
       "2            False           [0, 121]  \n",
       "3            False            [0, 79]  \n",
       "4            False           [0, 138]  "
      ]
     },
     "execution_count": 7,
     "metadata": {},
     "output_type": "execute_result"
    }
   ],
   "source": [
    "# create a list to store dictionaries for each tweet. This is to be converted to a dataframe later.\n",
    "api_tweets = []\n",
    "\n",
    "# read the created file\n",
    "with open(\"tweet_json.txt\", \"r\") as file:\n",
    "    for line in file:\n",
    "        try: \n",
    "            tweet = json.loads(line)\n",
    "            # append a dictionary to the created list            \n",
    "            api_tweets.append({\n",
    "                \"tweet_id\": tweet[\"id\"],\n",
    "                \"retweet_count\": tweet[\"retweet_count\"],\n",
    "                \"favorite_count\": tweet[\"favorite_count\"],\n",
    "                \"retweeted\": tweet[\"retweeted\"],\n",
    "                \"favorited\": tweet[\"favorited\"],\n",
    "                \"is_quote_status\": tweet[\"is_quote_status\"],\n",
    "                \"display_text_range\": tweet[\"display_text_range\"]                \n",
    "            })               \n",
    "\n",
    "        except:\n",
    "            print(\"Error.\") \n",
    "            \n",
    "# create dataframe from the list of dictionaries created\n",
    "api_df = pd.DataFrame(api_tweets, columns = [\"tweet_id\", \"retweet_count\", \"favorite_count\", \"retweeted\", \"favorited\", \"is_quote_status\", \"display_text_range\"])\n",
    "# view first five rows of the newly created dataframe\n",
    "api_df.head()"
   ]
  },
  {
   "cell_type": "markdown",
   "metadata": {},
   "source": [
    "-------------------------------------------------------------------------------------------------------------------------------"
   ]
  },
  {
   "cell_type": "markdown",
   "metadata": {
    "extensions": {
     "jupyter_dashboards": {
      "version": 1,
      "views": {
       "grid_default": {
        "col": 4,
        "height": 4,
        "hidden": false,
        "row": 28,
        "width": 4
       },
       "report_default": {
        "hidden": false
       }
      }
     }
    }
   },
   "source": [
    "## Assessing Data\n",
    "\n",
    "**Note:** pay attention to the following key points when you access the data.\n",
    "\n",
    "* You only want original ratings (no retweets) that have images. Though there are 5000+ tweets in the dataset, not all are dog ratings and some are retweets.\n",
    "* Assessing and cleaning the entire dataset completely would require a lot of time, and is not necessary to practice and demonstrate your skills in data wrangling. Therefore, the requirements of this project are only to assess and clean at least 8 quality issues and at least 2 tidiness issues in this dataset.\n",
    "* The fact that the rating numerators are greater than the denominators does not need to be cleaned. This [unique rating system](http://knowyourmeme.com/memes/theyre-good-dogs-brent) is a big part of the popularity of WeRateDogs.\n",
    "* You do not need to gather the tweets beyond August 1st, 2017. You can, but note that you won't be able to gather the image predictions for these tweets since you don't have access to the algorithm used.\n",
    "\n"
   ]
  },
  {
   "cell_type": "markdown",
   "metadata": {},
   "source": [
    "### Assess twitter_df"
   ]
  },
  {
   "cell_type": "markdown",
   "metadata": {},
   "source": [
    "##### Visual assessment"
   ]
  },
  {
   "cell_type": "code",
   "execution_count": 8,
   "metadata": {},
   "outputs": [
    {
     "data": {
      "text/html": [
       "<div>\n",
       "<style scoped>\n",
       "    .dataframe tbody tr th:only-of-type {\n",
       "        vertical-align: middle;\n",
       "    }\n",
       "\n",
       "    .dataframe tbody tr th {\n",
       "        vertical-align: top;\n",
       "    }\n",
       "\n",
       "    .dataframe thead th {\n",
       "        text-align: right;\n",
       "    }\n",
       "</style>\n",
       "<table border=\"1\" class=\"dataframe\">\n",
       "  <thead>\n",
       "    <tr style=\"text-align: right;\">\n",
       "      <th></th>\n",
       "      <th>tweet_id</th>\n",
       "      <th>in_reply_to_status_id</th>\n",
       "      <th>in_reply_to_user_id</th>\n",
       "      <th>timestamp</th>\n",
       "      <th>source</th>\n",
       "      <th>text</th>\n",
       "      <th>retweeted_status_id</th>\n",
       "      <th>retweeted_status_user_id</th>\n",
       "      <th>retweeted_status_timestamp</th>\n",
       "      <th>expanded_urls</th>\n",
       "      <th>rating_numerator</th>\n",
       "      <th>rating_denominator</th>\n",
       "      <th>name</th>\n",
       "      <th>doggo</th>\n",
       "      <th>floofer</th>\n",
       "      <th>pupper</th>\n",
       "      <th>puppo</th>\n",
       "    </tr>\n",
       "  </thead>\n",
       "  <tbody>\n",
       "    <tr>\n",
       "      <th>0</th>\n",
       "      <td>892420643555336193</td>\n",
       "      <td>NaN</td>\n",
       "      <td>NaN</td>\n",
       "      <td>2017-08-01 16:23:56 +0000</td>\n",
       "      <td>&lt;a href=\"http://twitter.com/download/iphone\" r...</td>\n",
       "      <td>This is Phineas. He's a mystical boy. Only eve...</td>\n",
       "      <td>NaN</td>\n",
       "      <td>NaN</td>\n",
       "      <td>NaN</td>\n",
       "      <td>https://twitter.com/dog_rates/status/892420643...</td>\n",
       "      <td>13</td>\n",
       "      <td>10</td>\n",
       "      <td>Phineas</td>\n",
       "      <td>None</td>\n",
       "      <td>None</td>\n",
       "      <td>None</td>\n",
       "      <td>None</td>\n",
       "    </tr>\n",
       "    <tr>\n",
       "      <th>1</th>\n",
       "      <td>892177421306343426</td>\n",
       "      <td>NaN</td>\n",
       "      <td>NaN</td>\n",
       "      <td>2017-08-01 00:17:27 +0000</td>\n",
       "      <td>&lt;a href=\"http://twitter.com/download/iphone\" r...</td>\n",
       "      <td>This is Tilly. She's just checking pup on you....</td>\n",
       "      <td>NaN</td>\n",
       "      <td>NaN</td>\n",
       "      <td>NaN</td>\n",
       "      <td>https://twitter.com/dog_rates/status/892177421...</td>\n",
       "      <td>13</td>\n",
       "      <td>10</td>\n",
       "      <td>Tilly</td>\n",
       "      <td>None</td>\n",
       "      <td>None</td>\n",
       "      <td>None</td>\n",
       "      <td>None</td>\n",
       "    </tr>\n",
       "    <tr>\n",
       "      <th>2</th>\n",
       "      <td>891815181378084864</td>\n",
       "      <td>NaN</td>\n",
       "      <td>NaN</td>\n",
       "      <td>2017-07-31 00:18:03 +0000</td>\n",
       "      <td>&lt;a href=\"http://twitter.com/download/iphone\" r...</td>\n",
       "      <td>This is Archie. He is a rare Norwegian Pouncin...</td>\n",
       "      <td>NaN</td>\n",
       "      <td>NaN</td>\n",
       "      <td>NaN</td>\n",
       "      <td>https://twitter.com/dog_rates/status/891815181...</td>\n",
       "      <td>12</td>\n",
       "      <td>10</td>\n",
       "      <td>Archie</td>\n",
       "      <td>None</td>\n",
       "      <td>None</td>\n",
       "      <td>None</td>\n",
       "      <td>None</td>\n",
       "    </tr>\n",
       "    <tr>\n",
       "      <th>3</th>\n",
       "      <td>891689557279858688</td>\n",
       "      <td>NaN</td>\n",
       "      <td>NaN</td>\n",
       "      <td>2017-07-30 15:58:51 +0000</td>\n",
       "      <td>&lt;a href=\"http://twitter.com/download/iphone\" r...</td>\n",
       "      <td>This is Darla. She commenced a snooze mid meal...</td>\n",
       "      <td>NaN</td>\n",
       "      <td>NaN</td>\n",
       "      <td>NaN</td>\n",
       "      <td>https://twitter.com/dog_rates/status/891689557...</td>\n",
       "      <td>13</td>\n",
       "      <td>10</td>\n",
       "      <td>Darla</td>\n",
       "      <td>None</td>\n",
       "      <td>None</td>\n",
       "      <td>None</td>\n",
       "      <td>None</td>\n",
       "    </tr>\n",
       "    <tr>\n",
       "      <th>4</th>\n",
       "      <td>891327558926688256</td>\n",
       "      <td>NaN</td>\n",
       "      <td>NaN</td>\n",
       "      <td>2017-07-29 16:00:24 +0000</td>\n",
       "      <td>&lt;a href=\"http://twitter.com/download/iphone\" r...</td>\n",
       "      <td>This is Franklin. He would like you to stop ca...</td>\n",
       "      <td>NaN</td>\n",
       "      <td>NaN</td>\n",
       "      <td>NaN</td>\n",
       "      <td>https://twitter.com/dog_rates/status/891327558...</td>\n",
       "      <td>12</td>\n",
       "      <td>10</td>\n",
       "      <td>Franklin</td>\n",
       "      <td>None</td>\n",
       "      <td>None</td>\n",
       "      <td>None</td>\n",
       "      <td>None</td>\n",
       "    </tr>\n",
       "    <tr>\n",
       "      <th>...</th>\n",
       "      <td>...</td>\n",
       "      <td>...</td>\n",
       "      <td>...</td>\n",
       "      <td>...</td>\n",
       "      <td>...</td>\n",
       "      <td>...</td>\n",
       "      <td>...</td>\n",
       "      <td>...</td>\n",
       "      <td>...</td>\n",
       "      <td>...</td>\n",
       "      <td>...</td>\n",
       "      <td>...</td>\n",
       "      <td>...</td>\n",
       "      <td>...</td>\n",
       "      <td>...</td>\n",
       "      <td>...</td>\n",
       "      <td>...</td>\n",
       "    </tr>\n",
       "    <tr>\n",
       "      <th>2351</th>\n",
       "      <td>666049248165822465</td>\n",
       "      <td>NaN</td>\n",
       "      <td>NaN</td>\n",
       "      <td>2015-11-16 00:24:50 +0000</td>\n",
       "      <td>&lt;a href=\"http://twitter.com/download/iphone\" r...</td>\n",
       "      <td>Here we have a 1949 1st generation vulpix. Enj...</td>\n",
       "      <td>NaN</td>\n",
       "      <td>NaN</td>\n",
       "      <td>NaN</td>\n",
       "      <td>https://twitter.com/dog_rates/status/666049248...</td>\n",
       "      <td>5</td>\n",
       "      <td>10</td>\n",
       "      <td>None</td>\n",
       "      <td>None</td>\n",
       "      <td>None</td>\n",
       "      <td>None</td>\n",
       "      <td>None</td>\n",
       "    </tr>\n",
       "    <tr>\n",
       "      <th>2352</th>\n",
       "      <td>666044226329800704</td>\n",
       "      <td>NaN</td>\n",
       "      <td>NaN</td>\n",
       "      <td>2015-11-16 00:04:52 +0000</td>\n",
       "      <td>&lt;a href=\"http://twitter.com/download/iphone\" r...</td>\n",
       "      <td>This is a purebred Piers Morgan. Loves to Netf...</td>\n",
       "      <td>NaN</td>\n",
       "      <td>NaN</td>\n",
       "      <td>NaN</td>\n",
       "      <td>https://twitter.com/dog_rates/status/666044226...</td>\n",
       "      <td>6</td>\n",
       "      <td>10</td>\n",
       "      <td>a</td>\n",
       "      <td>None</td>\n",
       "      <td>None</td>\n",
       "      <td>None</td>\n",
       "      <td>None</td>\n",
       "    </tr>\n",
       "    <tr>\n",
       "      <th>2353</th>\n",
       "      <td>666033412701032449</td>\n",
       "      <td>NaN</td>\n",
       "      <td>NaN</td>\n",
       "      <td>2015-11-15 23:21:54 +0000</td>\n",
       "      <td>&lt;a href=\"http://twitter.com/download/iphone\" r...</td>\n",
       "      <td>Here is a very happy pup. Big fan of well-main...</td>\n",
       "      <td>NaN</td>\n",
       "      <td>NaN</td>\n",
       "      <td>NaN</td>\n",
       "      <td>https://twitter.com/dog_rates/status/666033412...</td>\n",
       "      <td>9</td>\n",
       "      <td>10</td>\n",
       "      <td>a</td>\n",
       "      <td>None</td>\n",
       "      <td>None</td>\n",
       "      <td>None</td>\n",
       "      <td>None</td>\n",
       "    </tr>\n",
       "    <tr>\n",
       "      <th>2354</th>\n",
       "      <td>666029285002620928</td>\n",
       "      <td>NaN</td>\n",
       "      <td>NaN</td>\n",
       "      <td>2015-11-15 23:05:30 +0000</td>\n",
       "      <td>&lt;a href=\"http://twitter.com/download/iphone\" r...</td>\n",
       "      <td>This is a western brown Mitsubishi terrier. Up...</td>\n",
       "      <td>NaN</td>\n",
       "      <td>NaN</td>\n",
       "      <td>NaN</td>\n",
       "      <td>https://twitter.com/dog_rates/status/666029285...</td>\n",
       "      <td>7</td>\n",
       "      <td>10</td>\n",
       "      <td>a</td>\n",
       "      <td>None</td>\n",
       "      <td>None</td>\n",
       "      <td>None</td>\n",
       "      <td>None</td>\n",
       "    </tr>\n",
       "    <tr>\n",
       "      <th>2355</th>\n",
       "      <td>666020888022790149</td>\n",
       "      <td>NaN</td>\n",
       "      <td>NaN</td>\n",
       "      <td>2015-11-15 22:32:08 +0000</td>\n",
       "      <td>&lt;a href=\"http://twitter.com/download/iphone\" r...</td>\n",
       "      <td>Here we have a Japanese Irish Setter. Lost eye...</td>\n",
       "      <td>NaN</td>\n",
       "      <td>NaN</td>\n",
       "      <td>NaN</td>\n",
       "      <td>https://twitter.com/dog_rates/status/666020888...</td>\n",
       "      <td>8</td>\n",
       "      <td>10</td>\n",
       "      <td>None</td>\n",
       "      <td>None</td>\n",
       "      <td>None</td>\n",
       "      <td>None</td>\n",
       "      <td>None</td>\n",
       "    </tr>\n",
       "  </tbody>\n",
       "</table>\n",
       "<p>2356 rows × 17 columns</p>\n",
       "</div>"
      ],
      "text/plain": [
       "                tweet_id  in_reply_to_status_id  in_reply_to_user_id  \\\n",
       "0     892420643555336193                    NaN                  NaN   \n",
       "1     892177421306343426                    NaN                  NaN   \n",
       "2     891815181378084864                    NaN                  NaN   \n",
       "3     891689557279858688                    NaN                  NaN   \n",
       "4     891327558926688256                    NaN                  NaN   \n",
       "...                  ...                    ...                  ...   \n",
       "2351  666049248165822465                    NaN                  NaN   \n",
       "2352  666044226329800704                    NaN                  NaN   \n",
       "2353  666033412701032449                    NaN                  NaN   \n",
       "2354  666029285002620928                    NaN                  NaN   \n",
       "2355  666020888022790149                    NaN                  NaN   \n",
       "\n",
       "                      timestamp  \\\n",
       "0     2017-08-01 16:23:56 +0000   \n",
       "1     2017-08-01 00:17:27 +0000   \n",
       "2     2017-07-31 00:18:03 +0000   \n",
       "3     2017-07-30 15:58:51 +0000   \n",
       "4     2017-07-29 16:00:24 +0000   \n",
       "...                         ...   \n",
       "2351  2015-11-16 00:24:50 +0000   \n",
       "2352  2015-11-16 00:04:52 +0000   \n",
       "2353  2015-11-15 23:21:54 +0000   \n",
       "2354  2015-11-15 23:05:30 +0000   \n",
       "2355  2015-11-15 22:32:08 +0000   \n",
       "\n",
       "                                                 source  \\\n",
       "0     <a href=\"http://twitter.com/download/iphone\" r...   \n",
       "1     <a href=\"http://twitter.com/download/iphone\" r...   \n",
       "2     <a href=\"http://twitter.com/download/iphone\" r...   \n",
       "3     <a href=\"http://twitter.com/download/iphone\" r...   \n",
       "4     <a href=\"http://twitter.com/download/iphone\" r...   \n",
       "...                                                 ...   \n",
       "2351  <a href=\"http://twitter.com/download/iphone\" r...   \n",
       "2352  <a href=\"http://twitter.com/download/iphone\" r...   \n",
       "2353  <a href=\"http://twitter.com/download/iphone\" r...   \n",
       "2354  <a href=\"http://twitter.com/download/iphone\" r...   \n",
       "2355  <a href=\"http://twitter.com/download/iphone\" r...   \n",
       "\n",
       "                                                   text  retweeted_status_id  \\\n",
       "0     This is Phineas. He's a mystical boy. Only eve...                  NaN   \n",
       "1     This is Tilly. She's just checking pup on you....                  NaN   \n",
       "2     This is Archie. He is a rare Norwegian Pouncin...                  NaN   \n",
       "3     This is Darla. She commenced a snooze mid meal...                  NaN   \n",
       "4     This is Franklin. He would like you to stop ca...                  NaN   \n",
       "...                                                 ...                  ...   \n",
       "2351  Here we have a 1949 1st generation vulpix. Enj...                  NaN   \n",
       "2352  This is a purebred Piers Morgan. Loves to Netf...                  NaN   \n",
       "2353  Here is a very happy pup. Big fan of well-main...                  NaN   \n",
       "2354  This is a western brown Mitsubishi terrier. Up...                  NaN   \n",
       "2355  Here we have a Japanese Irish Setter. Lost eye...                  NaN   \n",
       "\n",
       "      retweeted_status_user_id retweeted_status_timestamp  \\\n",
       "0                          NaN                        NaN   \n",
       "1                          NaN                        NaN   \n",
       "2                          NaN                        NaN   \n",
       "3                          NaN                        NaN   \n",
       "4                          NaN                        NaN   \n",
       "...                        ...                        ...   \n",
       "2351                       NaN                        NaN   \n",
       "2352                       NaN                        NaN   \n",
       "2353                       NaN                        NaN   \n",
       "2354                       NaN                        NaN   \n",
       "2355                       NaN                        NaN   \n",
       "\n",
       "                                          expanded_urls  rating_numerator  \\\n",
       "0     https://twitter.com/dog_rates/status/892420643...                13   \n",
       "1     https://twitter.com/dog_rates/status/892177421...                13   \n",
       "2     https://twitter.com/dog_rates/status/891815181...                12   \n",
       "3     https://twitter.com/dog_rates/status/891689557...                13   \n",
       "4     https://twitter.com/dog_rates/status/891327558...                12   \n",
       "...                                                 ...               ...   \n",
       "2351  https://twitter.com/dog_rates/status/666049248...                 5   \n",
       "2352  https://twitter.com/dog_rates/status/666044226...                 6   \n",
       "2353  https://twitter.com/dog_rates/status/666033412...                 9   \n",
       "2354  https://twitter.com/dog_rates/status/666029285...                 7   \n",
       "2355  https://twitter.com/dog_rates/status/666020888...                 8   \n",
       "\n",
       "      rating_denominator      name doggo floofer pupper puppo  \n",
       "0                     10   Phineas  None    None   None  None  \n",
       "1                     10     Tilly  None    None   None  None  \n",
       "2                     10    Archie  None    None   None  None  \n",
       "3                     10     Darla  None    None   None  None  \n",
       "4                     10  Franklin  None    None   None  None  \n",
       "...                  ...       ...   ...     ...    ...   ...  \n",
       "2351                  10      None  None    None   None  None  \n",
       "2352                  10         a  None    None   None  None  \n",
       "2353                  10         a  None    None   None  None  \n",
       "2354                  10         a  None    None   None  None  \n",
       "2355                  10      None  None    None   None  None  \n",
       "\n",
       "[2356 rows x 17 columns]"
      ]
     },
     "execution_count": 8,
     "metadata": {},
     "output_type": "execute_result"
    }
   ],
   "source": [
    "# scrolling through to see if I can spot any issues with the data. \n",
    "twitter_df"
   ]
  },
  {
   "cell_type": "markdown",
   "metadata": {},
   "source": [
    "* The `name` columns has 'a' and 'None' as the name of a Dog.\n",
    "* Most of the rows in the `doggo`, `floofer`, `puppo` and `pupper` columns have 'None' as its value\n",
    "* The `doggo`, `floofer`, `puppo` and `pupper` columns could be combined into one column since they are all stages a Dog is in."
   ]
  },
  {
   "cell_type": "markdown",
   "metadata": {},
   "source": [
    "##### Programmatic assessment"
   ]
  },
  {
   "cell_type": "code",
   "execution_count": 9,
   "metadata": {},
   "outputs": [
    {
     "name": "stdout",
     "output_type": "stream",
     "text": [
      "<class 'pandas.core.frame.DataFrame'>\n",
      "RangeIndex: 2356 entries, 0 to 2355\n",
      "Data columns (total 17 columns):\n",
      " #   Column                      Non-Null Count  Dtype  \n",
      "---  ------                      --------------  -----  \n",
      " 0   tweet_id                    2356 non-null   int64  \n",
      " 1   in_reply_to_status_id       78 non-null     float64\n",
      " 2   in_reply_to_user_id         78 non-null     float64\n",
      " 3   timestamp                   2356 non-null   object \n",
      " 4   source                      2356 non-null   object \n",
      " 5   text                        2356 non-null   object \n",
      " 6   retweeted_status_id         181 non-null    float64\n",
      " 7   retweeted_status_user_id    181 non-null    float64\n",
      " 8   retweeted_status_timestamp  181 non-null    object \n",
      " 9   expanded_urls               2297 non-null   object \n",
      " 10  rating_numerator            2356 non-null   int64  \n",
      " 11  rating_denominator          2356 non-null   int64  \n",
      " 12  name                        2356 non-null   object \n",
      " 13  doggo                       2356 non-null   object \n",
      " 14  floofer                     2356 non-null   object \n",
      " 15  pupper                      2356 non-null   object \n",
      " 16  puppo                       2356 non-null   object \n",
      "dtypes: float64(4), int64(3), object(10)\n",
      "memory usage: 313.0+ KB\n"
     ]
    }
   ],
   "source": [
    "# using pandas functions/methods to assess the data.\n",
    "twitter_df.info()"
   ]
  },
  {
   "cell_type": "markdown",
   "metadata": {},
   "source": [
    "* `timestamp` column is an object type. It should be of type datetime.\n",
    "* `tweet_id` is not a numeric value. it should be of type object."
   ]
  },
  {
   "cell_type": "code",
   "execution_count": 10,
   "metadata": {},
   "outputs": [
    {
     "data": {
      "text/plain": [
       "None       745\n",
       "a           55\n",
       "Charlie     12\n",
       "Oliver      11\n",
       "Lucy        11\n",
       "          ... \n",
       "Severus      1\n",
       "Tanner       1\n",
       "Pippin       1\n",
       "Jay          1\n",
       "Gabby        1\n",
       "Name: name, Length: 957, dtype: int64"
      ]
     },
     "execution_count": 10,
     "metadata": {},
     "output_type": "execute_result"
    }
   ],
   "source": [
    "# view the unique values in the name column and how many times they appear.\n",
    "twitter_df['name'].value_counts()"
   ]
  },
  {
   "cell_type": "markdown",
   "metadata": {},
   "source": [
    "* Most of the names of the dogs are 'None', next highest are dog names with 'a' as the name."
   ]
  },
  {
   "cell_type": "code",
   "execution_count": 11,
   "metadata": {},
   "outputs": [
    {
     "data": {
      "text/html": [
       "<div>\n",
       "<style scoped>\n",
       "    .dataframe tbody tr th:only-of-type {\n",
       "        vertical-align: middle;\n",
       "    }\n",
       "\n",
       "    .dataframe tbody tr th {\n",
       "        vertical-align: top;\n",
       "    }\n",
       "\n",
       "    .dataframe thead th {\n",
       "        text-align: right;\n",
       "    }\n",
       "</style>\n",
       "<table border=\"1\" class=\"dataframe\">\n",
       "  <thead>\n",
       "    <tr style=\"text-align: right;\">\n",
       "      <th></th>\n",
       "      <th>tweet_id</th>\n",
       "      <th>in_reply_to_status_id</th>\n",
       "      <th>in_reply_to_user_id</th>\n",
       "      <th>timestamp</th>\n",
       "      <th>source</th>\n",
       "      <th>text</th>\n",
       "      <th>retweeted_status_id</th>\n",
       "      <th>retweeted_status_user_id</th>\n",
       "      <th>retweeted_status_timestamp</th>\n",
       "      <th>expanded_urls</th>\n",
       "      <th>rating_numerator</th>\n",
       "      <th>rating_denominator</th>\n",
       "      <th>name</th>\n",
       "      <th>doggo</th>\n",
       "      <th>floofer</th>\n",
       "      <th>pupper</th>\n",
       "      <th>puppo</th>\n",
       "    </tr>\n",
       "  </thead>\n",
       "  <tbody>\n",
       "    <tr>\n",
       "      <th>19</th>\n",
       "      <td>888202515573088257</td>\n",
       "      <td>NaN</td>\n",
       "      <td>NaN</td>\n",
       "      <td>2017-07-21 01:02:36 +0000</td>\n",
       "      <td>&lt;a href=\"http://twitter.com/download/iphone\" r...</td>\n",
       "      <td>RT @dog_rates: This is Canela. She attempted s...</td>\n",
       "      <td>8.874740e+17</td>\n",
       "      <td>4.196984e+09</td>\n",
       "      <td>2017-07-19 00:47:34 +0000</td>\n",
       "      <td>https://twitter.com/dog_rates/status/887473957...</td>\n",
       "      <td>13</td>\n",
       "      <td>10</td>\n",
       "      <td>Canela</td>\n",
       "      <td>None</td>\n",
       "      <td>None</td>\n",
       "      <td>None</td>\n",
       "      <td>None</td>\n",
       "    </tr>\n",
       "    <tr>\n",
       "      <th>32</th>\n",
       "      <td>886054160059072513</td>\n",
       "      <td>NaN</td>\n",
       "      <td>NaN</td>\n",
       "      <td>2017-07-15 02:45:48 +0000</td>\n",
       "      <td>&lt;a href=\"http://twitter.com/download/iphone\" r...</td>\n",
       "      <td>RT @Athletics: 12/10 #BATP https://t.co/WxwJmv...</td>\n",
       "      <td>8.860537e+17</td>\n",
       "      <td>1.960740e+07</td>\n",
       "      <td>2017-07-15 02:44:07 +0000</td>\n",
       "      <td>https://twitter.com/dog_rates/status/886053434...</td>\n",
       "      <td>12</td>\n",
       "      <td>10</td>\n",
       "      <td>None</td>\n",
       "      <td>None</td>\n",
       "      <td>None</td>\n",
       "      <td>None</td>\n",
       "      <td>None</td>\n",
       "    </tr>\n",
       "    <tr>\n",
       "      <th>36</th>\n",
       "      <td>885311592912609280</td>\n",
       "      <td>NaN</td>\n",
       "      <td>NaN</td>\n",
       "      <td>2017-07-13 01:35:06 +0000</td>\n",
       "      <td>&lt;a href=\"http://twitter.com/download/iphone\" r...</td>\n",
       "      <td>RT @dog_rates: This is Lilly. She just paralle...</td>\n",
       "      <td>8.305833e+17</td>\n",
       "      <td>4.196984e+09</td>\n",
       "      <td>2017-02-12 01:04:29 +0000</td>\n",
       "      <td>https://twitter.com/dog_rates/status/830583320...</td>\n",
       "      <td>13</td>\n",
       "      <td>10</td>\n",
       "      <td>Lilly</td>\n",
       "      <td>None</td>\n",
       "      <td>None</td>\n",
       "      <td>None</td>\n",
       "      <td>None</td>\n",
       "    </tr>\n",
       "    <tr>\n",
       "      <th>68</th>\n",
       "      <td>879130579576475649</td>\n",
       "      <td>NaN</td>\n",
       "      <td>NaN</td>\n",
       "      <td>2017-06-26 00:13:58 +0000</td>\n",
       "      <td>&lt;a href=\"http://twitter.com/download/iphone\" r...</td>\n",
       "      <td>RT @dog_rates: This is Emmy. She was adopted t...</td>\n",
       "      <td>8.780576e+17</td>\n",
       "      <td>4.196984e+09</td>\n",
       "      <td>2017-06-23 01:10:23 +0000</td>\n",
       "      <td>https://twitter.com/dog_rates/status/878057613...</td>\n",
       "      <td>14</td>\n",
       "      <td>10</td>\n",
       "      <td>Emmy</td>\n",
       "      <td>None</td>\n",
       "      <td>None</td>\n",
       "      <td>None</td>\n",
       "      <td>None</td>\n",
       "    </tr>\n",
       "    <tr>\n",
       "      <th>73</th>\n",
       "      <td>878404777348136964</td>\n",
       "      <td>NaN</td>\n",
       "      <td>NaN</td>\n",
       "      <td>2017-06-24 00:09:53 +0000</td>\n",
       "      <td>&lt;a href=\"http://twitter.com/download/iphone\" r...</td>\n",
       "      <td>RT @dog_rates: Meet Shadow. In an attempt to r...</td>\n",
       "      <td>8.782815e+17</td>\n",
       "      <td>4.196984e+09</td>\n",
       "      <td>2017-06-23 16:00:04 +0000</td>\n",
       "      <td>https://www.gofundme.com/3yd6y1c,https://twitt...</td>\n",
       "      <td>13</td>\n",
       "      <td>10</td>\n",
       "      <td>Shadow</td>\n",
       "      <td>None</td>\n",
       "      <td>None</td>\n",
       "      <td>None</td>\n",
       "      <td>None</td>\n",
       "    </tr>\n",
       "  </tbody>\n",
       "</table>\n",
       "</div>"
      ],
      "text/plain": [
       "              tweet_id  in_reply_to_status_id  in_reply_to_user_id  \\\n",
       "19  888202515573088257                    NaN                  NaN   \n",
       "32  886054160059072513                    NaN                  NaN   \n",
       "36  885311592912609280                    NaN                  NaN   \n",
       "68  879130579576475649                    NaN                  NaN   \n",
       "73  878404777348136964                    NaN                  NaN   \n",
       "\n",
       "                    timestamp  \\\n",
       "19  2017-07-21 01:02:36 +0000   \n",
       "32  2017-07-15 02:45:48 +0000   \n",
       "36  2017-07-13 01:35:06 +0000   \n",
       "68  2017-06-26 00:13:58 +0000   \n",
       "73  2017-06-24 00:09:53 +0000   \n",
       "\n",
       "                                               source  \\\n",
       "19  <a href=\"http://twitter.com/download/iphone\" r...   \n",
       "32  <a href=\"http://twitter.com/download/iphone\" r...   \n",
       "36  <a href=\"http://twitter.com/download/iphone\" r...   \n",
       "68  <a href=\"http://twitter.com/download/iphone\" r...   \n",
       "73  <a href=\"http://twitter.com/download/iphone\" r...   \n",
       "\n",
       "                                                 text  retweeted_status_id  \\\n",
       "19  RT @dog_rates: This is Canela. She attempted s...         8.874740e+17   \n",
       "32  RT @Athletics: 12/10 #BATP https://t.co/WxwJmv...         8.860537e+17   \n",
       "36  RT @dog_rates: This is Lilly. She just paralle...         8.305833e+17   \n",
       "68  RT @dog_rates: This is Emmy. She was adopted t...         8.780576e+17   \n",
       "73  RT @dog_rates: Meet Shadow. In an attempt to r...         8.782815e+17   \n",
       "\n",
       "    retweeted_status_user_id retweeted_status_timestamp  \\\n",
       "19              4.196984e+09  2017-07-19 00:47:34 +0000   \n",
       "32              1.960740e+07  2017-07-15 02:44:07 +0000   \n",
       "36              4.196984e+09  2017-02-12 01:04:29 +0000   \n",
       "68              4.196984e+09  2017-06-23 01:10:23 +0000   \n",
       "73              4.196984e+09  2017-06-23 16:00:04 +0000   \n",
       "\n",
       "                                        expanded_urls  rating_numerator  \\\n",
       "19  https://twitter.com/dog_rates/status/887473957...                13   \n",
       "32  https://twitter.com/dog_rates/status/886053434...                12   \n",
       "36  https://twitter.com/dog_rates/status/830583320...                13   \n",
       "68  https://twitter.com/dog_rates/status/878057613...                14   \n",
       "73  https://www.gofundme.com/3yd6y1c,https://twitt...                13   \n",
       "\n",
       "    rating_denominator    name doggo floofer pupper puppo  \n",
       "19                  10  Canela  None    None   None  None  \n",
       "32                  10    None  None    None   None  None  \n",
       "36                  10   Lilly  None    None   None  None  \n",
       "68                  10    Emmy  None    None   None  None  \n",
       "73                  10  Shadow  None    None   None  None  "
      ]
     },
     "execution_count": 11,
     "metadata": {},
     "output_type": "execute_result"
    }
   ],
   "source": [
    "# view rows that were not null values in the retweeted_status_id column.\n",
    "twitter_df[~twitter_df['retweeted_status_id'].isnull()].head()"
   ]
  },
  {
   "cell_type": "markdown",
   "metadata": {},
   "source": [
    "* The `retweeted_status_id` column has values that are not null, this means that these tweets are retweets."
   ]
  },
  {
   "cell_type": "code",
   "execution_count": 12,
   "metadata": {},
   "outputs": [
    {
     "data": {
      "text/plain": [
       "<a href=\"http://twitter.com/download/iphone\" rel=\"nofollow\">Twitter for iPhone</a>     2221\n",
       "<a href=\"http://vine.co\" rel=\"nofollow\">Vine - Make a Scene</a>                          91\n",
       "<a href=\"http://twitter.com\" rel=\"nofollow\">Twitter Web Client</a>                       33\n",
       "<a href=\"https://about.twitter.com/products/tweetdeck\" rel=\"nofollow\">TweetDeck</a>      11\n",
       "Name: source, dtype: int64"
      ]
     },
     "execution_count": 12,
     "metadata": {},
     "output_type": "execute_result"
    }
   ],
   "source": [
    "# how may different sources did the tweets in the dataframe originate from?\n",
    "twitter_df['source'].value_counts()"
   ]
  },
  {
   "cell_type": "markdown",
   "metadata": {},
   "source": [
    "* Unnecessary html text around the source of the tweet."
   ]
  },
  {
   "cell_type": "code",
   "execution_count": 13,
   "metadata": {},
   "outputs": [
    {
     "data": {
      "text/plain": [
       "12      558\n",
       "11      464\n",
       "10      461\n",
       "13      351\n",
       "9       158\n",
       "8       102\n",
       "7        55\n",
       "14       54\n",
       "5        37\n",
       "6        32\n",
       "3        19\n",
       "4        17\n",
       "1         9\n",
       "2         9\n",
       "0         2\n",
       "15        2\n",
       "75        2\n",
       "420       2\n",
       "182       1\n",
       "204       1\n",
       "143       1\n",
       "121       1\n",
       "99        1\n",
       "20        1\n",
       "45        1\n",
       "27        1\n",
       "17        1\n",
       "24        1\n",
       "26        1\n",
       "44        1\n",
       "50        1\n",
       "60        1\n",
       "80        1\n",
       "84        1\n",
       "88        1\n",
       "1776      1\n",
       "960       1\n",
       "666       1\n",
       "144       1\n",
       "165       1\n",
       "Name: rating_numerator, dtype: int64"
      ]
     },
     "execution_count": 13,
     "metadata": {},
     "output_type": "execute_result"
    }
   ],
   "source": [
    "# how many different ratings are there?\n",
    "twitter_df['rating_numerator'].value_counts()"
   ]
  },
  {
   "cell_type": "markdown",
   "metadata": {},
   "source": [
    "* Having the rating_numerator greater than the numerator is part of why WeRateDogs is popular, so it is only fair if we started investigating rating that are less than 10."
   ]
  },
  {
   "cell_type": "code",
   "execution_count": 14,
   "metadata": {},
   "outputs": [
    {
     "data": {
      "text/html": [
       "<div>\n",
       "<style scoped>\n",
       "    .dataframe tbody tr th:only-of-type {\n",
       "        vertical-align: middle;\n",
       "    }\n",
       "\n",
       "    .dataframe tbody tr th {\n",
       "        vertical-align: top;\n",
       "    }\n",
       "\n",
       "    .dataframe thead th {\n",
       "        text-align: right;\n",
       "    }\n",
       "</style>\n",
       "<table border=\"1\" class=\"dataframe\">\n",
       "  <thead>\n",
       "    <tr style=\"text-align: right;\">\n",
       "      <th></th>\n",
       "      <th>tweet_id</th>\n",
       "      <th>in_reply_to_status_id</th>\n",
       "      <th>in_reply_to_user_id</th>\n",
       "      <th>timestamp</th>\n",
       "      <th>source</th>\n",
       "      <th>text</th>\n",
       "      <th>retweeted_status_id</th>\n",
       "      <th>retweeted_status_user_id</th>\n",
       "      <th>retweeted_status_timestamp</th>\n",
       "      <th>expanded_urls</th>\n",
       "      <th>rating_numerator</th>\n",
       "      <th>rating_denominator</th>\n",
       "      <th>name</th>\n",
       "      <th>doggo</th>\n",
       "      <th>floofer</th>\n",
       "      <th>pupper</th>\n",
       "      <th>puppo</th>\n",
       "    </tr>\n",
       "  </thead>\n",
       "  <tbody>\n",
       "    <tr>\n",
       "      <th>605</th>\n",
       "      <td>798576900688019456</td>\n",
       "      <td>NaN</td>\n",
       "      <td>NaN</td>\n",
       "      <td>2016-11-15 17:22:24 +0000</td>\n",
       "      <td>&lt;a href=\"http://twitter.com/download/iphone\" r...</td>\n",
       "      <td>RT @dog_rates: Not familiar with this breed. N...</td>\n",
       "      <td>6.661041e+17</td>\n",
       "      <td>4.196984e+09</td>\n",
       "      <td>2015-11-16 04:02:55 +0000</td>\n",
       "      <td>https://twitter.com/dog_rates/status/666104133...</td>\n",
       "      <td>1</td>\n",
       "      <td>10</td>\n",
       "      <td>None</td>\n",
       "      <td>None</td>\n",
       "      <td>None</td>\n",
       "      <td>None</td>\n",
       "      <td>None</td>\n",
       "    </tr>\n",
       "    <tr>\n",
       "      <th>1446</th>\n",
       "      <td>696490539101908992</td>\n",
       "      <td>6.964887e+17</td>\n",
       "      <td>4.196984e+09</td>\n",
       "      <td>2016-02-08 00:27:39 +0000</td>\n",
       "      <td>&lt;a href=\"http://twitter.com/download/iphone\" r...</td>\n",
       "      <td>After reading the comments I may have overesti...</td>\n",
       "      <td>NaN</td>\n",
       "      <td>NaN</td>\n",
       "      <td>NaN</td>\n",
       "      <td>NaN</td>\n",
       "      <td>1</td>\n",
       "      <td>10</td>\n",
       "      <td>None</td>\n",
       "      <td>None</td>\n",
       "      <td>None</td>\n",
       "      <td>None</td>\n",
       "      <td>None</td>\n",
       "    </tr>\n",
       "    <tr>\n",
       "      <th>1869</th>\n",
       "      <td>675153376133427200</td>\n",
       "      <td>NaN</td>\n",
       "      <td>NaN</td>\n",
       "      <td>2015-12-11 03:21:23 +0000</td>\n",
       "      <td>&lt;a href=\"http://twitter.com/download/iphone\" r...</td>\n",
       "      <td>What kind of person sends in a picture without...</td>\n",
       "      <td>NaN</td>\n",
       "      <td>NaN</td>\n",
       "      <td>NaN</td>\n",
       "      <td>https://twitter.com/dog_rates/status/675153376...</td>\n",
       "      <td>1</td>\n",
       "      <td>10</td>\n",
       "      <td>None</td>\n",
       "      <td>None</td>\n",
       "      <td>None</td>\n",
       "      <td>None</td>\n",
       "      <td>None</td>\n",
       "    </tr>\n",
       "    <tr>\n",
       "      <th>1940</th>\n",
       "      <td>673716320723169284</td>\n",
       "      <td>6.737159e+17</td>\n",
       "      <td>4.196984e+09</td>\n",
       "      <td>2015-12-07 04:11:02 +0000</td>\n",
       "      <td>&lt;a href=\"http://twitter.com/download/iphone\" r...</td>\n",
       "      <td>The millennials have spoken and we've decided ...</td>\n",
       "      <td>NaN</td>\n",
       "      <td>NaN</td>\n",
       "      <td>NaN</td>\n",
       "      <td>NaN</td>\n",
       "      <td>1</td>\n",
       "      <td>10</td>\n",
       "      <td>None</td>\n",
       "      <td>None</td>\n",
       "      <td>None</td>\n",
       "      <td>None</td>\n",
       "      <td>None</td>\n",
       "    </tr>\n",
       "    <tr>\n",
       "      <th>2038</th>\n",
       "      <td>671550332464455680</td>\n",
       "      <td>6.715449e+17</td>\n",
       "      <td>4.196984e+09</td>\n",
       "      <td>2015-12-01 04:44:10 +0000</td>\n",
       "      <td>&lt;a href=\"http://twitter.com/download/iphone\" r...</td>\n",
       "      <td>After 22 minutes of careful deliberation this ...</td>\n",
       "      <td>NaN</td>\n",
       "      <td>NaN</td>\n",
       "      <td>NaN</td>\n",
       "      <td>NaN</td>\n",
       "      <td>1</td>\n",
       "      <td>10</td>\n",
       "      <td>None</td>\n",
       "      <td>None</td>\n",
       "      <td>None</td>\n",
       "      <td>None</td>\n",
       "      <td>None</td>\n",
       "    </tr>\n",
       "    <tr>\n",
       "      <th>2091</th>\n",
       "      <td>670783437142401025</td>\n",
       "      <td>NaN</td>\n",
       "      <td>NaN</td>\n",
       "      <td>2015-11-29 01:56:48 +0000</td>\n",
       "      <td>&lt;a href=\"http://twitter.com/download/iphone\" r...</td>\n",
       "      <td>Flamboyant pup here. Probably poisonous. Won't...</td>\n",
       "      <td>NaN</td>\n",
       "      <td>NaN</td>\n",
       "      <td>NaN</td>\n",
       "      <td>https://twitter.com/dog_rates/status/670783437...</td>\n",
       "      <td>1</td>\n",
       "      <td>10</td>\n",
       "      <td>None</td>\n",
       "      <td>None</td>\n",
       "      <td>None</td>\n",
       "      <td>None</td>\n",
       "      <td>None</td>\n",
       "    </tr>\n",
       "    <tr>\n",
       "      <th>2261</th>\n",
       "      <td>667549055577362432</td>\n",
       "      <td>NaN</td>\n",
       "      <td>NaN</td>\n",
       "      <td>2015-11-20 03:44:31 +0000</td>\n",
       "      <td>&lt;a href=\"http://twitter.com\" rel=\"nofollow\"&gt;Tw...</td>\n",
       "      <td>Never seen dog like this. Breathes heavy. Tilt...</td>\n",
       "      <td>NaN</td>\n",
       "      <td>NaN</td>\n",
       "      <td>NaN</td>\n",
       "      <td>https://twitter.com/dog_rates/status/667549055...</td>\n",
       "      <td>1</td>\n",
       "      <td>10</td>\n",
       "      <td>None</td>\n",
       "      <td>None</td>\n",
       "      <td>None</td>\n",
       "      <td>None</td>\n",
       "      <td>None</td>\n",
       "    </tr>\n",
       "    <tr>\n",
       "      <th>2335</th>\n",
       "      <td>666287406224695296</td>\n",
       "      <td>NaN</td>\n",
       "      <td>NaN</td>\n",
       "      <td>2015-11-16 16:11:11 +0000</td>\n",
       "      <td>&lt;a href=\"http://twitter.com/download/iphone\" r...</td>\n",
       "      <td>This is an Albanian 3 1/2 legged  Episcopalian...</td>\n",
       "      <td>NaN</td>\n",
       "      <td>NaN</td>\n",
       "      <td>NaN</td>\n",
       "      <td>https://twitter.com/dog_rates/status/666287406...</td>\n",
       "      <td>1</td>\n",
       "      <td>2</td>\n",
       "      <td>an</td>\n",
       "      <td>None</td>\n",
       "      <td>None</td>\n",
       "      <td>None</td>\n",
       "      <td>None</td>\n",
       "    </tr>\n",
       "    <tr>\n",
       "      <th>2338</th>\n",
       "      <td>666104133288665088</td>\n",
       "      <td>NaN</td>\n",
       "      <td>NaN</td>\n",
       "      <td>2015-11-16 04:02:55 +0000</td>\n",
       "      <td>&lt;a href=\"http://twitter.com/download/iphone\" r...</td>\n",
       "      <td>Not familiar with this breed. No tail (weird)....</td>\n",
       "      <td>NaN</td>\n",
       "      <td>NaN</td>\n",
       "      <td>NaN</td>\n",
       "      <td>https://twitter.com/dog_rates/status/666104133...</td>\n",
       "      <td>1</td>\n",
       "      <td>10</td>\n",
       "      <td>None</td>\n",
       "      <td>None</td>\n",
       "      <td>None</td>\n",
       "      <td>None</td>\n",
       "      <td>None</td>\n",
       "    </tr>\n",
       "  </tbody>\n",
       "</table>\n",
       "</div>"
      ],
      "text/plain": [
       "                tweet_id  in_reply_to_status_id  in_reply_to_user_id  \\\n",
       "605   798576900688019456                    NaN                  NaN   \n",
       "1446  696490539101908992           6.964887e+17         4.196984e+09   \n",
       "1869  675153376133427200                    NaN                  NaN   \n",
       "1940  673716320723169284           6.737159e+17         4.196984e+09   \n",
       "2038  671550332464455680           6.715449e+17         4.196984e+09   \n",
       "2091  670783437142401025                    NaN                  NaN   \n",
       "2261  667549055577362432                    NaN                  NaN   \n",
       "2335  666287406224695296                    NaN                  NaN   \n",
       "2338  666104133288665088                    NaN                  NaN   \n",
       "\n",
       "                      timestamp  \\\n",
       "605   2016-11-15 17:22:24 +0000   \n",
       "1446  2016-02-08 00:27:39 +0000   \n",
       "1869  2015-12-11 03:21:23 +0000   \n",
       "1940  2015-12-07 04:11:02 +0000   \n",
       "2038  2015-12-01 04:44:10 +0000   \n",
       "2091  2015-11-29 01:56:48 +0000   \n",
       "2261  2015-11-20 03:44:31 +0000   \n",
       "2335  2015-11-16 16:11:11 +0000   \n",
       "2338  2015-11-16 04:02:55 +0000   \n",
       "\n",
       "                                                 source  \\\n",
       "605   <a href=\"http://twitter.com/download/iphone\" r...   \n",
       "1446  <a href=\"http://twitter.com/download/iphone\" r...   \n",
       "1869  <a href=\"http://twitter.com/download/iphone\" r...   \n",
       "1940  <a href=\"http://twitter.com/download/iphone\" r...   \n",
       "2038  <a href=\"http://twitter.com/download/iphone\" r...   \n",
       "2091  <a href=\"http://twitter.com/download/iphone\" r...   \n",
       "2261  <a href=\"http://twitter.com\" rel=\"nofollow\">Tw...   \n",
       "2335  <a href=\"http://twitter.com/download/iphone\" r...   \n",
       "2338  <a href=\"http://twitter.com/download/iphone\" r...   \n",
       "\n",
       "                                                   text  retweeted_status_id  \\\n",
       "605   RT @dog_rates: Not familiar with this breed. N...         6.661041e+17   \n",
       "1446  After reading the comments I may have overesti...                  NaN   \n",
       "1869  What kind of person sends in a picture without...                  NaN   \n",
       "1940  The millennials have spoken and we've decided ...                  NaN   \n",
       "2038  After 22 minutes of careful deliberation this ...                  NaN   \n",
       "2091  Flamboyant pup here. Probably poisonous. Won't...                  NaN   \n",
       "2261  Never seen dog like this. Breathes heavy. Tilt...                  NaN   \n",
       "2335  This is an Albanian 3 1/2 legged  Episcopalian...                  NaN   \n",
       "2338  Not familiar with this breed. No tail (weird)....                  NaN   \n",
       "\n",
       "      retweeted_status_user_id retweeted_status_timestamp  \\\n",
       "605               4.196984e+09  2015-11-16 04:02:55 +0000   \n",
       "1446                       NaN                        NaN   \n",
       "1869                       NaN                        NaN   \n",
       "1940                       NaN                        NaN   \n",
       "2038                       NaN                        NaN   \n",
       "2091                       NaN                        NaN   \n",
       "2261                       NaN                        NaN   \n",
       "2335                       NaN                        NaN   \n",
       "2338                       NaN                        NaN   \n",
       "\n",
       "                                          expanded_urls  rating_numerator  \\\n",
       "605   https://twitter.com/dog_rates/status/666104133...                 1   \n",
       "1446                                                NaN                 1   \n",
       "1869  https://twitter.com/dog_rates/status/675153376...                 1   \n",
       "1940                                                NaN                 1   \n",
       "2038                                                NaN                 1   \n",
       "2091  https://twitter.com/dog_rates/status/670783437...                 1   \n",
       "2261  https://twitter.com/dog_rates/status/667549055...                 1   \n",
       "2335  https://twitter.com/dog_rates/status/666287406...                 1   \n",
       "2338  https://twitter.com/dog_rates/status/666104133...                 1   \n",
       "\n",
       "      rating_denominator  name doggo floofer pupper puppo  \n",
       "605                   10  None  None    None   None  None  \n",
       "1446                  10  None  None    None   None  None  \n",
       "1869                  10  None  None    None   None  None  \n",
       "1940                  10  None  None    None   None  None  \n",
       "2038                  10  None  None    None   None  None  \n",
       "2091                  10  None  None    None   None  None  \n",
       "2261                  10  None  None    None   None  None  \n",
       "2335                   2    an  None    None   None  None  \n",
       "2338                  10  None  None    None   None  None  "
      ]
     },
     "execution_count": 14,
     "metadata": {},
     "output_type": "execute_result"
    }
   ],
   "source": [
    "# inspecting dogs that were rated 1/10\n",
    "\n",
    "twitter_df.query('rating_numerator == 1')"
   ]
  },
  {
   "cell_type": "markdown",
   "metadata": {},
   "source": [
    "Reading the text for each 1/10 dog rating, it seems that the tweets do not contain pictures of any dog!. Also we can see that index 2335 had the rating extracted wrongly."
   ]
  },
  {
   "cell_type": "code",
   "execution_count": 15,
   "metadata": {},
   "outputs": [
    {
     "data": {
      "text/html": [
       "<div>\n",
       "<style scoped>\n",
       "    .dataframe tbody tr th:only-of-type {\n",
       "        vertical-align: middle;\n",
       "    }\n",
       "\n",
       "    .dataframe tbody tr th {\n",
       "        vertical-align: top;\n",
       "    }\n",
       "\n",
       "    .dataframe thead th {\n",
       "        text-align: right;\n",
       "    }\n",
       "</style>\n",
       "<table border=\"1\" class=\"dataframe\">\n",
       "  <thead>\n",
       "    <tr style=\"text-align: right;\">\n",
       "      <th></th>\n",
       "      <th>tweet_id</th>\n",
       "      <th>in_reply_to_status_id</th>\n",
       "      <th>in_reply_to_user_id</th>\n",
       "      <th>timestamp</th>\n",
       "      <th>source</th>\n",
       "      <th>text</th>\n",
       "      <th>retweeted_status_id</th>\n",
       "      <th>retweeted_status_user_id</th>\n",
       "      <th>retweeted_status_timestamp</th>\n",
       "      <th>expanded_urls</th>\n",
       "      <th>rating_numerator</th>\n",
       "      <th>rating_denominator</th>\n",
       "      <th>name</th>\n",
       "      <th>doggo</th>\n",
       "      <th>floofer</th>\n",
       "      <th>pupper</th>\n",
       "      <th>puppo</th>\n",
       "    </tr>\n",
       "  </thead>\n",
       "  <tbody>\n",
       "    <tr>\n",
       "      <th>979</th>\n",
       "      <td>749981277374128128</td>\n",
       "      <td>NaN</td>\n",
       "      <td>NaN</td>\n",
       "      <td>2016-07-04 15:00:45 +0000</td>\n",
       "      <td>&lt;a href=\"https://about.twitter.com/products/tw...</td>\n",
       "      <td>This is Atticus. He's quite simply America af....</td>\n",
       "      <td>NaN</td>\n",
       "      <td>NaN</td>\n",
       "      <td>NaN</td>\n",
       "      <td>https://twitter.com/dog_rates/status/749981277...</td>\n",
       "      <td>1776</td>\n",
       "      <td>10</td>\n",
       "      <td>Atticus</td>\n",
       "      <td>None</td>\n",
       "      <td>None</td>\n",
       "      <td>None</td>\n",
       "      <td>None</td>\n",
       "    </tr>\n",
       "  </tbody>\n",
       "</table>\n",
       "</div>"
      ],
      "text/plain": [
       "               tweet_id  in_reply_to_status_id  in_reply_to_user_id  \\\n",
       "979  749981277374128128                    NaN                  NaN   \n",
       "\n",
       "                     timestamp  \\\n",
       "979  2016-07-04 15:00:45 +0000   \n",
       "\n",
       "                                                source  \\\n",
       "979  <a href=\"https://about.twitter.com/products/tw...   \n",
       "\n",
       "                                                  text  retweeted_status_id  \\\n",
       "979  This is Atticus. He's quite simply America af....                  NaN   \n",
       "\n",
       "     retweeted_status_user_id retweeted_status_timestamp  \\\n",
       "979                       NaN                        NaN   \n",
       "\n",
       "                                         expanded_urls  rating_numerator  \\\n",
       "979  https://twitter.com/dog_rates/status/749981277...              1776   \n",
       "\n",
       "     rating_denominator     name doggo floofer pupper puppo  \n",
       "979                  10  Atticus  None    None   None  None  "
      ]
     },
     "execution_count": 15,
     "metadata": {},
     "output_type": "execute_result"
    }
   ],
   "source": [
    "# inspecting ratings that were unusually high\n",
    "twitter_df.query('rating_numerator == 1776')"
   ]
  },
  {
   "cell_type": "markdown",
   "metadata": {},
   "source": [
    "* Nothing wrong here, the dog was infact rated 1776/10!"
   ]
  },
  {
   "cell_type": "code",
   "execution_count": 16,
   "metadata": {},
   "outputs": [
    {
     "data": {
      "text/html": [
       "<div>\n",
       "<style scoped>\n",
       "    .dataframe tbody tr th:only-of-type {\n",
       "        vertical-align: middle;\n",
       "    }\n",
       "\n",
       "    .dataframe tbody tr th {\n",
       "        vertical-align: top;\n",
       "    }\n",
       "\n",
       "    .dataframe thead th {\n",
       "        text-align: right;\n",
       "    }\n",
       "</style>\n",
       "<table border=\"1\" class=\"dataframe\">\n",
       "  <thead>\n",
       "    <tr style=\"text-align: right;\">\n",
       "      <th></th>\n",
       "      <th>tweet_id</th>\n",
       "      <th>in_reply_to_status_id</th>\n",
       "      <th>in_reply_to_user_id</th>\n",
       "      <th>timestamp</th>\n",
       "      <th>source</th>\n",
       "      <th>text</th>\n",
       "      <th>retweeted_status_id</th>\n",
       "      <th>retweeted_status_user_id</th>\n",
       "      <th>retweeted_status_timestamp</th>\n",
       "      <th>expanded_urls</th>\n",
       "      <th>rating_numerator</th>\n",
       "      <th>rating_denominator</th>\n",
       "      <th>name</th>\n",
       "      <th>doggo</th>\n",
       "      <th>floofer</th>\n",
       "      <th>pupper</th>\n",
       "      <th>puppo</th>\n",
       "    </tr>\n",
       "  </thead>\n",
       "  <tbody>\n",
       "    <tr>\n",
       "      <th>315</th>\n",
       "      <td>835152434251116546</td>\n",
       "      <td>NaN</td>\n",
       "      <td>NaN</td>\n",
       "      <td>2017-02-24 15:40:31 +0000</td>\n",
       "      <td>&lt;a href=\"http://twitter.com/download/iphone\" r...</td>\n",
       "      <td>When you're so blinded by your systematic plag...</td>\n",
       "      <td>NaN</td>\n",
       "      <td>NaN</td>\n",
       "      <td>NaN</td>\n",
       "      <td>https://twitter.com/dog_rates/status/835152434...</td>\n",
       "      <td>0</td>\n",
       "      <td>10</td>\n",
       "      <td>None</td>\n",
       "      <td>None</td>\n",
       "      <td>None</td>\n",
       "      <td>None</td>\n",
       "      <td>None</td>\n",
       "    </tr>\n",
       "    <tr>\n",
       "      <th>1016</th>\n",
       "      <td>746906459439529985</td>\n",
       "      <td>7.468859e+17</td>\n",
       "      <td>4.196984e+09</td>\n",
       "      <td>2016-06-26 03:22:31 +0000</td>\n",
       "      <td>&lt;a href=\"http://twitter.com/download/iphone\" r...</td>\n",
       "      <td>PUPDATE: can't see any. Even if I could, I cou...</td>\n",
       "      <td>NaN</td>\n",
       "      <td>NaN</td>\n",
       "      <td>NaN</td>\n",
       "      <td>https://twitter.com/dog_rates/status/746906459...</td>\n",
       "      <td>0</td>\n",
       "      <td>10</td>\n",
       "      <td>None</td>\n",
       "      <td>None</td>\n",
       "      <td>None</td>\n",
       "      <td>None</td>\n",
       "      <td>None</td>\n",
       "    </tr>\n",
       "  </tbody>\n",
       "</table>\n",
       "</div>"
      ],
      "text/plain": [
       "                tweet_id  in_reply_to_status_id  in_reply_to_user_id  \\\n",
       "315   835152434251116546                    NaN                  NaN   \n",
       "1016  746906459439529985           7.468859e+17         4.196984e+09   \n",
       "\n",
       "                      timestamp  \\\n",
       "315   2017-02-24 15:40:31 +0000   \n",
       "1016  2016-06-26 03:22:31 +0000   \n",
       "\n",
       "                                                 source  \\\n",
       "315   <a href=\"http://twitter.com/download/iphone\" r...   \n",
       "1016  <a href=\"http://twitter.com/download/iphone\" r...   \n",
       "\n",
       "                                                   text  retweeted_status_id  \\\n",
       "315   When you're so blinded by your systematic plag...                  NaN   \n",
       "1016  PUPDATE: can't see any. Even if I could, I cou...                  NaN   \n",
       "\n",
       "      retweeted_status_user_id retweeted_status_timestamp  \\\n",
       "315                        NaN                        NaN   \n",
       "1016                       NaN                        NaN   \n",
       "\n",
       "                                          expanded_urls  rating_numerator  \\\n",
       "315   https://twitter.com/dog_rates/status/835152434...                 0   \n",
       "1016  https://twitter.com/dog_rates/status/746906459...                 0   \n",
       "\n",
       "      rating_denominator  name doggo floofer pupper puppo  \n",
       "315                   10  None  None    None   None  None  \n",
       "1016                  10  None  None    None   None  None  "
      ]
     },
     "execution_count": 16,
     "metadata": {},
     "output_type": "execute_result"
    }
   ],
   "source": [
    "# inspecting ratings that were given 0\n",
    "twitter_df.query('rating_numerator == 0')"
   ]
  },
  {
   "cell_type": "code",
   "execution_count": 17,
   "metadata": {},
   "outputs": [
    {
     "data": {
      "text/html": [
       "<div>\n",
       "<style scoped>\n",
       "    .dataframe tbody tr th:only-of-type {\n",
       "        vertical-align: middle;\n",
       "    }\n",
       "\n",
       "    .dataframe tbody tr th {\n",
       "        vertical-align: top;\n",
       "    }\n",
       "\n",
       "    .dataframe thead th {\n",
       "        text-align: right;\n",
       "    }\n",
       "</style>\n",
       "<table border=\"1\" class=\"dataframe\">\n",
       "  <thead>\n",
       "    <tr style=\"text-align: right;\">\n",
       "      <th></th>\n",
       "      <th>tweet_id</th>\n",
       "      <th>in_reply_to_status_id</th>\n",
       "      <th>in_reply_to_user_id</th>\n",
       "      <th>timestamp</th>\n",
       "      <th>source</th>\n",
       "      <th>text</th>\n",
       "      <th>retweeted_status_id</th>\n",
       "      <th>retweeted_status_user_id</th>\n",
       "      <th>retweeted_status_timestamp</th>\n",
       "      <th>expanded_urls</th>\n",
       "      <th>rating_numerator</th>\n",
       "      <th>rating_denominator</th>\n",
       "      <th>name</th>\n",
       "      <th>doggo</th>\n",
       "      <th>floofer</th>\n",
       "      <th>pupper</th>\n",
       "      <th>puppo</th>\n",
       "    </tr>\n",
       "  </thead>\n",
       "  <tbody>\n",
       "    <tr>\n",
       "      <th>485</th>\n",
       "      <td>814578408554463233</td>\n",
       "      <td>NaN</td>\n",
       "      <td>NaN</td>\n",
       "      <td>2016-12-29 21:06:41 +0000</td>\n",
       "      <td>&lt;a href=\"http://twitter.com/download/iphone\" r...</td>\n",
       "      <td>RT @dog_rates: Meet Beau &amp;amp; Wilbur. Wilbur ...</td>\n",
       "      <td>6.981954e+17</td>\n",
       "      <td>4.196984e+09</td>\n",
       "      <td>2016-02-12 17:22:12 +0000</td>\n",
       "      <td>https://twitter.com/dog_rates/status/698195409...</td>\n",
       "      <td>9</td>\n",
       "      <td>10</td>\n",
       "      <td>Beau</td>\n",
       "      <td>None</td>\n",
       "      <td>None</td>\n",
       "      <td>None</td>\n",
       "      <td>None</td>\n",
       "    </tr>\n",
       "    <tr>\n",
       "      <th>784</th>\n",
       "      <td>775096608509886464</td>\n",
       "      <td>NaN</td>\n",
       "      <td>NaN</td>\n",
       "      <td>2016-09-11 22:20:06 +0000</td>\n",
       "      <td>&lt;a href=\"http://twitter.com/download/iphone\" r...</td>\n",
       "      <td>RT @dog_rates: After so many requests, this is...</td>\n",
       "      <td>7.403732e+17</td>\n",
       "      <td>4.196984e+09</td>\n",
       "      <td>2016-06-08 02:41:38 +0000</td>\n",
       "      <td>https://twitter.com/dog_rates/status/740373189...</td>\n",
       "      <td>9</td>\n",
       "      <td>11</td>\n",
       "      <td>None</td>\n",
       "      <td>None</td>\n",
       "      <td>None</td>\n",
       "      <td>None</td>\n",
       "      <td>None</td>\n",
       "    </tr>\n",
       "    <tr>\n",
       "      <th>845</th>\n",
       "      <td>766423258543644672</td>\n",
       "      <td>NaN</td>\n",
       "      <td>NaN</td>\n",
       "      <td>2016-08-18 23:55:18 +0000</td>\n",
       "      <td>&lt;a href=\"http://twitter.com/download/iphone\" r...</td>\n",
       "      <td>This is Shadoe. Her tongue flies out of her mo...</td>\n",
       "      <td>NaN</td>\n",
       "      <td>NaN</td>\n",
       "      <td>NaN</td>\n",
       "      <td>https://twitter.com/dog_rates/status/766423258...</td>\n",
       "      <td>9</td>\n",
       "      <td>10</td>\n",
       "      <td>Shadoe</td>\n",
       "      <td>None</td>\n",
       "      <td>None</td>\n",
       "      <td>None</td>\n",
       "      <td>None</td>\n",
       "    </tr>\n",
       "    <tr>\n",
       "      <th>906</th>\n",
       "      <td>758041019896193024</td>\n",
       "      <td>NaN</td>\n",
       "      <td>NaN</td>\n",
       "      <td>2016-07-26 20:47:17 +0000</td>\n",
       "      <td>&lt;a href=\"http://twitter.com/download/iphone\" r...</td>\n",
       "      <td>Teagan reads entire books in store so they're ...</td>\n",
       "      <td>NaN</td>\n",
       "      <td>NaN</td>\n",
       "      <td>NaN</td>\n",
       "      <td>https://twitter.com/dog_rates/status/758041019...</td>\n",
       "      <td>9</td>\n",
       "      <td>10</td>\n",
       "      <td>None</td>\n",
       "      <td>None</td>\n",
       "      <td>None</td>\n",
       "      <td>None</td>\n",
       "      <td>None</td>\n",
       "    </tr>\n",
       "    <tr>\n",
       "      <th>946</th>\n",
       "      <td>752568224206688256</td>\n",
       "      <td>NaN</td>\n",
       "      <td>NaN</td>\n",
       "      <td>2016-07-11 18:20:21 +0000</td>\n",
       "      <td>&lt;a href=\"http://vine.co\" rel=\"nofollow\"&gt;Vine -...</td>\n",
       "      <td>Here are three doggos completely misjudging an...</td>\n",
       "      <td>NaN</td>\n",
       "      <td>NaN</td>\n",
       "      <td>NaN</td>\n",
       "      <td>https://vine.co/v/5W0bdhEUUVT</td>\n",
       "      <td>9</td>\n",
       "      <td>10</td>\n",
       "      <td>None</td>\n",
       "      <td>None</td>\n",
       "      <td>None</td>\n",
       "      <td>None</td>\n",
       "      <td>None</td>\n",
       "    </tr>\n",
       "    <tr>\n",
       "      <th>...</th>\n",
       "      <td>...</td>\n",
       "      <td>...</td>\n",
       "      <td>...</td>\n",
       "      <td>...</td>\n",
       "      <td>...</td>\n",
       "      <td>...</td>\n",
       "      <td>...</td>\n",
       "      <td>...</td>\n",
       "      <td>...</td>\n",
       "      <td>...</td>\n",
       "      <td>...</td>\n",
       "      <td>...</td>\n",
       "      <td>...</td>\n",
       "      <td>...</td>\n",
       "      <td>...</td>\n",
       "      <td>...</td>\n",
       "      <td>...</td>\n",
       "    </tr>\n",
       "    <tr>\n",
       "      <th>2333</th>\n",
       "      <td>666337882303524864</td>\n",
       "      <td>NaN</td>\n",
       "      <td>NaN</td>\n",
       "      <td>2015-11-16 19:31:45 +0000</td>\n",
       "      <td>&lt;a href=\"http://twitter.com/download/iphone\" r...</td>\n",
       "      <td>This is an extremely rare horned Parthenon. No...</td>\n",
       "      <td>NaN</td>\n",
       "      <td>NaN</td>\n",
       "      <td>NaN</td>\n",
       "      <td>https://twitter.com/dog_rates/status/666337882...</td>\n",
       "      <td>9</td>\n",
       "      <td>10</td>\n",
       "      <td>an</td>\n",
       "      <td>None</td>\n",
       "      <td>None</td>\n",
       "      <td>None</td>\n",
       "      <td>None</td>\n",
       "    </tr>\n",
       "    <tr>\n",
       "      <th>2341</th>\n",
       "      <td>666094000022159362</td>\n",
       "      <td>NaN</td>\n",
       "      <td>NaN</td>\n",
       "      <td>2015-11-16 03:22:39 +0000</td>\n",
       "      <td>&lt;a href=\"http://twitter.com/download/iphone\" r...</td>\n",
       "      <td>This appears to be a Mongolian Presbyterian mi...</td>\n",
       "      <td>NaN</td>\n",
       "      <td>NaN</td>\n",
       "      <td>NaN</td>\n",
       "      <td>https://twitter.com/dog_rates/status/666094000...</td>\n",
       "      <td>9</td>\n",
       "      <td>10</td>\n",
       "      <td>None</td>\n",
       "      <td>None</td>\n",
       "      <td>None</td>\n",
       "      <td>None</td>\n",
       "      <td>None</td>\n",
       "    </tr>\n",
       "    <tr>\n",
       "      <th>2344</th>\n",
       "      <td>666071193221509120</td>\n",
       "      <td>NaN</td>\n",
       "      <td>NaN</td>\n",
       "      <td>2015-11-16 01:52:02 +0000</td>\n",
       "      <td>&lt;a href=\"http://twitter.com/download/iphone\" r...</td>\n",
       "      <td>Here we have a northern speckled Rhododendron....</td>\n",
       "      <td>NaN</td>\n",
       "      <td>NaN</td>\n",
       "      <td>NaN</td>\n",
       "      <td>https://twitter.com/dog_rates/status/666071193...</td>\n",
       "      <td>9</td>\n",
       "      <td>10</td>\n",
       "      <td>None</td>\n",
       "      <td>None</td>\n",
       "      <td>None</td>\n",
       "      <td>None</td>\n",
       "      <td>None</td>\n",
       "    </tr>\n",
       "    <tr>\n",
       "      <th>2347</th>\n",
       "      <td>666057090499244032</td>\n",
       "      <td>NaN</td>\n",
       "      <td>NaN</td>\n",
       "      <td>2015-11-16 00:55:59 +0000</td>\n",
       "      <td>&lt;a href=\"http://twitter.com/download/iphone\" r...</td>\n",
       "      <td>My oh my. This is a rare blond Canadian terrie...</td>\n",
       "      <td>NaN</td>\n",
       "      <td>NaN</td>\n",
       "      <td>NaN</td>\n",
       "      <td>https://twitter.com/dog_rates/status/666057090...</td>\n",
       "      <td>9</td>\n",
       "      <td>10</td>\n",
       "      <td>a</td>\n",
       "      <td>None</td>\n",
       "      <td>None</td>\n",
       "      <td>None</td>\n",
       "      <td>None</td>\n",
       "    </tr>\n",
       "    <tr>\n",
       "      <th>2353</th>\n",
       "      <td>666033412701032449</td>\n",
       "      <td>NaN</td>\n",
       "      <td>NaN</td>\n",
       "      <td>2015-11-15 23:21:54 +0000</td>\n",
       "      <td>&lt;a href=\"http://twitter.com/download/iphone\" r...</td>\n",
       "      <td>Here is a very happy pup. Big fan of well-main...</td>\n",
       "      <td>NaN</td>\n",
       "      <td>NaN</td>\n",
       "      <td>NaN</td>\n",
       "      <td>https://twitter.com/dog_rates/status/666033412...</td>\n",
       "      <td>9</td>\n",
       "      <td>10</td>\n",
       "      <td>a</td>\n",
       "      <td>None</td>\n",
       "      <td>None</td>\n",
       "      <td>None</td>\n",
       "      <td>None</td>\n",
       "    </tr>\n",
       "  </tbody>\n",
       "</table>\n",
       "<p>158 rows × 17 columns</p>\n",
       "</div>"
      ],
      "text/plain": [
       "                tweet_id  in_reply_to_status_id  in_reply_to_user_id  \\\n",
       "485   814578408554463233                    NaN                  NaN   \n",
       "784   775096608509886464                    NaN                  NaN   \n",
       "845   766423258543644672                    NaN                  NaN   \n",
       "906   758041019896193024                    NaN                  NaN   \n",
       "946   752568224206688256                    NaN                  NaN   \n",
       "...                  ...                    ...                  ...   \n",
       "2333  666337882303524864                    NaN                  NaN   \n",
       "2341  666094000022159362                    NaN                  NaN   \n",
       "2344  666071193221509120                    NaN                  NaN   \n",
       "2347  666057090499244032                    NaN                  NaN   \n",
       "2353  666033412701032449                    NaN                  NaN   \n",
       "\n",
       "                      timestamp  \\\n",
       "485   2016-12-29 21:06:41 +0000   \n",
       "784   2016-09-11 22:20:06 +0000   \n",
       "845   2016-08-18 23:55:18 +0000   \n",
       "906   2016-07-26 20:47:17 +0000   \n",
       "946   2016-07-11 18:20:21 +0000   \n",
       "...                         ...   \n",
       "2333  2015-11-16 19:31:45 +0000   \n",
       "2341  2015-11-16 03:22:39 +0000   \n",
       "2344  2015-11-16 01:52:02 +0000   \n",
       "2347  2015-11-16 00:55:59 +0000   \n",
       "2353  2015-11-15 23:21:54 +0000   \n",
       "\n",
       "                                                 source  \\\n",
       "485   <a href=\"http://twitter.com/download/iphone\" r...   \n",
       "784   <a href=\"http://twitter.com/download/iphone\" r...   \n",
       "845   <a href=\"http://twitter.com/download/iphone\" r...   \n",
       "906   <a href=\"http://twitter.com/download/iphone\" r...   \n",
       "946   <a href=\"http://vine.co\" rel=\"nofollow\">Vine -...   \n",
       "...                                                 ...   \n",
       "2333  <a href=\"http://twitter.com/download/iphone\" r...   \n",
       "2341  <a href=\"http://twitter.com/download/iphone\" r...   \n",
       "2344  <a href=\"http://twitter.com/download/iphone\" r...   \n",
       "2347  <a href=\"http://twitter.com/download/iphone\" r...   \n",
       "2353  <a href=\"http://twitter.com/download/iphone\" r...   \n",
       "\n",
       "                                                   text  retweeted_status_id  \\\n",
       "485   RT @dog_rates: Meet Beau &amp; Wilbur. Wilbur ...         6.981954e+17   \n",
       "784   RT @dog_rates: After so many requests, this is...         7.403732e+17   \n",
       "845   This is Shadoe. Her tongue flies out of her mo...                  NaN   \n",
       "906   Teagan reads entire books in store so they're ...                  NaN   \n",
       "946   Here are three doggos completely misjudging an...                  NaN   \n",
       "...                                                 ...                  ...   \n",
       "2333  This is an extremely rare horned Parthenon. No...                  NaN   \n",
       "2341  This appears to be a Mongolian Presbyterian mi...                  NaN   \n",
       "2344  Here we have a northern speckled Rhododendron....                  NaN   \n",
       "2347  My oh my. This is a rare blond Canadian terrie...                  NaN   \n",
       "2353  Here is a very happy pup. Big fan of well-main...                  NaN   \n",
       "\n",
       "      retweeted_status_user_id retweeted_status_timestamp  \\\n",
       "485               4.196984e+09  2016-02-12 17:22:12 +0000   \n",
       "784               4.196984e+09  2016-06-08 02:41:38 +0000   \n",
       "845                        NaN                        NaN   \n",
       "906                        NaN                        NaN   \n",
       "946                        NaN                        NaN   \n",
       "...                        ...                        ...   \n",
       "2333                       NaN                        NaN   \n",
       "2341                       NaN                        NaN   \n",
       "2344                       NaN                        NaN   \n",
       "2347                       NaN                        NaN   \n",
       "2353                       NaN                        NaN   \n",
       "\n",
       "                                          expanded_urls  rating_numerator  \\\n",
       "485   https://twitter.com/dog_rates/status/698195409...                 9   \n",
       "784   https://twitter.com/dog_rates/status/740373189...                 9   \n",
       "845   https://twitter.com/dog_rates/status/766423258...                 9   \n",
       "906   https://twitter.com/dog_rates/status/758041019...                 9   \n",
       "946                       https://vine.co/v/5W0bdhEUUVT                 9   \n",
       "...                                                 ...               ...   \n",
       "2333  https://twitter.com/dog_rates/status/666337882...                 9   \n",
       "2341  https://twitter.com/dog_rates/status/666094000...                 9   \n",
       "2344  https://twitter.com/dog_rates/status/666071193...                 9   \n",
       "2347  https://twitter.com/dog_rates/status/666057090...                 9   \n",
       "2353  https://twitter.com/dog_rates/status/666033412...                 9   \n",
       "\n",
       "      rating_denominator    name doggo floofer pupper puppo  \n",
       "485                   10    Beau  None    None   None  None  \n",
       "784                   11    None  None    None   None  None  \n",
       "845                   10  Shadoe  None    None   None  None  \n",
       "906                   10    None  None    None   None  None  \n",
       "946                   10    None  None    None   None  None  \n",
       "...                  ...     ...   ...     ...    ...   ...  \n",
       "2333                  10      an  None    None   None  None  \n",
       "2341                  10    None  None    None   None  None  \n",
       "2344                  10    None  None    None   None  None  \n",
       "2347                  10       a  None    None   None  None  \n",
       "2353                  10       a  None    None   None  None  \n",
       "\n",
       "[158 rows x 17 columns]"
      ]
     },
     "execution_count": 17,
     "metadata": {},
     "output_type": "execute_result"
    }
   ],
   "source": [
    "# inspecting ratings that were given 2\n",
    "twitter_df.query('rating_numerator == 9')"
   ]
  },
  {
   "cell_type": "markdown",
   "metadata": {},
   "source": [
    "* After manually inspecting ratings less than 10, it seems that these dog tweets were either not pictures of dogs, had other people/objects in the pictures or the full dog potrait was not displayed. There were a few that had the rating extracted wrongly probably because of the presence of other numbers in the text (for example, referring to the date 9/11 in the text makes 9 to be extracted as the rating_numerator). "
   ]
  },
  {
   "cell_type": "code",
   "execution_count": 18,
   "metadata": {},
   "outputs": [
    {
     "data": {
      "text/plain": [
       "18"
      ]
     },
     "execution_count": 18,
     "metadata": {},
     "output_type": "execute_result"
    }
   ],
   "source": [
    "# Are all ratings totalled over the same number?\n",
    "twitter_df['rating_denominator'].nunique()"
   ]
  },
  {
   "cell_type": "code",
   "execution_count": 19,
   "metadata": {},
   "outputs": [
    {
     "data": {
      "text/plain": [
       "10     2333\n",
       "11        3\n",
       "50        3\n",
       "20        2\n",
       "80        2\n",
       "0         1\n",
       "120       1\n",
       "7         1\n",
       "170       1\n",
       "150       1\n",
       "130       1\n",
       "90        1\n",
       "110       1\n",
       "2         1\n",
       "70        1\n",
       "40        1\n",
       "16        1\n",
       "15        1\n",
       "Name: rating_denominator, dtype: int64"
      ]
     },
     "execution_count": 19,
     "metadata": {},
     "output_type": "execute_result"
    }
   ],
   "source": [
    "twitter_df['rating_denominator'].value_counts()"
   ]
  },
  {
   "cell_type": "markdown",
   "metadata": {},
   "source": [
    "* ratings are totalled by 10 for the most part, but there are some rows with other values, 0 even. Need to investigate to see what's going on there."
   ]
  },
  {
   "cell_type": "code",
   "execution_count": 20,
   "metadata": {},
   "outputs": [
    {
     "data": {
      "text/html": [
       "<div>\n",
       "<style scoped>\n",
       "    .dataframe tbody tr th:only-of-type {\n",
       "        vertical-align: middle;\n",
       "    }\n",
       "\n",
       "    .dataframe tbody tr th {\n",
       "        vertical-align: top;\n",
       "    }\n",
       "\n",
       "    .dataframe thead th {\n",
       "        text-align: right;\n",
       "    }\n",
       "</style>\n",
       "<table border=\"1\" class=\"dataframe\">\n",
       "  <thead>\n",
       "    <tr style=\"text-align: right;\">\n",
       "      <th></th>\n",
       "      <th>tweet_id</th>\n",
       "      <th>in_reply_to_status_id</th>\n",
       "      <th>in_reply_to_user_id</th>\n",
       "      <th>timestamp</th>\n",
       "      <th>source</th>\n",
       "      <th>text</th>\n",
       "      <th>retweeted_status_id</th>\n",
       "      <th>retweeted_status_user_id</th>\n",
       "      <th>retweeted_status_timestamp</th>\n",
       "      <th>expanded_urls</th>\n",
       "      <th>rating_numerator</th>\n",
       "      <th>rating_denominator</th>\n",
       "      <th>name</th>\n",
       "      <th>doggo</th>\n",
       "      <th>floofer</th>\n",
       "      <th>pupper</th>\n",
       "      <th>puppo</th>\n",
       "    </tr>\n",
       "  </thead>\n",
       "  <tbody>\n",
       "    <tr>\n",
       "      <th>2335</th>\n",
       "      <td>666287406224695296</td>\n",
       "      <td>NaN</td>\n",
       "      <td>NaN</td>\n",
       "      <td>2015-11-16 16:11:11 +0000</td>\n",
       "      <td>&lt;a href=\"http://twitter.com/download/iphone\" r...</td>\n",
       "      <td>This is an Albanian 3 1/2 legged  Episcopalian...</td>\n",
       "      <td>NaN</td>\n",
       "      <td>NaN</td>\n",
       "      <td>NaN</td>\n",
       "      <td>https://twitter.com/dog_rates/status/666287406...</td>\n",
       "      <td>1</td>\n",
       "      <td>2</td>\n",
       "      <td>an</td>\n",
       "      <td>None</td>\n",
       "      <td>None</td>\n",
       "      <td>None</td>\n",
       "      <td>None</td>\n",
       "    </tr>\n",
       "  </tbody>\n",
       "</table>\n",
       "</div>"
      ],
      "text/plain": [
       "                tweet_id  in_reply_to_status_id  in_reply_to_user_id  \\\n",
       "2335  666287406224695296                    NaN                  NaN   \n",
       "\n",
       "                      timestamp  \\\n",
       "2335  2015-11-16 16:11:11 +0000   \n",
       "\n",
       "                                                 source  \\\n",
       "2335  <a href=\"http://twitter.com/download/iphone\" r...   \n",
       "\n",
       "                                                   text  retweeted_status_id  \\\n",
       "2335  This is an Albanian 3 1/2 legged  Episcopalian...                  NaN   \n",
       "\n",
       "      retweeted_status_user_id retweeted_status_timestamp  \\\n",
       "2335                       NaN                        NaN   \n",
       "\n",
       "                                          expanded_urls  rating_numerator  \\\n",
       "2335  https://twitter.com/dog_rates/status/666287406...                 1   \n",
       "\n",
       "      rating_denominator name doggo floofer pupper puppo  \n",
       "2335                   2   an  None    None   None  None  "
      ]
     },
     "execution_count": 20,
     "metadata": {},
     "output_type": "execute_result"
    }
   ],
   "source": [
    "# inspecting ratings that were totalled over 2\n",
    "twitter_df.query('rating_denominator == 2')"
   ]
  },
  {
   "cell_type": "code",
   "execution_count": 21,
   "metadata": {},
   "outputs": [
    {
     "data": {
      "text/html": [
       "<div>\n",
       "<style scoped>\n",
       "    .dataframe tbody tr th:only-of-type {\n",
       "        vertical-align: middle;\n",
       "    }\n",
       "\n",
       "    .dataframe tbody tr th {\n",
       "        vertical-align: top;\n",
       "    }\n",
       "\n",
       "    .dataframe thead th {\n",
       "        text-align: right;\n",
       "    }\n",
       "</style>\n",
       "<table border=\"1\" class=\"dataframe\">\n",
       "  <thead>\n",
       "    <tr style=\"text-align: right;\">\n",
       "      <th></th>\n",
       "      <th>tweet_id</th>\n",
       "      <th>in_reply_to_status_id</th>\n",
       "      <th>in_reply_to_user_id</th>\n",
       "      <th>timestamp</th>\n",
       "      <th>source</th>\n",
       "      <th>text</th>\n",
       "      <th>retweeted_status_id</th>\n",
       "      <th>retweeted_status_user_id</th>\n",
       "      <th>retweeted_status_timestamp</th>\n",
       "      <th>expanded_urls</th>\n",
       "      <th>rating_numerator</th>\n",
       "      <th>rating_denominator</th>\n",
       "      <th>name</th>\n",
       "      <th>doggo</th>\n",
       "      <th>floofer</th>\n",
       "      <th>pupper</th>\n",
       "      <th>puppo</th>\n",
       "    </tr>\n",
       "  </thead>\n",
       "  <tbody>\n",
       "    <tr>\n",
       "      <th>433</th>\n",
       "      <td>820690176645140481</td>\n",
       "      <td>NaN</td>\n",
       "      <td>NaN</td>\n",
       "      <td>2017-01-15 17:52:40 +0000</td>\n",
       "      <td>&lt;a href=\"http://twitter.com/download/iphone\" r...</td>\n",
       "      <td>The floofs have been released I repeat the flo...</td>\n",
       "      <td>NaN</td>\n",
       "      <td>NaN</td>\n",
       "      <td>NaN</td>\n",
       "      <td>https://twitter.com/dog_rates/status/820690176...</td>\n",
       "      <td>84</td>\n",
       "      <td>70</td>\n",
       "      <td>None</td>\n",
       "      <td>None</td>\n",
       "      <td>None</td>\n",
       "      <td>None</td>\n",
       "      <td>None</td>\n",
       "    </tr>\n",
       "  </tbody>\n",
       "</table>\n",
       "</div>"
      ],
      "text/plain": [
       "               tweet_id  in_reply_to_status_id  in_reply_to_user_id  \\\n",
       "433  820690176645140481                    NaN                  NaN   \n",
       "\n",
       "                     timestamp  \\\n",
       "433  2017-01-15 17:52:40 +0000   \n",
       "\n",
       "                                                source  \\\n",
       "433  <a href=\"http://twitter.com/download/iphone\" r...   \n",
       "\n",
       "                                                  text  retweeted_status_id  \\\n",
       "433  The floofs have been released I repeat the flo...                  NaN   \n",
       "\n",
       "     retweeted_status_user_id retweeted_status_timestamp  \\\n",
       "433                       NaN                        NaN   \n",
       "\n",
       "                                         expanded_urls  rating_numerator  \\\n",
       "433  https://twitter.com/dog_rates/status/820690176...                84   \n",
       "\n",
       "     rating_denominator  name doggo floofer pupper puppo  \n",
       "433                  70  None  None    None   None  None  "
      ]
     },
     "execution_count": 21,
     "metadata": {},
     "output_type": "execute_result"
    }
   ],
   "source": [
    "# inspecting ratings that were totalled over 70\n",
    "twitter_df.query('rating_denominator == 70')"
   ]
  },
  {
   "cell_type": "code",
   "execution_count": 22,
   "metadata": {},
   "outputs": [
    {
     "data": {
      "text/html": [
       "<div>\n",
       "<style scoped>\n",
       "    .dataframe tbody tr th:only-of-type {\n",
       "        vertical-align: middle;\n",
       "    }\n",
       "\n",
       "    .dataframe tbody tr th {\n",
       "        vertical-align: top;\n",
       "    }\n",
       "\n",
       "    .dataframe thead th {\n",
       "        text-align: right;\n",
       "    }\n",
       "</style>\n",
       "<table border=\"1\" class=\"dataframe\">\n",
       "  <thead>\n",
       "    <tr style=\"text-align: right;\">\n",
       "      <th></th>\n",
       "      <th>tweet_id</th>\n",
       "      <th>in_reply_to_status_id</th>\n",
       "      <th>in_reply_to_user_id</th>\n",
       "      <th>timestamp</th>\n",
       "      <th>source</th>\n",
       "      <th>text</th>\n",
       "      <th>retweeted_status_id</th>\n",
       "      <th>retweeted_status_user_id</th>\n",
       "      <th>retweeted_status_timestamp</th>\n",
       "      <th>expanded_urls</th>\n",
       "      <th>rating_numerator</th>\n",
       "      <th>rating_denominator</th>\n",
       "      <th>name</th>\n",
       "      <th>doggo</th>\n",
       "      <th>floofer</th>\n",
       "      <th>pupper</th>\n",
       "      <th>puppo</th>\n",
       "    </tr>\n",
       "  </thead>\n",
       "  <tbody>\n",
       "    <tr>\n",
       "      <th>342</th>\n",
       "      <td>832088576586297345</td>\n",
       "      <td>8.320875e+17</td>\n",
       "      <td>30582082.0</td>\n",
       "      <td>2017-02-16 04:45:50 +0000</td>\n",
       "      <td>&lt;a href=\"http://twitter.com/download/iphone\" r...</td>\n",
       "      <td>@docmisterio account started on 11/15/15</td>\n",
       "      <td>NaN</td>\n",
       "      <td>NaN</td>\n",
       "      <td>NaN</td>\n",
       "      <td>NaN</td>\n",
       "      <td>11</td>\n",
       "      <td>15</td>\n",
       "      <td>None</td>\n",
       "      <td>None</td>\n",
       "      <td>None</td>\n",
       "      <td>None</td>\n",
       "      <td>None</td>\n",
       "    </tr>\n",
       "  </tbody>\n",
       "</table>\n",
       "</div>"
      ],
      "text/plain": [
       "               tweet_id  in_reply_to_status_id  in_reply_to_user_id  \\\n",
       "342  832088576586297345           8.320875e+17           30582082.0   \n",
       "\n",
       "                     timestamp  \\\n",
       "342  2017-02-16 04:45:50 +0000   \n",
       "\n",
       "                                                source  \\\n",
       "342  <a href=\"http://twitter.com/download/iphone\" r...   \n",
       "\n",
       "                                         text  retweeted_status_id  \\\n",
       "342  @docmisterio account started on 11/15/15                  NaN   \n",
       "\n",
       "     retweeted_status_user_id retweeted_status_timestamp expanded_urls  \\\n",
       "342                       NaN                        NaN           NaN   \n",
       "\n",
       "     rating_numerator  rating_denominator  name doggo floofer pupper puppo  \n",
       "342                11                  15  None  None    None   None  None  "
      ]
     },
     "execution_count": 22,
     "metadata": {},
     "output_type": "execute_result"
    }
   ],
   "source": [
    "# inspecting ratings that were totalled over 15\n",
    "twitter_df.query('rating_denominator == 15')"
   ]
  },
  {
   "cell_type": "code",
   "execution_count": 23,
   "metadata": {},
   "outputs": [
    {
     "data": {
      "text/html": [
       "<div>\n",
       "<style scoped>\n",
       "    .dataframe tbody tr th:only-of-type {\n",
       "        vertical-align: middle;\n",
       "    }\n",
       "\n",
       "    .dataframe tbody tr th {\n",
       "        vertical-align: top;\n",
       "    }\n",
       "\n",
       "    .dataframe thead th {\n",
       "        text-align: right;\n",
       "    }\n",
       "</style>\n",
       "<table border=\"1\" class=\"dataframe\">\n",
       "  <thead>\n",
       "    <tr style=\"text-align: right;\">\n",
       "      <th></th>\n",
       "      <th>tweet_id</th>\n",
       "      <th>in_reply_to_status_id</th>\n",
       "      <th>in_reply_to_user_id</th>\n",
       "      <th>timestamp</th>\n",
       "      <th>source</th>\n",
       "      <th>text</th>\n",
       "      <th>retweeted_status_id</th>\n",
       "      <th>retweeted_status_user_id</th>\n",
       "      <th>retweeted_status_timestamp</th>\n",
       "      <th>expanded_urls</th>\n",
       "      <th>rating_numerator</th>\n",
       "      <th>rating_denominator</th>\n",
       "      <th>name</th>\n",
       "      <th>doggo</th>\n",
       "      <th>floofer</th>\n",
       "      <th>pupper</th>\n",
       "      <th>puppo</th>\n",
       "    </tr>\n",
       "  </thead>\n",
       "  <tbody>\n",
       "    <tr>\n",
       "      <th>516</th>\n",
       "      <td>810984652412424192</td>\n",
       "      <td>NaN</td>\n",
       "      <td>NaN</td>\n",
       "      <td>2016-12-19 23:06:23 +0000</td>\n",
       "      <td>&lt;a href=\"http://twitter.com/download/iphone\" r...</td>\n",
       "      <td>Meet Sam. She smiles 24/7 &amp;amp; secretly aspir...</td>\n",
       "      <td>NaN</td>\n",
       "      <td>NaN</td>\n",
       "      <td>NaN</td>\n",
       "      <td>https://www.gofundme.com/sams-smile,https://tw...</td>\n",
       "      <td>24</td>\n",
       "      <td>7</td>\n",
       "      <td>Sam</td>\n",
       "      <td>None</td>\n",
       "      <td>None</td>\n",
       "      <td>None</td>\n",
       "      <td>None</td>\n",
       "    </tr>\n",
       "  </tbody>\n",
       "</table>\n",
       "</div>"
      ],
      "text/plain": [
       "               tweet_id  in_reply_to_status_id  in_reply_to_user_id  \\\n",
       "516  810984652412424192                    NaN                  NaN   \n",
       "\n",
       "                     timestamp  \\\n",
       "516  2016-12-19 23:06:23 +0000   \n",
       "\n",
       "                                                source  \\\n",
       "516  <a href=\"http://twitter.com/download/iphone\" r...   \n",
       "\n",
       "                                                  text  retweeted_status_id  \\\n",
       "516  Meet Sam. She smiles 24/7 &amp; secretly aspir...                  NaN   \n",
       "\n",
       "     retweeted_status_user_id retweeted_status_timestamp  \\\n",
       "516                       NaN                        NaN   \n",
       "\n",
       "                                         expanded_urls  rating_numerator  \\\n",
       "516  https://www.gofundme.com/sams-smile,https://tw...                24   \n",
       "\n",
       "     rating_denominator name doggo floofer pupper puppo  \n",
       "516                   7  Sam  None    None   None  None  "
      ]
     },
     "execution_count": 23,
     "metadata": {},
     "output_type": "execute_result"
    }
   ],
   "source": [
    "# inspecting ratings that were totalled over 7\n",
    "twitter_df.query('rating_denominator == 7')"
   ]
  },
  {
   "cell_type": "code",
   "execution_count": 24,
   "metadata": {},
   "outputs": [
    {
     "data": {
      "text/html": [
       "<div>\n",
       "<style scoped>\n",
       "    .dataframe tbody tr th:only-of-type {\n",
       "        vertical-align: middle;\n",
       "    }\n",
       "\n",
       "    .dataframe tbody tr th {\n",
       "        vertical-align: top;\n",
       "    }\n",
       "\n",
       "    .dataframe thead th {\n",
       "        text-align: right;\n",
       "    }\n",
       "</style>\n",
       "<table border=\"1\" class=\"dataframe\">\n",
       "  <thead>\n",
       "    <tr style=\"text-align: right;\">\n",
       "      <th></th>\n",
       "      <th>tweet_id</th>\n",
       "      <th>in_reply_to_status_id</th>\n",
       "      <th>in_reply_to_user_id</th>\n",
       "      <th>timestamp</th>\n",
       "      <th>source</th>\n",
       "      <th>text</th>\n",
       "      <th>retweeted_status_id</th>\n",
       "      <th>retweeted_status_user_id</th>\n",
       "      <th>retweeted_status_timestamp</th>\n",
       "      <th>expanded_urls</th>\n",
       "      <th>rating_numerator</th>\n",
       "      <th>rating_denominator</th>\n",
       "      <th>name</th>\n",
       "      <th>doggo</th>\n",
       "      <th>floofer</th>\n",
       "      <th>pupper</th>\n",
       "      <th>puppo</th>\n",
       "    </tr>\n",
       "  </thead>\n",
       "  <tbody>\n",
       "    <tr>\n",
       "      <th>1120</th>\n",
       "      <td>731156023742988288</td>\n",
       "      <td>NaN</td>\n",
       "      <td>NaN</td>\n",
       "      <td>2016-05-13 16:15:54 +0000</td>\n",
       "      <td>&lt;a href=\"http://twitter.com/download/iphone\" r...</td>\n",
       "      <td>Say hello to this unbelievably well behaved sq...</td>\n",
       "      <td>NaN</td>\n",
       "      <td>NaN</td>\n",
       "      <td>NaN</td>\n",
       "      <td>https://twitter.com/dog_rates/status/731156023...</td>\n",
       "      <td>204</td>\n",
       "      <td>170</td>\n",
       "      <td>this</td>\n",
       "      <td>None</td>\n",
       "      <td>None</td>\n",
       "      <td>None</td>\n",
       "      <td>None</td>\n",
       "    </tr>\n",
       "  </tbody>\n",
       "</table>\n",
       "</div>"
      ],
      "text/plain": [
       "                tweet_id  in_reply_to_status_id  in_reply_to_user_id  \\\n",
       "1120  731156023742988288                    NaN                  NaN   \n",
       "\n",
       "                      timestamp  \\\n",
       "1120  2016-05-13 16:15:54 +0000   \n",
       "\n",
       "                                                 source  \\\n",
       "1120  <a href=\"http://twitter.com/download/iphone\" r...   \n",
       "\n",
       "                                                   text  retweeted_status_id  \\\n",
       "1120  Say hello to this unbelievably well behaved sq...                  NaN   \n",
       "\n",
       "      retweeted_status_user_id retweeted_status_timestamp  \\\n",
       "1120                       NaN                        NaN   \n",
       "\n",
       "                                          expanded_urls  rating_numerator  \\\n",
       "1120  https://twitter.com/dog_rates/status/731156023...               204   \n",
       "\n",
       "      rating_denominator  name doggo floofer pupper puppo  \n",
       "1120                 170  this  None    None   None  None  "
      ]
     },
     "execution_count": 24,
     "metadata": {},
     "output_type": "execute_result"
    }
   ],
   "source": [
    "# inspecting ratings that were totalled over 170\n",
    "twitter_df.query('rating_denominator == 170')"
   ]
  },
  {
   "cell_type": "code",
   "execution_count": 25,
   "metadata": {},
   "outputs": [
    {
     "data": {
      "text/html": [
       "<div>\n",
       "<style scoped>\n",
       "    .dataframe tbody tr th:only-of-type {\n",
       "        vertical-align: middle;\n",
       "    }\n",
       "\n",
       "    .dataframe tbody tr th {\n",
       "        vertical-align: top;\n",
       "    }\n",
       "\n",
       "    .dataframe thead th {\n",
       "        text-align: right;\n",
       "    }\n",
       "</style>\n",
       "<table border=\"1\" class=\"dataframe\">\n",
       "  <thead>\n",
       "    <tr style=\"text-align: right;\">\n",
       "      <th></th>\n",
       "      <th>tweet_id</th>\n",
       "      <th>in_reply_to_status_id</th>\n",
       "      <th>in_reply_to_user_id</th>\n",
       "      <th>timestamp</th>\n",
       "      <th>source</th>\n",
       "      <th>text</th>\n",
       "      <th>retweeted_status_id</th>\n",
       "      <th>retweeted_status_user_id</th>\n",
       "      <th>retweeted_status_timestamp</th>\n",
       "      <th>expanded_urls</th>\n",
       "      <th>rating_numerator</th>\n",
       "      <th>rating_denominator</th>\n",
       "      <th>name</th>\n",
       "      <th>doggo</th>\n",
       "      <th>floofer</th>\n",
       "      <th>pupper</th>\n",
       "      <th>puppo</th>\n",
       "    </tr>\n",
       "  </thead>\n",
       "  <tbody>\n",
       "    <tr>\n",
       "      <th>313</th>\n",
       "      <td>835246439529840640</td>\n",
       "      <td>8.352460e+17</td>\n",
       "      <td>26259576.0</td>\n",
       "      <td>2017-02-24 21:54:03 +0000</td>\n",
       "      <td>&lt;a href=\"http://twitter.com/download/iphone\" r...</td>\n",
       "      <td>@jonnysun @Lin_Manuel ok jomny I know you're e...</td>\n",
       "      <td>NaN</td>\n",
       "      <td>NaN</td>\n",
       "      <td>NaN</td>\n",
       "      <td>NaN</td>\n",
       "      <td>960</td>\n",
       "      <td>0</td>\n",
       "      <td>None</td>\n",
       "      <td>None</td>\n",
       "      <td>None</td>\n",
       "      <td>None</td>\n",
       "      <td>None</td>\n",
       "    </tr>\n",
       "  </tbody>\n",
       "</table>\n",
       "</div>"
      ],
      "text/plain": [
       "               tweet_id  in_reply_to_status_id  in_reply_to_user_id  \\\n",
       "313  835246439529840640           8.352460e+17           26259576.0   \n",
       "\n",
       "                     timestamp  \\\n",
       "313  2017-02-24 21:54:03 +0000   \n",
       "\n",
       "                                                source  \\\n",
       "313  <a href=\"http://twitter.com/download/iphone\" r...   \n",
       "\n",
       "                                                  text  retweeted_status_id  \\\n",
       "313  @jonnysun @Lin_Manuel ok jomny I know you're e...                  NaN   \n",
       "\n",
       "     retweeted_status_user_id retweeted_status_timestamp expanded_urls  \\\n",
       "313                       NaN                        NaN           NaN   \n",
       "\n",
       "     rating_numerator  rating_denominator  name doggo floofer pupper puppo  \n",
       "313               960                   0  None  None    None   None  None  "
      ]
     },
     "execution_count": 25,
     "metadata": {},
     "output_type": "execute_result"
    }
   ],
   "source": [
    "# inspecting ratings that were totalled over 0\n",
    "twitter_df.query('rating_denominator == 0')"
   ]
  },
  {
   "cell_type": "markdown",
   "metadata": {},
   "source": [
    "After manually inspecting the ratings, some of the denominator ratings were extracted wrongly, others were high because there was more than one dog in the picture (This also made some numerator ratings high too). "
   ]
  },
  {
   "cell_type": "code",
   "execution_count": 26,
   "metadata": {},
   "outputs": [
    {
     "data": {
      "text/plain": [
       "0"
      ]
     },
     "execution_count": 26,
     "metadata": {},
     "output_type": "execute_result"
    }
   ],
   "source": [
    "# check for duplicates\n",
    "twitter_df.duplicated().sum()"
   ]
  },
  {
   "cell_type": "code",
   "execution_count": null,
   "metadata": {},
   "outputs": [],
   "source": []
  },
  {
   "cell_type": "markdown",
   "metadata": {},
   "source": [
    "-------------------------------------------------------------------------------------------------------------------------------"
   ]
  },
  {
   "cell_type": "markdown",
   "metadata": {},
   "source": [
    "### Assess image_df"
   ]
  },
  {
   "cell_type": "markdown",
   "metadata": {},
   "source": [
    "##### Visual Assessment"
   ]
  },
  {
   "cell_type": "code",
   "execution_count": 27,
   "metadata": {},
   "outputs": [
    {
     "data": {
      "text/html": [
       "<div>\n",
       "<style scoped>\n",
       "    .dataframe tbody tr th:only-of-type {\n",
       "        vertical-align: middle;\n",
       "    }\n",
       "\n",
       "    .dataframe tbody tr th {\n",
       "        vertical-align: top;\n",
       "    }\n",
       "\n",
       "    .dataframe thead th {\n",
       "        text-align: right;\n",
       "    }\n",
       "</style>\n",
       "<table border=\"1\" class=\"dataframe\">\n",
       "  <thead>\n",
       "    <tr style=\"text-align: right;\">\n",
       "      <th></th>\n",
       "      <th>tweet_id</th>\n",
       "      <th>jpg_url</th>\n",
       "      <th>img_num</th>\n",
       "      <th>p1</th>\n",
       "      <th>p1_conf</th>\n",
       "      <th>p1_dog</th>\n",
       "      <th>p2</th>\n",
       "      <th>p2_conf</th>\n",
       "      <th>p2_dog</th>\n",
       "      <th>p3</th>\n",
       "      <th>p3_conf</th>\n",
       "      <th>p3_dog</th>\n",
       "    </tr>\n",
       "  </thead>\n",
       "  <tbody>\n",
       "    <tr>\n",
       "      <th>0</th>\n",
       "      <td>666020888022790149</td>\n",
       "      <td>https://pbs.twimg.com/media/CT4udn0WwAA0aMy.jpg</td>\n",
       "      <td>1</td>\n",
       "      <td>Welsh_springer_spaniel</td>\n",
       "      <td>0.465074</td>\n",
       "      <td>True</td>\n",
       "      <td>collie</td>\n",
       "      <td>0.156665</td>\n",
       "      <td>True</td>\n",
       "      <td>Shetland_sheepdog</td>\n",
       "      <td>0.061428</td>\n",
       "      <td>True</td>\n",
       "    </tr>\n",
       "    <tr>\n",
       "      <th>1</th>\n",
       "      <td>666029285002620928</td>\n",
       "      <td>https://pbs.twimg.com/media/CT42GRgUYAA5iDo.jpg</td>\n",
       "      <td>1</td>\n",
       "      <td>redbone</td>\n",
       "      <td>0.506826</td>\n",
       "      <td>True</td>\n",
       "      <td>miniature_pinscher</td>\n",
       "      <td>0.074192</td>\n",
       "      <td>True</td>\n",
       "      <td>Rhodesian_ridgeback</td>\n",
       "      <td>0.072010</td>\n",
       "      <td>True</td>\n",
       "    </tr>\n",
       "    <tr>\n",
       "      <th>2</th>\n",
       "      <td>666033412701032449</td>\n",
       "      <td>https://pbs.twimg.com/media/CT4521TWwAEvMyu.jpg</td>\n",
       "      <td>1</td>\n",
       "      <td>German_shepherd</td>\n",
       "      <td>0.596461</td>\n",
       "      <td>True</td>\n",
       "      <td>malinois</td>\n",
       "      <td>0.138584</td>\n",
       "      <td>True</td>\n",
       "      <td>bloodhound</td>\n",
       "      <td>0.116197</td>\n",
       "      <td>True</td>\n",
       "    </tr>\n",
       "    <tr>\n",
       "      <th>3</th>\n",
       "      <td>666044226329800704</td>\n",
       "      <td>https://pbs.twimg.com/media/CT5Dr8HUEAA-lEu.jpg</td>\n",
       "      <td>1</td>\n",
       "      <td>Rhodesian_ridgeback</td>\n",
       "      <td>0.408143</td>\n",
       "      <td>True</td>\n",
       "      <td>redbone</td>\n",
       "      <td>0.360687</td>\n",
       "      <td>True</td>\n",
       "      <td>miniature_pinscher</td>\n",
       "      <td>0.222752</td>\n",
       "      <td>True</td>\n",
       "    </tr>\n",
       "    <tr>\n",
       "      <th>4</th>\n",
       "      <td>666049248165822465</td>\n",
       "      <td>https://pbs.twimg.com/media/CT5IQmsXIAAKY4A.jpg</td>\n",
       "      <td>1</td>\n",
       "      <td>miniature_pinscher</td>\n",
       "      <td>0.560311</td>\n",
       "      <td>True</td>\n",
       "      <td>Rottweiler</td>\n",
       "      <td>0.243682</td>\n",
       "      <td>True</td>\n",
       "      <td>Doberman</td>\n",
       "      <td>0.154629</td>\n",
       "      <td>True</td>\n",
       "    </tr>\n",
       "    <tr>\n",
       "      <th>...</th>\n",
       "      <td>...</td>\n",
       "      <td>...</td>\n",
       "      <td>...</td>\n",
       "      <td>...</td>\n",
       "      <td>...</td>\n",
       "      <td>...</td>\n",
       "      <td>...</td>\n",
       "      <td>...</td>\n",
       "      <td>...</td>\n",
       "      <td>...</td>\n",
       "      <td>...</td>\n",
       "      <td>...</td>\n",
       "    </tr>\n",
       "    <tr>\n",
       "      <th>2070</th>\n",
       "      <td>891327558926688256</td>\n",
       "      <td>https://pbs.twimg.com/media/DF6hr6BUMAAzZgT.jpg</td>\n",
       "      <td>2</td>\n",
       "      <td>basset</td>\n",
       "      <td>0.555712</td>\n",
       "      <td>True</td>\n",
       "      <td>English_springer</td>\n",
       "      <td>0.225770</td>\n",
       "      <td>True</td>\n",
       "      <td>German_short-haired_pointer</td>\n",
       "      <td>0.175219</td>\n",
       "      <td>True</td>\n",
       "    </tr>\n",
       "    <tr>\n",
       "      <th>2071</th>\n",
       "      <td>891689557279858688</td>\n",
       "      <td>https://pbs.twimg.com/media/DF_q7IAWsAEuuN8.jpg</td>\n",
       "      <td>1</td>\n",
       "      <td>paper_towel</td>\n",
       "      <td>0.170278</td>\n",
       "      <td>False</td>\n",
       "      <td>Labrador_retriever</td>\n",
       "      <td>0.168086</td>\n",
       "      <td>True</td>\n",
       "      <td>spatula</td>\n",
       "      <td>0.040836</td>\n",
       "      <td>False</td>\n",
       "    </tr>\n",
       "    <tr>\n",
       "      <th>2072</th>\n",
       "      <td>891815181378084864</td>\n",
       "      <td>https://pbs.twimg.com/media/DGBdLU1WsAANxJ9.jpg</td>\n",
       "      <td>1</td>\n",
       "      <td>Chihuahua</td>\n",
       "      <td>0.716012</td>\n",
       "      <td>True</td>\n",
       "      <td>malamute</td>\n",
       "      <td>0.078253</td>\n",
       "      <td>True</td>\n",
       "      <td>kelpie</td>\n",
       "      <td>0.031379</td>\n",
       "      <td>True</td>\n",
       "    </tr>\n",
       "    <tr>\n",
       "      <th>2073</th>\n",
       "      <td>892177421306343426</td>\n",
       "      <td>https://pbs.twimg.com/media/DGGmoV4XsAAUL6n.jpg</td>\n",
       "      <td>1</td>\n",
       "      <td>Chihuahua</td>\n",
       "      <td>0.323581</td>\n",
       "      <td>True</td>\n",
       "      <td>Pekinese</td>\n",
       "      <td>0.090647</td>\n",
       "      <td>True</td>\n",
       "      <td>papillon</td>\n",
       "      <td>0.068957</td>\n",
       "      <td>True</td>\n",
       "    </tr>\n",
       "    <tr>\n",
       "      <th>2074</th>\n",
       "      <td>892420643555336193</td>\n",
       "      <td>https://pbs.twimg.com/media/DGKD1-bXoAAIAUK.jpg</td>\n",
       "      <td>1</td>\n",
       "      <td>orange</td>\n",
       "      <td>0.097049</td>\n",
       "      <td>False</td>\n",
       "      <td>bagel</td>\n",
       "      <td>0.085851</td>\n",
       "      <td>False</td>\n",
       "      <td>banana</td>\n",
       "      <td>0.076110</td>\n",
       "      <td>False</td>\n",
       "    </tr>\n",
       "  </tbody>\n",
       "</table>\n",
       "<p>2075 rows × 12 columns</p>\n",
       "</div>"
      ],
      "text/plain": [
       "                tweet_id                                          jpg_url  \\\n",
       "0     666020888022790149  https://pbs.twimg.com/media/CT4udn0WwAA0aMy.jpg   \n",
       "1     666029285002620928  https://pbs.twimg.com/media/CT42GRgUYAA5iDo.jpg   \n",
       "2     666033412701032449  https://pbs.twimg.com/media/CT4521TWwAEvMyu.jpg   \n",
       "3     666044226329800704  https://pbs.twimg.com/media/CT5Dr8HUEAA-lEu.jpg   \n",
       "4     666049248165822465  https://pbs.twimg.com/media/CT5IQmsXIAAKY4A.jpg   \n",
       "...                  ...                                              ...   \n",
       "2070  891327558926688256  https://pbs.twimg.com/media/DF6hr6BUMAAzZgT.jpg   \n",
       "2071  891689557279858688  https://pbs.twimg.com/media/DF_q7IAWsAEuuN8.jpg   \n",
       "2072  891815181378084864  https://pbs.twimg.com/media/DGBdLU1WsAANxJ9.jpg   \n",
       "2073  892177421306343426  https://pbs.twimg.com/media/DGGmoV4XsAAUL6n.jpg   \n",
       "2074  892420643555336193  https://pbs.twimg.com/media/DGKD1-bXoAAIAUK.jpg   \n",
       "\n",
       "      img_num                      p1   p1_conf  p1_dog                  p2  \\\n",
       "0           1  Welsh_springer_spaniel  0.465074    True              collie   \n",
       "1           1                 redbone  0.506826    True  miniature_pinscher   \n",
       "2           1         German_shepherd  0.596461    True            malinois   \n",
       "3           1     Rhodesian_ridgeback  0.408143    True             redbone   \n",
       "4           1      miniature_pinscher  0.560311    True          Rottweiler   \n",
       "...       ...                     ...       ...     ...                 ...   \n",
       "2070        2                  basset  0.555712    True    English_springer   \n",
       "2071        1             paper_towel  0.170278   False  Labrador_retriever   \n",
       "2072        1               Chihuahua  0.716012    True            malamute   \n",
       "2073        1               Chihuahua  0.323581    True            Pekinese   \n",
       "2074        1                  orange  0.097049   False               bagel   \n",
       "\n",
       "       p2_conf  p2_dog                           p3   p3_conf  p3_dog  \n",
       "0     0.156665    True            Shetland_sheepdog  0.061428    True  \n",
       "1     0.074192    True          Rhodesian_ridgeback  0.072010    True  \n",
       "2     0.138584    True                   bloodhound  0.116197    True  \n",
       "3     0.360687    True           miniature_pinscher  0.222752    True  \n",
       "4     0.243682    True                     Doberman  0.154629    True  \n",
       "...        ...     ...                          ...       ...     ...  \n",
       "2070  0.225770    True  German_short-haired_pointer  0.175219    True  \n",
       "2071  0.168086    True                      spatula  0.040836   False  \n",
       "2072  0.078253    True                       kelpie  0.031379    True  \n",
       "2073  0.090647    True                     papillon  0.068957    True  \n",
       "2074  0.085851   False                       banana  0.076110   False  \n",
       "\n",
       "[2075 rows x 12 columns]"
      ]
     },
     "execution_count": 27,
     "metadata": {},
     "output_type": "execute_result"
    }
   ],
   "source": [
    "image_df"
   ]
  },
  {
   "cell_type": "markdown",
   "metadata": {},
   "source": [
    "* prediction names (p1, p2, p3) have some in lower case, others in title case.\n",
    "* Some of the column names (p1_conf, p2_conf, p3_conf) are not descriptive enough.\n",
    "* The prediction columns could be reduced to one prediction and one confidence column."
   ]
  },
  {
   "cell_type": "markdown",
   "metadata": {},
   "source": [
    "##### Programmatic Assessment"
   ]
  },
  {
   "cell_type": "code",
   "execution_count": 28,
   "metadata": {},
   "outputs": [
    {
     "name": "stdout",
     "output_type": "stream",
     "text": [
      "<class 'pandas.core.frame.DataFrame'>\n",
      "RangeIndex: 2075 entries, 0 to 2074\n",
      "Data columns (total 12 columns):\n",
      " #   Column    Non-Null Count  Dtype  \n",
      "---  ------    --------------  -----  \n",
      " 0   tweet_id  2075 non-null   int64  \n",
      " 1   jpg_url   2075 non-null   object \n",
      " 2   img_num   2075 non-null   int64  \n",
      " 3   p1        2075 non-null   object \n",
      " 4   p1_conf   2075 non-null   float64\n",
      " 5   p1_dog    2075 non-null   bool   \n",
      " 6   p2        2075 non-null   object \n",
      " 7   p2_conf   2075 non-null   float64\n",
      " 8   p2_dog    2075 non-null   bool   \n",
      " 9   p3        2075 non-null   object \n",
      " 10  p3_conf   2075 non-null   float64\n",
      " 11  p3_dog    2075 non-null   bool   \n",
      "dtypes: bool(3), float64(3), int64(2), object(4)\n",
      "memory usage: 152.1+ KB\n"
     ]
    }
   ],
   "source": [
    "# using pandas functions/methods to assess the data.\n",
    "image_df.info()"
   ]
  },
  {
   "cell_type": "markdown",
   "metadata": {},
   "source": [
    "* No null values.\n",
    "* `tweet id` is not numeric. It should be of type object."
   ]
  },
  {
   "cell_type": "code",
   "execution_count": 29,
   "metadata": {},
   "outputs": [
    {
     "data": {
      "text/plain": [
       "2009"
      ]
     },
     "execution_count": 29,
     "metadata": {},
     "output_type": "execute_result"
    }
   ],
   "source": [
    "# check for retweets\n",
    "image_df['jpg_url'].nunique()"
   ]
  },
  {
   "cell_type": "markdown",
   "metadata": {},
   "source": [
    "* retweeted tweets would have the same image (jpg_url column) as the original tweet. 2009 tweets have unique images, that means that there are 66 retweeted tweets in this dataframe."
   ]
  },
  {
   "cell_type": "code",
   "execution_count": 30,
   "metadata": {},
   "outputs": [
    {
     "data": {
      "text/html": [
       "<div>\n",
       "<style scoped>\n",
       "    .dataframe tbody tr th:only-of-type {\n",
       "        vertical-align: middle;\n",
       "    }\n",
       "\n",
       "    .dataframe tbody tr th {\n",
       "        vertical-align: top;\n",
       "    }\n",
       "\n",
       "    .dataframe thead th {\n",
       "        text-align: right;\n",
       "    }\n",
       "</style>\n",
       "<table border=\"1\" class=\"dataframe\">\n",
       "  <thead>\n",
       "    <tr style=\"text-align: right;\">\n",
       "      <th></th>\n",
       "      <th>tweet_id</th>\n",
       "      <th>jpg_url</th>\n",
       "      <th>img_num</th>\n",
       "      <th>p1</th>\n",
       "      <th>p1_conf</th>\n",
       "      <th>p1_dog</th>\n",
       "      <th>p2</th>\n",
       "      <th>p2_conf</th>\n",
       "      <th>p2_dog</th>\n",
       "      <th>p3</th>\n",
       "      <th>p3_conf</th>\n",
       "      <th>p3_dog</th>\n",
       "    </tr>\n",
       "  </thead>\n",
       "  <tbody>\n",
       "    <tr>\n",
       "      <th>1297</th>\n",
       "      <td>752309394570878976</td>\n",
       "      <td>https://pbs.twimg.com/ext_tw_video_thumb/67535...</td>\n",
       "      <td>1</td>\n",
       "      <td>upright</td>\n",
       "      <td>0.303415</td>\n",
       "      <td>False</td>\n",
       "      <td>golden_retriever</td>\n",
       "      <td>0.181351</td>\n",
       "      <td>True</td>\n",
       "      <td>Brittany_spaniel</td>\n",
       "      <td>0.162084</td>\n",
       "      <td>True</td>\n",
       "    </tr>\n",
       "    <tr>\n",
       "      <th>1315</th>\n",
       "      <td>754874841593970688</td>\n",
       "      <td>https://pbs.twimg.com/media/CWza7kpWcAAdYLc.jpg</td>\n",
       "      <td>1</td>\n",
       "      <td>pug</td>\n",
       "      <td>0.272205</td>\n",
       "      <td>True</td>\n",
       "      <td>bull_mastiff</td>\n",
       "      <td>0.251530</td>\n",
       "      <td>True</td>\n",
       "      <td>bath_towel</td>\n",
       "      <td>0.116806</td>\n",
       "      <td>False</td>\n",
       "    </tr>\n",
       "    <tr>\n",
       "      <th>1333</th>\n",
       "      <td>757729163776290825</td>\n",
       "      <td>https://pbs.twimg.com/media/CWyD2HGUYAQ1Xa7.jpg</td>\n",
       "      <td>2</td>\n",
       "      <td>cash_machine</td>\n",
       "      <td>0.802333</td>\n",
       "      <td>False</td>\n",
       "      <td>schipperke</td>\n",
       "      <td>0.045519</td>\n",
       "      <td>True</td>\n",
       "      <td>German_shepherd</td>\n",
       "      <td>0.023353</td>\n",
       "      <td>True</td>\n",
       "    </tr>\n",
       "    <tr>\n",
       "      <th>1345</th>\n",
       "      <td>759159934323924993</td>\n",
       "      <td>https://pbs.twimg.com/media/CU1zsMSUAAAS0qW.jpg</td>\n",
       "      <td>1</td>\n",
       "      <td>Irish_terrier</td>\n",
       "      <td>0.254856</td>\n",
       "      <td>True</td>\n",
       "      <td>briard</td>\n",
       "      <td>0.227716</td>\n",
       "      <td>True</td>\n",
       "      <td>soft-coated_wheaten_terrier</td>\n",
       "      <td>0.223263</td>\n",
       "      <td>True</td>\n",
       "    </tr>\n",
       "    <tr>\n",
       "      <th>1349</th>\n",
       "      <td>759566828574212096</td>\n",
       "      <td>https://pbs.twimg.com/media/CkNjahBXAAQ2kWo.jpg</td>\n",
       "      <td>1</td>\n",
       "      <td>Labrador_retriever</td>\n",
       "      <td>0.967397</td>\n",
       "      <td>True</td>\n",
       "      <td>golden_retriever</td>\n",
       "      <td>0.016641</td>\n",
       "      <td>True</td>\n",
       "      <td>ice_bear</td>\n",
       "      <td>0.014858</td>\n",
       "      <td>False</td>\n",
       "    </tr>\n",
       "    <tr>\n",
       "      <th>...</th>\n",
       "      <td>...</td>\n",
       "      <td>...</td>\n",
       "      <td>...</td>\n",
       "      <td>...</td>\n",
       "      <td>...</td>\n",
       "      <td>...</td>\n",
       "      <td>...</td>\n",
       "      <td>...</td>\n",
       "      <td>...</td>\n",
       "      <td>...</td>\n",
       "      <td>...</td>\n",
       "      <td>...</td>\n",
       "    </tr>\n",
       "    <tr>\n",
       "      <th>1903</th>\n",
       "      <td>851953902622658560</td>\n",
       "      <td>https://pbs.twimg.com/media/C4KHj-nWQAA3poV.jpg</td>\n",
       "      <td>1</td>\n",
       "      <td>Staffordshire_bullterrier</td>\n",
       "      <td>0.757547</td>\n",
       "      <td>True</td>\n",
       "      <td>American_Staffordshire_terrier</td>\n",
       "      <td>0.149950</td>\n",
       "      <td>True</td>\n",
       "      <td>Chesapeake_Bay_retriever</td>\n",
       "      <td>0.047523</td>\n",
       "      <td>True</td>\n",
       "    </tr>\n",
       "    <tr>\n",
       "      <th>1944</th>\n",
       "      <td>861769973181624320</td>\n",
       "      <td>https://pbs.twimg.com/media/CzG425nWgAAnP7P.jpg</td>\n",
       "      <td>2</td>\n",
       "      <td>Arabian_camel</td>\n",
       "      <td>0.366248</td>\n",
       "      <td>False</td>\n",
       "      <td>house_finch</td>\n",
       "      <td>0.209852</td>\n",
       "      <td>False</td>\n",
       "      <td>cocker_spaniel</td>\n",
       "      <td>0.046403</td>\n",
       "      <td>True</td>\n",
       "    </tr>\n",
       "    <tr>\n",
       "      <th>1992</th>\n",
       "      <td>873697596434513921</td>\n",
       "      <td>https://pbs.twimg.com/media/DA7iHL5U0AA1OQo.jpg</td>\n",
       "      <td>1</td>\n",
       "      <td>laptop</td>\n",
       "      <td>0.153718</td>\n",
       "      <td>False</td>\n",
       "      <td>French_bulldog</td>\n",
       "      <td>0.099984</td>\n",
       "      <td>True</td>\n",
       "      <td>printer</td>\n",
       "      <td>0.077130</td>\n",
       "      <td>False</td>\n",
       "    </tr>\n",
       "    <tr>\n",
       "      <th>2041</th>\n",
       "      <td>885311592912609280</td>\n",
       "      <td>https://pbs.twimg.com/media/C4bTH6nWMAAX_bJ.jpg</td>\n",
       "      <td>1</td>\n",
       "      <td>Labrador_retriever</td>\n",
       "      <td>0.908703</td>\n",
       "      <td>True</td>\n",
       "      <td>seat_belt</td>\n",
       "      <td>0.057091</td>\n",
       "      <td>False</td>\n",
       "      <td>pug</td>\n",
       "      <td>0.011933</td>\n",
       "      <td>True</td>\n",
       "    </tr>\n",
       "    <tr>\n",
       "      <th>2055</th>\n",
       "      <td>888202515573088257</td>\n",
       "      <td>https://pbs.twimg.com/media/DFDw2tyUQAAAFke.jpg</td>\n",
       "      <td>2</td>\n",
       "      <td>Pembroke</td>\n",
       "      <td>0.809197</td>\n",
       "      <td>True</td>\n",
       "      <td>Rhodesian_ridgeback</td>\n",
       "      <td>0.054950</td>\n",
       "      <td>True</td>\n",
       "      <td>beagle</td>\n",
       "      <td>0.038915</td>\n",
       "      <td>True</td>\n",
       "    </tr>\n",
       "  </tbody>\n",
       "</table>\n",
       "<p>66 rows × 12 columns</p>\n",
       "</div>"
      ],
      "text/plain": [
       "                tweet_id                                            jpg_url  \\\n",
       "1297  752309394570878976  https://pbs.twimg.com/ext_tw_video_thumb/67535...   \n",
       "1315  754874841593970688    https://pbs.twimg.com/media/CWza7kpWcAAdYLc.jpg   \n",
       "1333  757729163776290825    https://pbs.twimg.com/media/CWyD2HGUYAQ1Xa7.jpg   \n",
       "1345  759159934323924993    https://pbs.twimg.com/media/CU1zsMSUAAAS0qW.jpg   \n",
       "1349  759566828574212096    https://pbs.twimg.com/media/CkNjahBXAAQ2kWo.jpg   \n",
       "...                  ...                                                ...   \n",
       "1903  851953902622658560    https://pbs.twimg.com/media/C4KHj-nWQAA3poV.jpg   \n",
       "1944  861769973181624320    https://pbs.twimg.com/media/CzG425nWgAAnP7P.jpg   \n",
       "1992  873697596434513921    https://pbs.twimg.com/media/DA7iHL5U0AA1OQo.jpg   \n",
       "2041  885311592912609280    https://pbs.twimg.com/media/C4bTH6nWMAAX_bJ.jpg   \n",
       "2055  888202515573088257    https://pbs.twimg.com/media/DFDw2tyUQAAAFke.jpg   \n",
       "\n",
       "      img_num                         p1   p1_conf  p1_dog  \\\n",
       "1297        1                    upright  0.303415   False   \n",
       "1315        1                        pug  0.272205    True   \n",
       "1333        2               cash_machine  0.802333   False   \n",
       "1345        1              Irish_terrier  0.254856    True   \n",
       "1349        1         Labrador_retriever  0.967397    True   \n",
       "...       ...                        ...       ...     ...   \n",
       "1903        1  Staffordshire_bullterrier  0.757547    True   \n",
       "1944        2              Arabian_camel  0.366248   False   \n",
       "1992        1                     laptop  0.153718   False   \n",
       "2041        1         Labrador_retriever  0.908703    True   \n",
       "2055        2                   Pembroke  0.809197    True   \n",
       "\n",
       "                                  p2   p2_conf  p2_dog  \\\n",
       "1297                golden_retriever  0.181351    True   \n",
       "1315                    bull_mastiff  0.251530    True   \n",
       "1333                      schipperke  0.045519    True   \n",
       "1345                          briard  0.227716    True   \n",
       "1349                golden_retriever  0.016641    True   \n",
       "...                              ...       ...     ...   \n",
       "1903  American_Staffordshire_terrier  0.149950    True   \n",
       "1944                     house_finch  0.209852   False   \n",
       "1992                  French_bulldog  0.099984    True   \n",
       "2041                       seat_belt  0.057091   False   \n",
       "2055             Rhodesian_ridgeback  0.054950    True   \n",
       "\n",
       "                               p3   p3_conf  p3_dog  \n",
       "1297             Brittany_spaniel  0.162084    True  \n",
       "1315                   bath_towel  0.116806   False  \n",
       "1333              German_shepherd  0.023353    True  \n",
       "1345  soft-coated_wheaten_terrier  0.223263    True  \n",
       "1349                     ice_bear  0.014858   False  \n",
       "...                           ...       ...     ...  \n",
       "1903     Chesapeake_Bay_retriever  0.047523    True  \n",
       "1944               cocker_spaniel  0.046403    True  \n",
       "1992                      printer  0.077130   False  \n",
       "2041                          pug  0.011933    True  \n",
       "2055                       beagle  0.038915    True  \n",
       "\n",
       "[66 rows x 12 columns]"
      ]
     },
     "execution_count": 30,
     "metadata": {},
     "output_type": "execute_result"
    }
   ],
   "source": [
    "# rows with duplicated jpg_url column\n",
    "image_df[image_df['jpg_url'].duplicated()]"
   ]
  },
  {
   "cell_type": "code",
   "execution_count": 31,
   "metadata": {},
   "outputs": [
    {
     "data": {
      "text/html": [
       "<div>\n",
       "<style scoped>\n",
       "    .dataframe tbody tr th:only-of-type {\n",
       "        vertical-align: middle;\n",
       "    }\n",
       "\n",
       "    .dataframe tbody tr th {\n",
       "        vertical-align: top;\n",
       "    }\n",
       "\n",
       "    .dataframe thead th {\n",
       "        text-align: right;\n",
       "    }\n",
       "</style>\n",
       "<table border=\"1\" class=\"dataframe\">\n",
       "  <thead>\n",
       "    <tr style=\"text-align: right;\">\n",
       "      <th></th>\n",
       "      <th>tweet_id</th>\n",
       "      <th>jpg_url</th>\n",
       "      <th>img_num</th>\n",
       "      <th>p1</th>\n",
       "      <th>p1_conf</th>\n",
       "      <th>p1_dog</th>\n",
       "      <th>p2</th>\n",
       "      <th>p2_conf</th>\n",
       "      <th>p2_dog</th>\n",
       "      <th>p3</th>\n",
       "      <th>p3_conf</th>\n",
       "      <th>p3_dog</th>\n",
       "    </tr>\n",
       "  </thead>\n",
       "  <tbody>\n",
       "    <tr>\n",
       "      <th>6</th>\n",
       "      <td>666051853826850816</td>\n",
       "      <td>https://pbs.twimg.com/media/CT5KoJ1WoAAJash.jpg</td>\n",
       "      <td>1</td>\n",
       "      <td>box_turtle</td>\n",
       "      <td>0.933012</td>\n",
       "      <td>False</td>\n",
       "      <td>mud_turtle</td>\n",
       "      <td>0.045885</td>\n",
       "      <td>False</td>\n",
       "      <td>terrapin</td>\n",
       "      <td>0.017885</td>\n",
       "      <td>False</td>\n",
       "    </tr>\n",
       "    <tr>\n",
       "      <th>17</th>\n",
       "      <td>666104133288665088</td>\n",
       "      <td>https://pbs.twimg.com/media/CT56LSZWoAAlJj2.jpg</td>\n",
       "      <td>1</td>\n",
       "      <td>hen</td>\n",
       "      <td>0.965932</td>\n",
       "      <td>False</td>\n",
       "      <td>cock</td>\n",
       "      <td>0.033919</td>\n",
       "      <td>False</td>\n",
       "      <td>partridge</td>\n",
       "      <td>0.000052</td>\n",
       "      <td>False</td>\n",
       "    </tr>\n",
       "    <tr>\n",
       "      <th>18</th>\n",
       "      <td>666268910803644416</td>\n",
       "      <td>https://pbs.twimg.com/media/CT8QCd1WEAADXws.jpg</td>\n",
       "      <td>1</td>\n",
       "      <td>desktop_computer</td>\n",
       "      <td>0.086502</td>\n",
       "      <td>False</td>\n",
       "      <td>desk</td>\n",
       "      <td>0.085547</td>\n",
       "      <td>False</td>\n",
       "      <td>bookcase</td>\n",
       "      <td>0.079480</td>\n",
       "      <td>False</td>\n",
       "    </tr>\n",
       "    <tr>\n",
       "      <th>21</th>\n",
       "      <td>666293911632134144</td>\n",
       "      <td>https://pbs.twimg.com/media/CT8mx7KW4AEQu8N.jpg</td>\n",
       "      <td>1</td>\n",
       "      <td>three-toed_sloth</td>\n",
       "      <td>0.914671</td>\n",
       "      <td>False</td>\n",
       "      <td>otter</td>\n",
       "      <td>0.015250</td>\n",
       "      <td>False</td>\n",
       "      <td>great_grey_owl</td>\n",
       "      <td>0.013207</td>\n",
       "      <td>False</td>\n",
       "    </tr>\n",
       "    <tr>\n",
       "      <th>25</th>\n",
       "      <td>666362758909284353</td>\n",
       "      <td>https://pbs.twimg.com/media/CT9lXGsUcAAyUFt.jpg</td>\n",
       "      <td>1</td>\n",
       "      <td>guinea_pig</td>\n",
       "      <td>0.996496</td>\n",
       "      <td>False</td>\n",
       "      <td>skunk</td>\n",
       "      <td>0.002402</td>\n",
       "      <td>False</td>\n",
       "      <td>hamster</td>\n",
       "      <td>0.000461</td>\n",
       "      <td>False</td>\n",
       "    </tr>\n",
       "    <tr>\n",
       "      <th>...</th>\n",
       "      <td>...</td>\n",
       "      <td>...</td>\n",
       "      <td>...</td>\n",
       "      <td>...</td>\n",
       "      <td>...</td>\n",
       "      <td>...</td>\n",
       "      <td>...</td>\n",
       "      <td>...</td>\n",
       "      <td>...</td>\n",
       "      <td>...</td>\n",
       "      <td>...</td>\n",
       "      <td>...</td>\n",
       "    </tr>\n",
       "    <tr>\n",
       "      <th>2021</th>\n",
       "      <td>880935762899988482</td>\n",
       "      <td>https://pbs.twimg.com/media/DDm2Z5aXUAEDS2u.jpg</td>\n",
       "      <td>1</td>\n",
       "      <td>street_sign</td>\n",
       "      <td>0.251801</td>\n",
       "      <td>False</td>\n",
       "      <td>umbrella</td>\n",
       "      <td>0.115123</td>\n",
       "      <td>False</td>\n",
       "      <td>traffic_light</td>\n",
       "      <td>0.069534</td>\n",
       "      <td>False</td>\n",
       "    </tr>\n",
       "    <tr>\n",
       "      <th>2022</th>\n",
       "      <td>881268444196462592</td>\n",
       "      <td>https://pbs.twimg.com/media/DDrk-f9WAAI-WQv.jpg</td>\n",
       "      <td>1</td>\n",
       "      <td>tusker</td>\n",
       "      <td>0.473303</td>\n",
       "      <td>False</td>\n",
       "      <td>Indian_elephant</td>\n",
       "      <td>0.245646</td>\n",
       "      <td>False</td>\n",
       "      <td>ibex</td>\n",
       "      <td>0.055661</td>\n",
       "      <td>False</td>\n",
       "    </tr>\n",
       "    <tr>\n",
       "      <th>2046</th>\n",
       "      <td>886680336477933568</td>\n",
       "      <td>https://pbs.twimg.com/media/DE4fEDzWAAAyHMM.jpg</td>\n",
       "      <td>1</td>\n",
       "      <td>convertible</td>\n",
       "      <td>0.738995</td>\n",
       "      <td>False</td>\n",
       "      <td>sports_car</td>\n",
       "      <td>0.139952</td>\n",
       "      <td>False</td>\n",
       "      <td>car_wheel</td>\n",
       "      <td>0.044173</td>\n",
       "      <td>False</td>\n",
       "    </tr>\n",
       "    <tr>\n",
       "      <th>2052</th>\n",
       "      <td>887517139158093824</td>\n",
       "      <td>https://pbs.twimg.com/ext_tw_video_thumb/88751...</td>\n",
       "      <td>1</td>\n",
       "      <td>limousine</td>\n",
       "      <td>0.130432</td>\n",
       "      <td>False</td>\n",
       "      <td>tow_truck</td>\n",
       "      <td>0.029175</td>\n",
       "      <td>False</td>\n",
       "      <td>shopping_cart</td>\n",
       "      <td>0.026321</td>\n",
       "      <td>False</td>\n",
       "    </tr>\n",
       "    <tr>\n",
       "      <th>2074</th>\n",
       "      <td>892420643555336193</td>\n",
       "      <td>https://pbs.twimg.com/media/DGKD1-bXoAAIAUK.jpg</td>\n",
       "      <td>1</td>\n",
       "      <td>orange</td>\n",
       "      <td>0.097049</td>\n",
       "      <td>False</td>\n",
       "      <td>bagel</td>\n",
       "      <td>0.085851</td>\n",
       "      <td>False</td>\n",
       "      <td>banana</td>\n",
       "      <td>0.076110</td>\n",
       "      <td>False</td>\n",
       "    </tr>\n",
       "  </tbody>\n",
       "</table>\n",
       "<p>324 rows × 12 columns</p>\n",
       "</div>"
      ],
      "text/plain": [
       "                tweet_id                                            jpg_url  \\\n",
       "6     666051853826850816    https://pbs.twimg.com/media/CT5KoJ1WoAAJash.jpg   \n",
       "17    666104133288665088    https://pbs.twimg.com/media/CT56LSZWoAAlJj2.jpg   \n",
       "18    666268910803644416    https://pbs.twimg.com/media/CT8QCd1WEAADXws.jpg   \n",
       "21    666293911632134144    https://pbs.twimg.com/media/CT8mx7KW4AEQu8N.jpg   \n",
       "25    666362758909284353    https://pbs.twimg.com/media/CT9lXGsUcAAyUFt.jpg   \n",
       "...                  ...                                                ...   \n",
       "2021  880935762899988482    https://pbs.twimg.com/media/DDm2Z5aXUAEDS2u.jpg   \n",
       "2022  881268444196462592    https://pbs.twimg.com/media/DDrk-f9WAAI-WQv.jpg   \n",
       "2046  886680336477933568    https://pbs.twimg.com/media/DE4fEDzWAAAyHMM.jpg   \n",
       "2052  887517139158093824  https://pbs.twimg.com/ext_tw_video_thumb/88751...   \n",
       "2074  892420643555336193    https://pbs.twimg.com/media/DGKD1-bXoAAIAUK.jpg   \n",
       "\n",
       "      img_num                p1   p1_conf  p1_dog               p2   p2_conf  \\\n",
       "6           1        box_turtle  0.933012   False       mud_turtle  0.045885   \n",
       "17          1               hen  0.965932   False             cock  0.033919   \n",
       "18          1  desktop_computer  0.086502   False             desk  0.085547   \n",
       "21          1  three-toed_sloth  0.914671   False            otter  0.015250   \n",
       "25          1        guinea_pig  0.996496   False            skunk  0.002402   \n",
       "...       ...               ...       ...     ...              ...       ...   \n",
       "2021        1       street_sign  0.251801   False         umbrella  0.115123   \n",
       "2022        1            tusker  0.473303   False  Indian_elephant  0.245646   \n",
       "2046        1       convertible  0.738995   False       sports_car  0.139952   \n",
       "2052        1         limousine  0.130432   False        tow_truck  0.029175   \n",
       "2074        1            orange  0.097049   False            bagel  0.085851   \n",
       "\n",
       "      p2_dog              p3   p3_conf  p3_dog  \n",
       "6      False        terrapin  0.017885   False  \n",
       "17     False       partridge  0.000052   False  \n",
       "18     False        bookcase  0.079480   False  \n",
       "21     False  great_grey_owl  0.013207   False  \n",
       "25     False         hamster  0.000461   False  \n",
       "...      ...             ...       ...     ...  \n",
       "2021   False   traffic_light  0.069534   False  \n",
       "2022   False            ibex  0.055661   False  \n",
       "2046   False       car_wheel  0.044173   False  \n",
       "2052   False   shopping_cart  0.026321   False  \n",
       "2074   False          banana  0.076110   False  \n",
       "\n",
       "[324 rows x 12 columns]"
      ]
     },
     "execution_count": 31,
     "metadata": {},
     "output_type": "execute_result"
    }
   ],
   "source": [
    "# let's check to see if there are any rows where the algorithm did not identify and dog.\n",
    "\n",
    "image_df[(image_df['p1_dog'] == False) & (image_df['p2_dog'] == False) & (image_df['p3_dog'] == False)]"
   ]
  },
  {
   "cell_type": "markdown",
   "metadata": {},
   "source": [
    "* By manually checking some of the images, some of them are indeed not dogs. others have additional objects in the image that makes it dfficult for the algorithm to identify the dog in the image."
   ]
  },
  {
   "cell_type": "markdown",
   "metadata": {},
   "source": [
    "-------------------------------------------------------------------------------------------------------------------------------"
   ]
  },
  {
   "cell_type": "markdown",
   "metadata": {},
   "source": [
    "### Assess api_df"
   ]
  },
  {
   "cell_type": "markdown",
   "metadata": {},
   "source": [
    "##### Visual Assessment"
   ]
  },
  {
   "cell_type": "code",
   "execution_count": 32,
   "metadata": {},
   "outputs": [
    {
     "data": {
      "text/html": [
       "<div>\n",
       "<style scoped>\n",
       "    .dataframe tbody tr th:only-of-type {\n",
       "        vertical-align: middle;\n",
       "    }\n",
       "\n",
       "    .dataframe tbody tr th {\n",
       "        vertical-align: top;\n",
       "    }\n",
       "\n",
       "    .dataframe thead th {\n",
       "        text-align: right;\n",
       "    }\n",
       "</style>\n",
       "<table border=\"1\" class=\"dataframe\">\n",
       "  <thead>\n",
       "    <tr style=\"text-align: right;\">\n",
       "      <th></th>\n",
       "      <th>tweet_id</th>\n",
       "      <th>retweet_count</th>\n",
       "      <th>favorite_count</th>\n",
       "      <th>retweeted</th>\n",
       "      <th>favorited</th>\n",
       "      <th>is_quote_status</th>\n",
       "      <th>display_text_range</th>\n",
       "    </tr>\n",
       "  </thead>\n",
       "  <tbody>\n",
       "    <tr>\n",
       "      <th>0</th>\n",
       "      <td>892420643555336193</td>\n",
       "      <td>7036</td>\n",
       "      <td>33872</td>\n",
       "      <td>False</td>\n",
       "      <td>False</td>\n",
       "      <td>False</td>\n",
       "      <td>[0, 85]</td>\n",
       "    </tr>\n",
       "    <tr>\n",
       "      <th>1</th>\n",
       "      <td>892177421306343426</td>\n",
       "      <td>5312</td>\n",
       "      <td>29385</td>\n",
       "      <td>False</td>\n",
       "      <td>False</td>\n",
       "      <td>False</td>\n",
       "      <td>[0, 138]</td>\n",
       "    </tr>\n",
       "    <tr>\n",
       "      <th>2</th>\n",
       "      <td>891815181378084864</td>\n",
       "      <td>3491</td>\n",
       "      <td>22100</td>\n",
       "      <td>False</td>\n",
       "      <td>False</td>\n",
       "      <td>False</td>\n",
       "      <td>[0, 121]</td>\n",
       "    </tr>\n",
       "    <tr>\n",
       "      <th>3</th>\n",
       "      <td>891689557279858688</td>\n",
       "      <td>7243</td>\n",
       "      <td>36999</td>\n",
       "      <td>False</td>\n",
       "      <td>False</td>\n",
       "      <td>False</td>\n",
       "      <td>[0, 79]</td>\n",
       "    </tr>\n",
       "    <tr>\n",
       "      <th>4</th>\n",
       "      <td>891327558926688256</td>\n",
       "      <td>7784</td>\n",
       "      <td>35374</td>\n",
       "      <td>False</td>\n",
       "      <td>False</td>\n",
       "      <td>False</td>\n",
       "      <td>[0, 138]</td>\n",
       "    </tr>\n",
       "    <tr>\n",
       "      <th>...</th>\n",
       "      <td>...</td>\n",
       "      <td>...</td>\n",
       "      <td>...</td>\n",
       "      <td>...</td>\n",
       "      <td>...</td>\n",
       "      <td>...</td>\n",
       "      <td>...</td>\n",
       "    </tr>\n",
       "    <tr>\n",
       "      <th>2322</th>\n",
       "      <td>666049248165822465</td>\n",
       "      <td>37</td>\n",
       "      <td>89</td>\n",
       "      <td>False</td>\n",
       "      <td>False</td>\n",
       "      <td>False</td>\n",
       "      <td>[0, 120]</td>\n",
       "    </tr>\n",
       "    <tr>\n",
       "      <th>2323</th>\n",
       "      <td>666044226329800704</td>\n",
       "      <td>115</td>\n",
       "      <td>247</td>\n",
       "      <td>False</td>\n",
       "      <td>False</td>\n",
       "      <td>False</td>\n",
       "      <td>[0, 137]</td>\n",
       "    </tr>\n",
       "    <tr>\n",
       "      <th>2324</th>\n",
       "      <td>666033412701032449</td>\n",
       "      <td>36</td>\n",
       "      <td>100</td>\n",
       "      <td>False</td>\n",
       "      <td>False</td>\n",
       "      <td>False</td>\n",
       "      <td>[0, 130]</td>\n",
       "    </tr>\n",
       "    <tr>\n",
       "      <th>2325</th>\n",
       "      <td>666029285002620928</td>\n",
       "      <td>39</td>\n",
       "      <td>112</td>\n",
       "      <td>False</td>\n",
       "      <td>False</td>\n",
       "      <td>False</td>\n",
       "      <td>[0, 139]</td>\n",
       "    </tr>\n",
       "    <tr>\n",
       "      <th>2326</th>\n",
       "      <td>666020888022790149</td>\n",
       "      <td>423</td>\n",
       "      <td>2296</td>\n",
       "      <td>False</td>\n",
       "      <td>False</td>\n",
       "      <td>False</td>\n",
       "      <td>[0, 131]</td>\n",
       "    </tr>\n",
       "  </tbody>\n",
       "</table>\n",
       "<p>2327 rows × 7 columns</p>\n",
       "</div>"
      ],
      "text/plain": [
       "                tweet_id  retweet_count  favorite_count  retweeted  favorited  \\\n",
       "0     892420643555336193           7036           33872      False      False   \n",
       "1     892177421306343426           5312           29385      False      False   \n",
       "2     891815181378084864           3491           22100      False      False   \n",
       "3     891689557279858688           7243           36999      False      False   \n",
       "4     891327558926688256           7784           35374      False      False   \n",
       "...                  ...            ...             ...        ...        ...   \n",
       "2322  666049248165822465             37              89      False      False   \n",
       "2323  666044226329800704            115             247      False      False   \n",
       "2324  666033412701032449             36             100      False      False   \n",
       "2325  666029285002620928             39             112      False      False   \n",
       "2326  666020888022790149            423            2296      False      False   \n",
       "\n",
       "      is_quote_status display_text_range  \n",
       "0               False            [0, 85]  \n",
       "1               False           [0, 138]  \n",
       "2               False           [0, 121]  \n",
       "3               False            [0, 79]  \n",
       "4               False           [0, 138]  \n",
       "...               ...                ...  \n",
       "2322            False           [0, 120]  \n",
       "2323            False           [0, 137]  \n",
       "2324            False           [0, 130]  \n",
       "2325            False           [0, 139]  \n",
       "2326            False           [0, 131]  \n",
       "\n",
       "[2327 rows x 7 columns]"
      ]
     },
     "execution_count": 32,
     "metadata": {},
     "output_type": "execute_result"
    }
   ],
   "source": [
    "api_df"
   ]
  },
  {
   "cell_type": "markdown",
   "metadata": {},
   "source": [
    "* The `display_text_range` column could be split into two columns."
   ]
  },
  {
   "cell_type": "markdown",
   "metadata": {},
   "source": [
    "##### Programmatic Assessment"
   ]
  },
  {
   "cell_type": "code",
   "execution_count": 33,
   "metadata": {},
   "outputs": [
    {
     "name": "stdout",
     "output_type": "stream",
     "text": [
      "<class 'pandas.core.frame.DataFrame'>\n",
      "RangeIndex: 2327 entries, 0 to 2326\n",
      "Data columns (total 7 columns):\n",
      " #   Column              Non-Null Count  Dtype \n",
      "---  ------              --------------  ----- \n",
      " 0   tweet_id            2327 non-null   int64 \n",
      " 1   retweet_count       2327 non-null   int64 \n",
      " 2   favorite_count      2327 non-null   int64 \n",
      " 3   retweeted           2327 non-null   bool  \n",
      " 4   favorited           2327 non-null   bool  \n",
      " 5   is_quote_status     2327 non-null   bool  \n",
      " 6   display_text_range  2327 non-null   object\n",
      "dtypes: bool(3), int64(3), object(1)\n",
      "memory usage: 79.7+ KB\n"
     ]
    }
   ],
   "source": [
    "# use pandas functions/methods to assess the data\n",
    "api_df.info()"
   ]
  },
  {
   "cell_type": "markdown",
   "metadata": {},
   "source": [
    "* As with the previous two dataframes, the `tweet_id` should be of type object."
   ]
  },
  {
   "cell_type": "code",
   "execution_count": 34,
   "metadata": {},
   "outputs": [
    {
     "data": {
      "text/plain": [
       "0"
      ]
     },
     "execution_count": 34,
     "metadata": {},
     "output_type": "execute_result"
    }
   ],
   "source": [
    "# check for duplicates\n",
    "api_df['tweet_id'].duplicated().sum()"
   ]
  },
  {
   "cell_type": "code",
   "execution_count": 35,
   "metadata": {},
   "outputs": [
    {
     "data": {
      "text/plain": [
       "False    2327\n",
       "Name: retweeted, dtype: int64"
      ]
     },
     "execution_count": 35,
     "metadata": {},
     "output_type": "execute_result"
    }
   ],
   "source": [
    "# check to see unique values in the retweeted column \n",
    "api_df['retweeted'].value_counts()"
   ]
  },
  {
   "cell_type": "code",
   "execution_count": 36,
   "metadata": {},
   "outputs": [
    {
     "data": {
      "text/plain": [
       "False    2327\n",
       "Name: favorited, dtype: int64"
      ]
     },
     "execution_count": 36,
     "metadata": {},
     "output_type": "execute_result"
    }
   ],
   "source": [
    "# check to see unique values in the favorited column \n",
    "api_df['favorited'].value_counts()"
   ]
  },
  {
   "cell_type": "markdown",
   "metadata": {},
   "source": [
    "* Seems that `retweeted` and `favorited` columns all contain one value all through."
   ]
  },
  {
   "cell_type": "markdown",
   "metadata": {},
   "source": [
    "-------------------------------------------------------------------------------------------------------------------------------"
   ]
  },
  {
   "cell_type": "markdown",
   "metadata": {},
   "source": [
    "### Quality issues\n",
    "##### twitter_df\n",
    "1. The `name` columns has 'a' and 'None' as the name of a Dog.\n",
    "\n",
    "2. Most of the rows in the `doggo`, `floofer`, `puppo` and `pupper` columns in the have 'None' as its value.\n",
    "\n",
    "3. There are not null values in the `retweeted_status_id` column.\n",
    "\n",
    "4. `timestamp` column is an object type. It should be of type datetime.\n",
    "\n",
    "5. `tweet_id` is not a numeric value. it should be of type object.\n",
    "\n",
    "6. `source` column has unnecessary html tags surrounding the main information.\n",
    "\n",
    "7. `rating_denominator` column contain numbers like 0, 2, 7. Check to see that the ratings for these rows were extracted correctly.\n",
    "\n",
    "8. `rating_numerator` column contain numbers like 0, 143, 24. Check to see that the ratings for these rows were extracted correctly.\n",
    "*The rating columns issues will be addressed after merging the three dataframes to create a master dataframe.*\n",
    "\n",
    "##### image_df\n",
    "1. Prediction names (p1, p2, p3) have some names in lower case, others in title case.\n",
    "\n",
    "2. `tweet id` is not numeric. It should be of type object.\n",
    "\n",
    "3. Some of the tweets are not images of dogs.\n",
    "\n",
    "4. Some column names (p1_conf, p2_conf, p3_conf) are not descriptive enough.\n",
    "\n",
    "##### api_df\n",
    "1. `tweet id` is not numeric. It should be of type object.\n",
    "\n",
    "2. Seems that `retweeted` and `favorited` columns all contain one value all through."
   ]
  },
  {
   "cell_type": "markdown",
   "metadata": {
    "extensions": {
     "jupyter_dashboards": {
      "version": 1,
      "views": {
       "grid_default": {
        "col": 0,
        "height": 7,
        "hidden": false,
        "row": 40,
        "width": 12
       },
       "report_default": {
        "hidden": false
       }
      }
     }
    }
   },
   "source": [
    "### Tidiness issues\n",
    "\n",
    "##### twitter_df\n",
    "1. The `doggo`, `floofer`, `puppo` and `pupper` columns could be combined into one column since they are all stages a Dog is in.\n",
    "\n",
    "##### image_df\n",
    "1. The prediction columns (p1, p2, p3 and p1_conf, p2_conf, p3_conf) could be reduced to one prediction (prediction) and one confidence (confidence) column.\n",
    "\n",
    "##### api_df\n",
    "1. The `display_text_range` column could be split into two columns."
   ]
  },
  {
   "cell_type": "markdown",
   "metadata": {
    "extensions": {
     "jupyter_dashboards": {
      "version": 1,
      "views": {
       "grid_default": {
        "col": 4,
        "height": 4,
        "hidden": false,
        "row": 32,
        "width": 4
       },
       "report_default": {
        "hidden": false
       }
      }
     }
    }
   },
   "source": [
    "## Cleaning Data\n",
    "In this section, clean **all** of the issues you documented while assessing. \n",
    "\n",
    "**Note:** Make a copy of the original data before cleaning. Cleaning includes merging individual pieces of data according to the rules of [tidy data](https://cran.r-project.org/web/packages/tidyr/vignettes/tidy-data.html). The result should be a high-quality and tidy master pandas DataFrame (or DataFrames, if appropriate)."
   ]
  },
  {
   "cell_type": "code",
   "execution_count": 37,
   "metadata": {},
   "outputs": [],
   "source": [
    "# Make copies of original pieces of data\n",
    "twitter_df_clean = twitter_df.copy()\n",
    "image_df_clean = image_df.copy()\n",
    "api_df_clean = api_df.copy()"
   ]
  },
  {
   "cell_type": "markdown",
   "metadata": {},
   "source": [
    "### twitter_df_clean"
   ]
  },
  {
   "cell_type": "markdown",
   "metadata": {},
   "source": [
    "### Quality issue #1:\n",
    "\n",
    "##### The `name` columns has 'a' and 'None' as the name of a Dog."
   ]
  },
  {
   "cell_type": "markdown",
   "metadata": {},
   "source": [
    "#### Define: \n",
    "Replace the 'a' and 'None' values in the `name` column with null"
   ]
  },
  {
   "cell_type": "markdown",
   "metadata": {},
   "source": [
    "#### Code"
   ]
  },
  {
   "cell_type": "code",
   "execution_count": 38,
   "metadata": {},
   "outputs": [],
   "source": [
    "# loop through and replace the two values with null\n",
    "\n",
    "for value in ['a', 'None']:\n",
    "    twitter_df_clean['name'].replace(value, np.nan, inplace=True)"
   ]
  },
  {
   "cell_type": "markdown",
   "metadata": {},
   "source": [
    "#### Test"
   ]
  },
  {
   "cell_type": "code",
   "execution_count": 39,
   "metadata": {},
   "outputs": [
    {
     "data": {
      "text/plain": [
       "Charlie    12\n",
       "Lucy       11\n",
       "Oliver     11\n",
       "Cooper     11\n",
       "Lola       10\n",
       "           ..\n",
       "Jay         1\n",
       "Severus     1\n",
       "Tanner      1\n",
       "Pippin      1\n",
       "Gabby       1\n",
       "Name: name, Length: 955, dtype: int64"
      ]
     },
     "execution_count": 39,
     "metadata": {},
     "output_type": "execute_result"
    }
   ],
   "source": [
    "# the previous top two values 'None' and 'a' are gone.\n",
    "twitter_df_clean['name'].value_counts()"
   ]
  },
  {
   "cell_type": "markdown",
   "metadata": {},
   "source": [
    "### Quality issue #2: \n",
    "\n",
    "##### Most of the rows in the `doggo`, `floofer`, `puppo` and `pupper` columns in the have 'None' as its value."
   ]
  },
  {
   "cell_type": "markdown",
   "metadata": {},
   "source": [
    "#### Define:"
   ]
  },
  {
   "cell_type": "markdown",
   "metadata": {},
   "source": [
    "Replace rows containing 'None' with an empty string. This makes is easier to combine the columns later."
   ]
  },
  {
   "cell_type": "markdown",
   "metadata": {},
   "source": [
    "#### Code"
   ]
  },
  {
   "cell_type": "code",
   "execution_count": 40,
   "metadata": {},
   "outputs": [],
   "source": [
    "# loop through the four columns and replace 'None' with ''.\n",
    "columns = ['doggo', 'floofer', 'puppo', 'pupper']\n",
    "\n",
    "for column in columns:\n",
    "    twitter_df_clean[column].replace('None', '', inplace=True)"
   ]
  },
  {
   "cell_type": "markdown",
   "metadata": {},
   "source": [
    "#### Test"
   ]
  },
  {
   "cell_type": "code",
   "execution_count": 41,
   "metadata": {},
   "outputs": [
    {
     "data": {
      "text/html": [
       "<div>\n",
       "<style scoped>\n",
       "    .dataframe tbody tr th:only-of-type {\n",
       "        vertical-align: middle;\n",
       "    }\n",
       "\n",
       "    .dataframe tbody tr th {\n",
       "        vertical-align: top;\n",
       "    }\n",
       "\n",
       "    .dataframe thead th {\n",
       "        text-align: right;\n",
       "    }\n",
       "</style>\n",
       "<table border=\"1\" class=\"dataframe\">\n",
       "  <thead>\n",
       "    <tr style=\"text-align: right;\">\n",
       "      <th></th>\n",
       "      <th>doggo</th>\n",
       "      <th>floofer</th>\n",
       "      <th>puppo</th>\n",
       "      <th>pupper</th>\n",
       "    </tr>\n",
       "  </thead>\n",
       "  <tbody>\n",
       "    <tr>\n",
       "      <th>0</th>\n",
       "      <td></td>\n",
       "      <td></td>\n",
       "      <td></td>\n",
       "      <td></td>\n",
       "    </tr>\n",
       "    <tr>\n",
       "      <th>1</th>\n",
       "      <td></td>\n",
       "      <td></td>\n",
       "      <td></td>\n",
       "      <td></td>\n",
       "    </tr>\n",
       "    <tr>\n",
       "      <th>2</th>\n",
       "      <td></td>\n",
       "      <td></td>\n",
       "      <td></td>\n",
       "      <td></td>\n",
       "    </tr>\n",
       "    <tr>\n",
       "      <th>3</th>\n",
       "      <td></td>\n",
       "      <td></td>\n",
       "      <td></td>\n",
       "      <td></td>\n",
       "    </tr>\n",
       "    <tr>\n",
       "      <th>4</th>\n",
       "      <td></td>\n",
       "      <td></td>\n",
       "      <td></td>\n",
       "      <td></td>\n",
       "    </tr>\n",
       "  </tbody>\n",
       "</table>\n",
       "</div>"
      ],
      "text/plain": [
       "  doggo floofer puppo pupper\n",
       "0                           \n",
       "1                           \n",
       "2                           \n",
       "3                           \n",
       "4                           "
      ]
     },
     "execution_count": 41,
     "metadata": {},
     "output_type": "execute_result"
    }
   ],
   "source": [
    "twitter_df_clean[columns].head()"
   ]
  },
  {
   "cell_type": "markdown",
   "metadata": {},
   "source": [
    "### Quality issue #3:\n",
    "\n",
    "##### There are not null values in the `retweeted_status_id` column."
   ]
  },
  {
   "cell_type": "markdown",
   "metadata": {},
   "source": [
    "#### Define:\n",
    "\n",
    "Drop rows with non null values in the `retweeted_status_id` column.\n",
    "> The presence of values that are not NaN means that those tweets are retweets. Since we only want original tweets with images, these rows have to be dropped.\n",
    ">\n",
    "> After we can drop all columns related to retweets since they'll contain only null values."
   ]
  },
  {
   "cell_type": "markdown",
   "metadata": {},
   "source": [
    "#### Code"
   ]
  },
  {
   "cell_type": "code",
   "execution_count": 42,
   "metadata": {},
   "outputs": [],
   "source": [
    "# select the index of rows that have not null values in the selected column and turn it to a list.\n",
    "remove_index = list(twitter_df_clean[~twitter_df_clean['retweeted_status_id'].isnull()].index)\n",
    "\n",
    "# drop all the rows whose index is in the list created\n",
    "twitter_df_clean.drop(labels=remove_index, inplace=True)"
   ]
  },
  {
   "cell_type": "code",
   "execution_count": 43,
   "metadata": {},
   "outputs": [],
   "source": [
    "# drop all columns related to retweets\n",
    "twitter_df_clean.drop(columns=['retweeted_status_id', 'retweeted_status_user_id', 'retweeted_status_timestamp'], inplace=True)"
   ]
  },
  {
   "cell_type": "markdown",
   "metadata": {},
   "source": [
    "#### Test"
   ]
  },
  {
   "cell_type": "code",
   "execution_count": 44,
   "metadata": {},
   "outputs": [
    {
     "data": {
      "text/plain": [
       "Index(['tweet_id', 'in_reply_to_status_id', 'in_reply_to_user_id', 'timestamp',\n",
       "       'source', 'text', 'expanded_urls', 'rating_numerator',\n",
       "       'rating_denominator', 'name', 'doggo', 'floofer', 'pupper', 'puppo'],\n",
       "      dtype='object')"
      ]
     },
     "execution_count": 44,
     "metadata": {},
     "output_type": "execute_result"
    }
   ],
   "source": [
    "# check that the columns dropped no longer exist\n",
    "twitter_df_clean.columns"
   ]
  },
  {
   "cell_type": "markdown",
   "metadata": {},
   "source": [
    "### Quality issue #4:\n",
    "\n",
    "##### `timestamp` column is an object type. It should be of type datetime."
   ]
  },
  {
   "cell_type": "markdown",
   "metadata": {},
   "source": [
    "#### Define:\n",
    "\n",
    "Convert the `timestamp` column to datetime type using pandas to_datetime function"
   ]
  },
  {
   "cell_type": "markdown",
   "metadata": {},
   "source": [
    "#### Code"
   ]
  },
  {
   "cell_type": "code",
   "execution_count": 45,
   "metadata": {},
   "outputs": [],
   "source": [
    "twitter_df_clean['timestamp'] = pd.to_datetime(twitter_df_clean['timestamp'])"
   ]
  },
  {
   "cell_type": "markdown",
   "metadata": {},
   "source": [
    "#### Test"
   ]
  },
  {
   "cell_type": "code",
   "execution_count": 46,
   "metadata": {},
   "outputs": [
    {
     "data": {
      "text/plain": [
       "datetime64[ns, UTC]"
      ]
     },
     "execution_count": 46,
     "metadata": {},
     "output_type": "execute_result"
    }
   ],
   "source": [
    "# check datatype of the timestamp column.\n",
    "twitter_df_clean['timestamp'].dtype"
   ]
  },
  {
   "cell_type": "markdown",
   "metadata": {},
   "source": [
    "### Quality issue #5:\n",
    "\n",
    "##### `tweet_id` is not a numeric value. it should be of type object."
   ]
  },
  {
   "cell_type": "markdown",
   "metadata": {},
   "source": [
    "#### Define:\n",
    "\n",
    "Convert `tweet_id` to type object using .astype()"
   ]
  },
  {
   "cell_type": "markdown",
   "metadata": {},
   "source": [
    "#### Code"
   ]
  },
  {
   "cell_type": "code",
   "execution_count": 47,
   "metadata": {},
   "outputs": [],
   "source": [
    "twitter_df_clean['tweet_id'] = twitter_df_clean['tweet_id'].astype('str')"
   ]
  },
  {
   "cell_type": "markdown",
   "metadata": {},
   "source": [
    "#### Test"
   ]
  },
  {
   "cell_type": "code",
   "execution_count": 48,
   "metadata": {},
   "outputs": [
    {
     "data": {
      "text/plain": [
       "dtype('O')"
      ]
     },
     "execution_count": 48,
     "metadata": {},
     "output_type": "execute_result"
    }
   ],
   "source": [
    "# check the datatype of the tweet_id column.\n",
    "twitter_df_clean['tweet_id'].dtype"
   ]
  },
  {
   "cell_type": "markdown",
   "metadata": {},
   "source": [
    "### Quality issue #6:\n",
    "\n",
    "##### `source` column has unnecessary html text around it."
   ]
  },
  {
   "cell_type": "markdown",
   "metadata": {},
   "source": [
    "#### Define:\n",
    "\n",
    "Extract relevant info from the `source` column."
   ]
  },
  {
   "cell_type": "markdown",
   "metadata": {},
   "source": [
    "#### Code"
   ]
  },
  {
   "cell_type": "code",
   "execution_count": 49,
   "metadata": {},
   "outputs": [
    {
     "data": {
      "text/plain": [
       "array(['<a href=\"http://twitter.com/download/iphone\" rel=\"nofollow\">Twitter for iPhone</a>',\n",
       "       '<a href=\"http://twitter.com\" rel=\"nofollow\">Twitter Web Client</a>',\n",
       "       '<a href=\"http://vine.co\" rel=\"nofollow\">Vine - Make a Scene</a>',\n",
       "       '<a href=\"https://about.twitter.com/products/tweetdeck\" rel=\"nofollow\">TweetDeck</a>'],\n",
       "      dtype=object)"
      ]
     },
     "execution_count": 49,
     "metadata": {},
     "output_type": "execute_result"
    }
   ],
   "source": [
    "# check for unique values so that we can figure out the regex pattern to use.\n",
    "twitter_df_clean['source'].unique()"
   ]
  },
  {
   "cell_type": "code",
   "execution_count": 50,
   "metadata": {},
   "outputs": [],
   "source": [
    "# this regex expression matches the text that is inbetween '>' and '<' and returns it\n",
    "twitter_df_clean['source'] = twitter_df_clean['source'].str.extract('>(.*?)<', expand=True)[0]"
   ]
  },
  {
   "cell_type": "markdown",
   "metadata": {},
   "source": [
    "#### Test"
   ]
  },
  {
   "cell_type": "code",
   "execution_count": 51,
   "metadata": {},
   "outputs": [
    {
     "data": {
      "text/plain": [
       "array(['Twitter for iPhone', 'Twitter Web Client', 'Vine - Make a Scene',\n",
       "       'TweetDeck'], dtype=object)"
      ]
     },
     "execution_count": 51,
     "metadata": {},
     "output_type": "execute_result"
    }
   ],
   "source": [
    "# check for unique values to view changes.\n",
    "twitter_df_clean['source'].unique()"
   ]
  },
  {
   "cell_type": "markdown",
   "metadata": {},
   "source": [
    "### Tidiness issue #1:\n",
    "\n",
    "##### The `doggo`, `floofer`, `puppo` and `pupper` columns could be combined into one column since they are all stages a Dog is in."
   ]
  },
  {
   "cell_type": "markdown",
   "metadata": {},
   "source": [
    "#### Define:\n",
    "\n",
    "Join these four coulums together by simply adding them as strings. This was why we converted the values that were 'None' in these columns earlier to empty strings."
   ]
  },
  {
   "cell_type": "markdown",
   "metadata": {},
   "source": [
    "#### Code"
   ]
  },
  {
   "cell_type": "code",
   "execution_count": 52,
   "metadata": {},
   "outputs": [],
   "source": [
    "# Add the four columns together to get a single column that states the stage that the dog is in.\n",
    "\n",
    "twitter_df_clean['dog_stage'] = twitter_df_clean['doggo'] + twitter_df_clean['floofer'] + twitter_df_clean['puppo'] + twitter_df_clean['pupper']"
   ]
  },
  {
   "cell_type": "code",
   "execution_count": 53,
   "metadata": {},
   "outputs": [
    {
     "data": {
      "text/plain": [
       "array(['', 'doggo', 'puppo', 'pupper', 'floofer', 'doggopuppo',\n",
       "       'doggofloofer', 'doggopupper'], dtype=object)"
      ]
     },
     "execution_count": 53,
     "metadata": {},
     "output_type": "execute_result"
    }
   ],
   "source": [
    "# check for unique values to see changes.\n",
    "twitter_df_clean['dog_stage'].unique()"
   ]
  },
  {
   "cell_type": "markdown",
   "metadata": {},
   "source": [
    "* Seems there are some dogs that have been documented as being in different stages at once.\n",
    "* Let's filter out the columns that are classed as having multiple stages and see if we can fix them"
   ]
  },
  {
   "cell_type": "code",
   "execution_count": 54,
   "metadata": {},
   "outputs": [
    {
     "data": {
      "text/html": [
       "<div>\n",
       "<style scoped>\n",
       "    .dataframe tbody tr th:only-of-type {\n",
       "        vertical-align: middle;\n",
       "    }\n",
       "\n",
       "    .dataframe tbody tr th {\n",
       "        vertical-align: top;\n",
       "    }\n",
       "\n",
       "    .dataframe thead th {\n",
       "        text-align: right;\n",
       "    }\n",
       "</style>\n",
       "<table border=\"1\" class=\"dataframe\">\n",
       "  <thead>\n",
       "    <tr style=\"text-align: right;\">\n",
       "      <th></th>\n",
       "      <th>tweet_id</th>\n",
       "      <th>in_reply_to_status_id</th>\n",
       "      <th>in_reply_to_user_id</th>\n",
       "      <th>timestamp</th>\n",
       "      <th>source</th>\n",
       "      <th>text</th>\n",
       "      <th>expanded_urls</th>\n",
       "      <th>rating_numerator</th>\n",
       "      <th>rating_denominator</th>\n",
       "      <th>name</th>\n",
       "      <th>doggo</th>\n",
       "      <th>floofer</th>\n",
       "      <th>pupper</th>\n",
       "      <th>puppo</th>\n",
       "      <th>dog_stage</th>\n",
       "    </tr>\n",
       "  </thead>\n",
       "  <tbody>\n",
       "    <tr>\n",
       "      <th>191</th>\n",
       "      <td>855851453814013952</td>\n",
       "      <td>NaN</td>\n",
       "      <td>NaN</td>\n",
       "      <td>2017-04-22 18:31:02+00:00</td>\n",
       "      <td>Twitter for iPhone</td>\n",
       "      <td>Here's a puppo participating in the #ScienceMa...</td>\n",
       "      <td>https://twitter.com/dog_rates/status/855851453...</td>\n",
       "      <td>13</td>\n",
       "      <td>10</td>\n",
       "      <td>NaN</td>\n",
       "      <td>doggo</td>\n",
       "      <td></td>\n",
       "      <td></td>\n",
       "      <td>puppo</td>\n",
       "      <td>doggopuppo</td>\n",
       "    </tr>\n",
       "    <tr>\n",
       "      <th>200</th>\n",
       "      <td>854010172552949760</td>\n",
       "      <td>NaN</td>\n",
       "      <td>NaN</td>\n",
       "      <td>2017-04-17 16:34:26+00:00</td>\n",
       "      <td>Twitter for iPhone</td>\n",
       "      <td>At first I thought this was a shy doggo, but i...</td>\n",
       "      <td>https://twitter.com/dog_rates/status/854010172...</td>\n",
       "      <td>11</td>\n",
       "      <td>10</td>\n",
       "      <td>NaN</td>\n",
       "      <td>doggo</td>\n",
       "      <td>floofer</td>\n",
       "      <td></td>\n",
       "      <td></td>\n",
       "      <td>doggofloofer</td>\n",
       "    </tr>\n",
       "    <tr>\n",
       "      <th>460</th>\n",
       "      <td>817777686764523521</td>\n",
       "      <td>NaN</td>\n",
       "      <td>NaN</td>\n",
       "      <td>2017-01-07 16:59:28+00:00</td>\n",
       "      <td>Twitter for iPhone</td>\n",
       "      <td>This is Dido. She's playing the lead role in \"...</td>\n",
       "      <td>https://twitter.com/dog_rates/status/817777686...</td>\n",
       "      <td>13</td>\n",
       "      <td>10</td>\n",
       "      <td>Dido</td>\n",
       "      <td>doggo</td>\n",
       "      <td></td>\n",
       "      <td>pupper</td>\n",
       "      <td></td>\n",
       "      <td>doggopupper</td>\n",
       "    </tr>\n",
       "    <tr>\n",
       "      <th>531</th>\n",
       "      <td>808106460588765185</td>\n",
       "      <td>NaN</td>\n",
       "      <td>NaN</td>\n",
       "      <td>2016-12-12 00:29:28+00:00</td>\n",
       "      <td>Twitter for iPhone</td>\n",
       "      <td>Here we have Burke (pupper) and Dexter (doggo)...</td>\n",
       "      <td>https://twitter.com/dog_rates/status/808106460...</td>\n",
       "      <td>12</td>\n",
       "      <td>10</td>\n",
       "      <td>NaN</td>\n",
       "      <td>doggo</td>\n",
       "      <td></td>\n",
       "      <td>pupper</td>\n",
       "      <td></td>\n",
       "      <td>doggopupper</td>\n",
       "    </tr>\n",
       "    <tr>\n",
       "      <th>565</th>\n",
       "      <td>802265048156610565</td>\n",
       "      <td>7.331095e+17</td>\n",
       "      <td>4.196984e+09</td>\n",
       "      <td>2016-11-25 21:37:47+00:00</td>\n",
       "      <td>Twitter for iPhone</td>\n",
       "      <td>Like doggo, like pupper version 2. Both 11/10 ...</td>\n",
       "      <td>https://twitter.com/dog_rates/status/802265048...</td>\n",
       "      <td>11</td>\n",
       "      <td>10</td>\n",
       "      <td>NaN</td>\n",
       "      <td>doggo</td>\n",
       "      <td></td>\n",
       "      <td>pupper</td>\n",
       "      <td></td>\n",
       "      <td>doggopupper</td>\n",
       "    </tr>\n",
       "    <tr>\n",
       "      <th>575</th>\n",
       "      <td>801115127852503040</td>\n",
       "      <td>NaN</td>\n",
       "      <td>NaN</td>\n",
       "      <td>2016-11-22 17:28:25+00:00</td>\n",
       "      <td>Twitter for iPhone</td>\n",
       "      <td>This is Bones. He's being haunted by another d...</td>\n",
       "      <td>https://twitter.com/dog_rates/status/801115127...</td>\n",
       "      <td>12</td>\n",
       "      <td>10</td>\n",
       "      <td>Bones</td>\n",
       "      <td>doggo</td>\n",
       "      <td></td>\n",
       "      <td>pupper</td>\n",
       "      <td></td>\n",
       "      <td>doggopupper</td>\n",
       "    </tr>\n",
       "    <tr>\n",
       "      <th>705</th>\n",
       "      <td>785639753186217984</td>\n",
       "      <td>NaN</td>\n",
       "      <td>NaN</td>\n",
       "      <td>2016-10-11 00:34:48+00:00</td>\n",
       "      <td>Twitter for iPhone</td>\n",
       "      <td>This is Pinot. He's a sophisticated doggo. You...</td>\n",
       "      <td>https://twitter.com/dog_rates/status/785639753...</td>\n",
       "      <td>10</td>\n",
       "      <td>10</td>\n",
       "      <td>Pinot</td>\n",
       "      <td>doggo</td>\n",
       "      <td></td>\n",
       "      <td>pupper</td>\n",
       "      <td></td>\n",
       "      <td>doggopupper</td>\n",
       "    </tr>\n",
       "    <tr>\n",
       "      <th>733</th>\n",
       "      <td>781308096455073793</td>\n",
       "      <td>NaN</td>\n",
       "      <td>NaN</td>\n",
       "      <td>2016-09-29 01:42:20+00:00</td>\n",
       "      <td>Vine - Make a Scene</td>\n",
       "      <td>Pupper butt 1, Doggo 0. Both 12/10 https://t.c...</td>\n",
       "      <td>https://vine.co/v/5rgu2Law2ut</td>\n",
       "      <td>12</td>\n",
       "      <td>10</td>\n",
       "      <td>NaN</td>\n",
       "      <td>doggo</td>\n",
       "      <td></td>\n",
       "      <td>pupper</td>\n",
       "      <td></td>\n",
       "      <td>doggopupper</td>\n",
       "    </tr>\n",
       "    <tr>\n",
       "      <th>889</th>\n",
       "      <td>759793422261743616</td>\n",
       "      <td>NaN</td>\n",
       "      <td>NaN</td>\n",
       "      <td>2016-07-31 16:50:42+00:00</td>\n",
       "      <td>Twitter for iPhone</td>\n",
       "      <td>Meet Maggie &amp;amp; Lila. Maggie is the doggo, L...</td>\n",
       "      <td>https://twitter.com/dog_rates/status/759793422...</td>\n",
       "      <td>12</td>\n",
       "      <td>10</td>\n",
       "      <td>Maggie</td>\n",
       "      <td>doggo</td>\n",
       "      <td></td>\n",
       "      <td>pupper</td>\n",
       "      <td></td>\n",
       "      <td>doggopupper</td>\n",
       "    </tr>\n",
       "    <tr>\n",
       "      <th>956</th>\n",
       "      <td>751583847268179968</td>\n",
       "      <td>NaN</td>\n",
       "      <td>NaN</td>\n",
       "      <td>2016-07-09 01:08:47+00:00</td>\n",
       "      <td>Twitter for iPhone</td>\n",
       "      <td>Please stop sending it pictures that don't eve...</td>\n",
       "      <td>https://twitter.com/dog_rates/status/751583847...</td>\n",
       "      <td>5</td>\n",
       "      <td>10</td>\n",
       "      <td>NaN</td>\n",
       "      <td>doggo</td>\n",
       "      <td></td>\n",
       "      <td>pupper</td>\n",
       "      <td></td>\n",
       "      <td>doggopupper</td>\n",
       "    </tr>\n",
       "    <tr>\n",
       "      <th>1063</th>\n",
       "      <td>741067306818797568</td>\n",
       "      <td>NaN</td>\n",
       "      <td>NaN</td>\n",
       "      <td>2016-06-10 00:39:48+00:00</td>\n",
       "      <td>Twitter for iPhone</td>\n",
       "      <td>This is just downright precious af. 12/10 for ...</td>\n",
       "      <td>https://twitter.com/dog_rates/status/741067306...</td>\n",
       "      <td>12</td>\n",
       "      <td>10</td>\n",
       "      <td>just</td>\n",
       "      <td>doggo</td>\n",
       "      <td></td>\n",
       "      <td>pupper</td>\n",
       "      <td></td>\n",
       "      <td>doggopupper</td>\n",
       "    </tr>\n",
       "    <tr>\n",
       "      <th>1113</th>\n",
       "      <td>733109485275860992</td>\n",
       "      <td>NaN</td>\n",
       "      <td>NaN</td>\n",
       "      <td>2016-05-19 01:38:16+00:00</td>\n",
       "      <td>Twitter for iPhone</td>\n",
       "      <td>Like father (doggo), like son (pupper). Both 1...</td>\n",
       "      <td>https://twitter.com/dog_rates/status/733109485...</td>\n",
       "      <td>12</td>\n",
       "      <td>10</td>\n",
       "      <td>NaN</td>\n",
       "      <td>doggo</td>\n",
       "      <td></td>\n",
       "      <td>pupper</td>\n",
       "      <td></td>\n",
       "      <td>doggopupper</td>\n",
       "    </tr>\n",
       "  </tbody>\n",
       "</table>\n",
       "</div>"
      ],
      "text/plain": [
       "                tweet_id  in_reply_to_status_id  in_reply_to_user_id  \\\n",
       "191   855851453814013952                    NaN                  NaN   \n",
       "200   854010172552949760                    NaN                  NaN   \n",
       "460   817777686764523521                    NaN                  NaN   \n",
       "531   808106460588765185                    NaN                  NaN   \n",
       "565   802265048156610565           7.331095e+17         4.196984e+09   \n",
       "575   801115127852503040                    NaN                  NaN   \n",
       "705   785639753186217984                    NaN                  NaN   \n",
       "733   781308096455073793                    NaN                  NaN   \n",
       "889   759793422261743616                    NaN                  NaN   \n",
       "956   751583847268179968                    NaN                  NaN   \n",
       "1063  741067306818797568                    NaN                  NaN   \n",
       "1113  733109485275860992                    NaN                  NaN   \n",
       "\n",
       "                     timestamp               source  \\\n",
       "191  2017-04-22 18:31:02+00:00   Twitter for iPhone   \n",
       "200  2017-04-17 16:34:26+00:00   Twitter for iPhone   \n",
       "460  2017-01-07 16:59:28+00:00   Twitter for iPhone   \n",
       "531  2016-12-12 00:29:28+00:00   Twitter for iPhone   \n",
       "565  2016-11-25 21:37:47+00:00   Twitter for iPhone   \n",
       "575  2016-11-22 17:28:25+00:00   Twitter for iPhone   \n",
       "705  2016-10-11 00:34:48+00:00   Twitter for iPhone   \n",
       "733  2016-09-29 01:42:20+00:00  Vine - Make a Scene   \n",
       "889  2016-07-31 16:50:42+00:00   Twitter for iPhone   \n",
       "956  2016-07-09 01:08:47+00:00   Twitter for iPhone   \n",
       "1063 2016-06-10 00:39:48+00:00   Twitter for iPhone   \n",
       "1113 2016-05-19 01:38:16+00:00   Twitter for iPhone   \n",
       "\n",
       "                                                   text  \\\n",
       "191   Here's a puppo participating in the #ScienceMa...   \n",
       "200   At first I thought this was a shy doggo, but i...   \n",
       "460   This is Dido. She's playing the lead role in \"...   \n",
       "531   Here we have Burke (pupper) and Dexter (doggo)...   \n",
       "565   Like doggo, like pupper version 2. Both 11/10 ...   \n",
       "575   This is Bones. He's being haunted by another d...   \n",
       "705   This is Pinot. He's a sophisticated doggo. You...   \n",
       "733   Pupper butt 1, Doggo 0. Both 12/10 https://t.c...   \n",
       "889   Meet Maggie &amp; Lila. Maggie is the doggo, L...   \n",
       "956   Please stop sending it pictures that don't eve...   \n",
       "1063  This is just downright precious af. 12/10 for ...   \n",
       "1113  Like father (doggo), like son (pupper). Both 1...   \n",
       "\n",
       "                                          expanded_urls  rating_numerator  \\\n",
       "191   https://twitter.com/dog_rates/status/855851453...                13   \n",
       "200   https://twitter.com/dog_rates/status/854010172...                11   \n",
       "460   https://twitter.com/dog_rates/status/817777686...                13   \n",
       "531   https://twitter.com/dog_rates/status/808106460...                12   \n",
       "565   https://twitter.com/dog_rates/status/802265048...                11   \n",
       "575   https://twitter.com/dog_rates/status/801115127...                12   \n",
       "705   https://twitter.com/dog_rates/status/785639753...                10   \n",
       "733                       https://vine.co/v/5rgu2Law2ut                12   \n",
       "889   https://twitter.com/dog_rates/status/759793422...                12   \n",
       "956   https://twitter.com/dog_rates/status/751583847...                 5   \n",
       "1063  https://twitter.com/dog_rates/status/741067306...                12   \n",
       "1113  https://twitter.com/dog_rates/status/733109485...                12   \n",
       "\n",
       "      rating_denominator    name  doggo  floofer  pupper  puppo     dog_stage  \n",
       "191                   10     NaN  doggo                   puppo    doggopuppo  \n",
       "200                   10     NaN  doggo  floofer                 doggofloofer  \n",
       "460                   10    Dido  doggo           pupper          doggopupper  \n",
       "531                   10     NaN  doggo           pupper          doggopupper  \n",
       "565                   10     NaN  doggo           pupper          doggopupper  \n",
       "575                   10   Bones  doggo           pupper          doggopupper  \n",
       "705                   10   Pinot  doggo           pupper          doggopupper  \n",
       "733                   10     NaN  doggo           pupper          doggopupper  \n",
       "889                   10  Maggie  doggo           pupper          doggopupper  \n",
       "956                   10     NaN  doggo           pupper          doggopupper  \n",
       "1063                  10    just  doggo           pupper          doggopupper  \n",
       "1113                  10     NaN  doggo           pupper          doggopupper  "
      ]
     },
     "execution_count": 54,
     "metadata": {},
     "output_type": "execute_result"
    }
   ],
   "source": [
    "# Filter out columns with multiple dog stages\n",
    "two_stages = ['doggopuppo', 'doggofloofer', 'doggopupper']\n",
    "twitter_df_clean[twitter_df_clean['dog_stage'].isin(two_stages)]"
   ]
  },
  {
   "cell_type": "markdown",
   "metadata": {},
   "source": [
    "* Seems they are not a lot of them. We can just change it manually to the correct dog stage as seen in the `text` column. For cases where there are multiple dogs in the tweet, hence multiple stages listed, we put NaN."
   ]
  },
  {
   "cell_type": "code",
   "execution_count": 55,
   "metadata": {},
   "outputs": [],
   "source": [
    "# 191 - puppo\n",
    "# 200 - floofer\n",
    "# 460 - pupper\n",
    "# 531 - two dogs, np.nan\n",
    "# 565 - two dogs, np.nan\n",
    "# 575 - pupper\n",
    "# 705 - doggo\n",
    "# 733 - two dogs, np.nan\n",
    "# 889 - two dogs, np.nan\n",
    "# 956 - doggo\n",
    "# 1063 - two dogs, np.nan\n",
    "# 1113 - two dogs, np.nan\n",
    "\n",
    "twitter_df_clean.loc[191, 'dog_stage'] = 'puppo'\n",
    "twitter_df_clean.loc[200, 'dog_stage'] = 'floofer'\n",
    "twitter_df_clean.loc[460, 'dog_stage'] = 'pupper'\n",
    "twitter_df_clean.loc[531, 'dog_stage'] = np.nan\n",
    "twitter_df_clean.loc[565, 'dog_stage'] = np.nan\n",
    "twitter_df_clean.loc[575, 'dog_stage'] = 'pupper'\n",
    "twitter_df_clean.loc[705, 'dog_stage'] = 'doggo'\n",
    "twitter_df_clean.loc[733, 'dog_stage'] = np.nan\n",
    "twitter_df_clean.loc[889, 'dog_stage'] = np.nan\n",
    "twitter_df_clean.loc[956, 'dog_stage'] = 'doggo'\n",
    "twitter_df_clean.loc[1063, 'dog_stage'] = np.nan\n",
    "twitter_df_clean.loc[1113, 'dog_stage'] = np.nan"
   ]
  },
  {
   "cell_type": "code",
   "execution_count": 56,
   "metadata": {},
   "outputs": [],
   "source": [
    "# change empty strings to NaN\n",
    "twitter_df_clean['dog_stage'].replace('', np.nan, inplace=True)"
   ]
  },
  {
   "cell_type": "code",
   "execution_count": 57,
   "metadata": {},
   "outputs": [],
   "source": [
    "# drop the `doggo`, `floofer`, `pupper`, `puppo` columns\n",
    "twitter_df_clean.drop(columns=['doggo', 'floofer', 'pupper', 'puppo'], inplace=True)"
   ]
  },
  {
   "cell_type": "markdown",
   "metadata": {},
   "source": [
    "#### Test"
   ]
  },
  {
   "cell_type": "code",
   "execution_count": 58,
   "metadata": {},
   "outputs": [
    {
     "data": {
      "text/plain": [
       "array([nan, 'doggo', 'puppo', 'pupper', 'floofer'], dtype=object)"
      ]
     },
     "execution_count": 58,
     "metadata": {},
     "output_type": "execute_result"
    }
   ],
   "source": [
    "# check to see that there are only four dog stages and nan\n",
    "twitter_df_clean['dog_stage'].unique()"
   ]
  },
  {
   "cell_type": "code",
   "execution_count": 59,
   "metadata": {},
   "outputs": [
    {
     "data": {
      "text/plain": [
       "Index(['tweet_id', 'in_reply_to_status_id', 'in_reply_to_user_id', 'timestamp',\n",
       "       'source', 'text', 'expanded_urls', 'rating_numerator',\n",
       "       'rating_denominator', 'name', 'dog_stage'],\n",
       "      dtype='object')"
      ]
     },
     "execution_count": 59,
     "metadata": {},
     "output_type": "execute_result"
    }
   ],
   "source": [
    "# Check to see that the dropped columns are gone\n",
    "twitter_df_clean.columns"
   ]
  },
  {
   "cell_type": "markdown",
   "metadata": {},
   "source": [
    "-------------------------------------------------------------------------------------------------------------------------------"
   ]
  },
  {
   "cell_type": "markdown",
   "metadata": {},
   "source": [
    "### image_df_clean"
   ]
  },
  {
   "cell_type": "markdown",
   "metadata": {},
   "source": [
    "### Quality issue #1:\n",
    "\n",
    "##### Prediction names (p1, p2, p3) have some names in lower case, others in title case."
   ]
  },
  {
   "cell_type": "markdown",
   "metadata": {},
   "source": [
    "#### Define:\n",
    "\n",
    "Convert the all the column's values to title case using the .str.title() function."
   ]
  },
  {
   "cell_type": "markdown",
   "metadata": {},
   "source": [
    "#### Code"
   ]
  },
  {
   "cell_type": "code",
   "execution_count": 60,
   "metadata": {},
   "outputs": [],
   "source": [
    "columns = ['p1', 'p2', 'p3']\n",
    "\n",
    "# loop through the columns and change to title case\n",
    "for column in columns:\n",
    "    image_df_clean[column] = image_df_clean[column].str.title()"
   ]
  },
  {
   "cell_type": "markdown",
   "metadata": {},
   "source": [
    "#### Test"
   ]
  },
  {
   "cell_type": "code",
   "execution_count": 61,
   "metadata": {},
   "outputs": [
    {
     "data": {
      "text/html": [
       "<div>\n",
       "<style scoped>\n",
       "    .dataframe tbody tr th:only-of-type {\n",
       "        vertical-align: middle;\n",
       "    }\n",
       "\n",
       "    .dataframe tbody tr th {\n",
       "        vertical-align: top;\n",
       "    }\n",
       "\n",
       "    .dataframe thead th {\n",
       "        text-align: right;\n",
       "    }\n",
       "</style>\n",
       "<table border=\"1\" class=\"dataframe\">\n",
       "  <thead>\n",
       "    <tr style=\"text-align: right;\">\n",
       "      <th></th>\n",
       "      <th>p1</th>\n",
       "      <th>p2</th>\n",
       "      <th>p3</th>\n",
       "    </tr>\n",
       "  </thead>\n",
       "  <tbody>\n",
       "    <tr>\n",
       "      <th>0</th>\n",
       "      <td>Welsh_Springer_Spaniel</td>\n",
       "      <td>Collie</td>\n",
       "      <td>Shetland_Sheepdog</td>\n",
       "    </tr>\n",
       "    <tr>\n",
       "      <th>1</th>\n",
       "      <td>Redbone</td>\n",
       "      <td>Miniature_Pinscher</td>\n",
       "      <td>Rhodesian_Ridgeback</td>\n",
       "    </tr>\n",
       "    <tr>\n",
       "      <th>2</th>\n",
       "      <td>German_Shepherd</td>\n",
       "      <td>Malinois</td>\n",
       "      <td>Bloodhound</td>\n",
       "    </tr>\n",
       "    <tr>\n",
       "      <th>3</th>\n",
       "      <td>Rhodesian_Ridgeback</td>\n",
       "      <td>Redbone</td>\n",
       "      <td>Miniature_Pinscher</td>\n",
       "    </tr>\n",
       "    <tr>\n",
       "      <th>4</th>\n",
       "      <td>Miniature_Pinscher</td>\n",
       "      <td>Rottweiler</td>\n",
       "      <td>Doberman</td>\n",
       "    </tr>\n",
       "    <tr>\n",
       "      <th>5</th>\n",
       "      <td>Bernese_Mountain_Dog</td>\n",
       "      <td>English_Springer</td>\n",
       "      <td>Greater_Swiss_Mountain_Dog</td>\n",
       "    </tr>\n",
       "    <tr>\n",
       "      <th>6</th>\n",
       "      <td>Box_Turtle</td>\n",
       "      <td>Mud_Turtle</td>\n",
       "      <td>Terrapin</td>\n",
       "    </tr>\n",
       "  </tbody>\n",
       "</table>\n",
       "</div>"
      ],
      "text/plain": [
       "                       p1                  p2                          p3\n",
       "0  Welsh_Springer_Spaniel              Collie           Shetland_Sheepdog\n",
       "1                 Redbone  Miniature_Pinscher         Rhodesian_Ridgeback\n",
       "2         German_Shepherd            Malinois                  Bloodhound\n",
       "3     Rhodesian_Ridgeback             Redbone          Miniature_Pinscher\n",
       "4      Miniature_Pinscher          Rottweiler                    Doberman\n",
       "5    Bernese_Mountain_Dog    English_Springer  Greater_Swiss_Mountain_Dog\n",
       "6              Box_Turtle          Mud_Turtle                    Terrapin"
      ]
     },
     "execution_count": 61,
     "metadata": {},
     "output_type": "execute_result"
    }
   ],
   "source": [
    "# view first 7 rows to check that the changes are effected\n",
    "image_df_clean[['p1', 'p2', 'p3']].head(7)"
   ]
  },
  {
   "cell_type": "markdown",
   "metadata": {},
   "source": [
    "### Quality issue #2:\n",
    "\n",
    "##### `tweet id` is not numeric. It should be of type object."
   ]
  },
  {
   "cell_type": "markdown",
   "metadata": {},
   "source": [
    "#### Define:\n",
    "\n",
    "Convert the `tweet_id` column to object type usig the .astype() function."
   ]
  },
  {
   "cell_type": "markdown",
   "metadata": {},
   "source": [
    "#### Code"
   ]
  },
  {
   "cell_type": "code",
   "execution_count": 62,
   "metadata": {},
   "outputs": [],
   "source": [
    "image_df_clean['tweet_id'] = image_df_clean['tweet_id'].astype('str')"
   ]
  },
  {
   "cell_type": "markdown",
   "metadata": {},
   "source": [
    "#### Test"
   ]
  },
  {
   "cell_type": "code",
   "execution_count": 63,
   "metadata": {},
   "outputs": [
    {
     "data": {
      "text/plain": [
       "dtype('O')"
      ]
     },
     "execution_count": 63,
     "metadata": {},
     "output_type": "execute_result"
    }
   ],
   "source": [
    "# check the datatype of the tweet_id column.\n",
    "image_df_clean['tweet_id'].dtype"
   ]
  },
  {
   "cell_type": "markdown",
   "metadata": {},
   "source": [
    "### Quality issue #3:\n",
    "\n",
    "##### Some of the tweets are not images of dogs."
   ]
  },
  {
   "cell_type": "markdown",
   "metadata": {},
   "source": [
    "#### Define:\n",
    "\n",
    "Drop rows that have `p1_dog`, `p2_dog` and `p3_dog` as False\n",
    "> Since we're gathering tweets on dog ratings, any tweet that does not contain a dog in the picture is not relevant in our analysis."
   ]
  },
  {
   "cell_type": "markdown",
   "metadata": {},
   "source": [
    "#### Code"
   ]
  },
  {
   "cell_type": "code",
   "execution_count": 64,
   "metadata": {},
   "outputs": [],
   "source": [
    "# select the index of rows that do not have dog predictions in any of the three prediction columns\n",
    "remove_index = list(image_df_clean.query(\"p1_dog == False and p2_dog == False and p3_dog == False\").index)\n",
    "\n",
    "# drop all the rows whose index is in the list created\n",
    "image_df_clean.drop(labels=remove_index, inplace=True)"
   ]
  },
  {
   "cell_type": "markdown",
   "metadata": {},
   "source": [
    "#### Test"
   ]
  },
  {
   "cell_type": "code",
   "execution_count": 65,
   "metadata": {},
   "outputs": [
    {
     "data": {
      "text/html": [
       "<div>\n",
       "<style scoped>\n",
       "    .dataframe tbody tr th:only-of-type {\n",
       "        vertical-align: middle;\n",
       "    }\n",
       "\n",
       "    .dataframe tbody tr th {\n",
       "        vertical-align: top;\n",
       "    }\n",
       "\n",
       "    .dataframe thead th {\n",
       "        text-align: right;\n",
       "    }\n",
       "</style>\n",
       "<table border=\"1\" class=\"dataframe\">\n",
       "  <thead>\n",
       "    <tr style=\"text-align: right;\">\n",
       "      <th></th>\n",
       "      <th>tweet_id</th>\n",
       "      <th>jpg_url</th>\n",
       "      <th>img_num</th>\n",
       "      <th>p1</th>\n",
       "      <th>p1_conf</th>\n",
       "      <th>p1_dog</th>\n",
       "      <th>p2</th>\n",
       "      <th>p2_conf</th>\n",
       "      <th>p2_dog</th>\n",
       "      <th>p3</th>\n",
       "      <th>p3_conf</th>\n",
       "      <th>p3_dog</th>\n",
       "    </tr>\n",
       "  </thead>\n",
       "  <tbody>\n",
       "  </tbody>\n",
       "</table>\n",
       "</div>"
      ],
      "text/plain": [
       "Empty DataFrame\n",
       "Columns: [tweet_id, jpg_url, img_num, p1, p1_conf, p1_dog, p2, p2_conf, p2_dog, p3, p3_conf, p3_dog]\n",
       "Index: []"
      ]
     },
     "execution_count": 65,
     "metadata": {},
     "output_type": "execute_result"
    }
   ],
   "source": [
    "# check to see that there are no rows with no dog prediction.\n",
    "image_df_clean.query(\"p1_dog == False and p2_dog == False and p3_dog == False\")"
   ]
  },
  {
   "cell_type": "markdown",
   "metadata": {},
   "source": [
    "### Quality issue #4:\n",
    "\n",
    "##### Some column names (p1_conf, p2_conf, p3_conf) are not descriptive enough."
   ]
  },
  {
   "cell_type": "markdown",
   "metadata": {},
   "source": [
    "#### Define:\n",
    "\n",
    "Rename non-descriptive columns with the .rename() function."
   ]
  },
  {
   "cell_type": "markdown",
   "metadata": {},
   "source": [
    "#### Code"
   ]
  },
  {
   "cell_type": "code",
   "execution_count": 66,
   "metadata": {},
   "outputs": [],
   "source": [
    "image_df_clean.rename(columns={'p1_conf': 'p1_confidence_interval', \n",
    "                               'p2_conf': 'p2_confidence_interval', \n",
    "                               'p3_conf': 'p3_confidence_interval'}, inplace=True)"
   ]
  },
  {
   "cell_type": "markdown",
   "metadata": {},
   "source": [
    "#### Test"
   ]
  },
  {
   "cell_type": "code",
   "execution_count": 67,
   "metadata": {},
   "outputs": [
    {
     "data": {
      "text/plain": [
       "Index(['tweet_id', 'jpg_url', 'img_num', 'p1', 'p1_confidence_interval',\n",
       "       'p1_dog', 'p2', 'p2_confidence_interval', 'p2_dog', 'p3',\n",
       "       'p3_confidence_interval', 'p3_dog'],\n",
       "      dtype='object')"
      ]
     },
     "execution_count": 67,
     "metadata": {},
     "output_type": "execute_result"
    }
   ],
   "source": [
    "# view new column names\n",
    "image_df_clean.columns"
   ]
  },
  {
   "cell_type": "markdown",
   "metadata": {},
   "source": [
    "### Tidiness issue #1:\n",
    "\n",
    "##### The prediction columns (p1, p2, p3 and p1_conf, p2_conf, p3_conf) could be reduced to one prediction (prediction) and one confidence (confidence) column."
   ]
  },
  {
   "cell_type": "markdown",
   "metadata": {},
   "source": [
    "#### Define:\n",
    "\n",
    "Select the prediction column with the highest confidence interval that is a dog for each tweet (because some rows have other things having the highest confidence interval that isn't a dog and we want only dogs) .\n",
    "> This just leaves the dog prediction with the highest probability. Drop the other prediction columns so that we'll be left with one prediction column and one confidence interval column.\n",
    "\n",
    "The .apply() function would be used to achieve this."
   ]
  },
  {
   "cell_type": "markdown",
   "metadata": {},
   "source": [
    "#### Code"
   ]
  },
  {
   "cell_type": "code",
   "execution_count": 68,
   "metadata": {},
   "outputs": [
    {
     "data": {
      "text/html": [
       "<div>\n",
       "<style scoped>\n",
       "    .dataframe tbody tr th:only-of-type {\n",
       "        vertical-align: middle;\n",
       "    }\n",
       "\n",
       "    .dataframe tbody tr th {\n",
       "        vertical-align: top;\n",
       "    }\n",
       "\n",
       "    .dataframe thead th {\n",
       "        text-align: right;\n",
       "    }\n",
       "</style>\n",
       "<table border=\"1\" class=\"dataframe\">\n",
       "  <thead>\n",
       "    <tr style=\"text-align: right;\">\n",
       "      <th></th>\n",
       "      <th>tweet_id</th>\n",
       "      <th>jpg_url</th>\n",
       "      <th>img_num</th>\n",
       "      <th>p1</th>\n",
       "      <th>p1_confidence_interval</th>\n",
       "      <th>p1_dog</th>\n",
       "      <th>p2</th>\n",
       "      <th>p2_confidence_interval</th>\n",
       "      <th>p2_dog</th>\n",
       "      <th>p3</th>\n",
       "      <th>p3_confidence_interval</th>\n",
       "      <th>p3_dog</th>\n",
       "    </tr>\n",
       "  </thead>\n",
       "  <tbody>\n",
       "  </tbody>\n",
       "</table>\n",
       "</div>"
      ],
      "text/plain": [
       "Empty DataFrame\n",
       "Columns: [tweet_id, jpg_url, img_num, p1, p1_confidence_interval, p1_dog, p2, p2_confidence_interval, p2_dog, p3, p3_confidence_interval, p3_dog]\n",
       "Index: []"
      ]
     },
     "execution_count": 68,
     "metadata": {},
     "output_type": "execute_result"
    }
   ],
   "source": [
    "image_df_clean.query(\"p2_confidence_interval > p1_confidence_interval\")"
   ]
  },
  {
   "cell_type": "code",
   "execution_count": 69,
   "metadata": {},
   "outputs": [
    {
     "data": {
      "text/html": [
       "<div>\n",
       "<style scoped>\n",
       "    .dataframe tbody tr th:only-of-type {\n",
       "        vertical-align: middle;\n",
       "    }\n",
       "\n",
       "    .dataframe tbody tr th {\n",
       "        vertical-align: top;\n",
       "    }\n",
       "\n",
       "    .dataframe thead th {\n",
       "        text-align: right;\n",
       "    }\n",
       "</style>\n",
       "<table border=\"1\" class=\"dataframe\">\n",
       "  <thead>\n",
       "    <tr style=\"text-align: right;\">\n",
       "      <th></th>\n",
       "      <th>tweet_id</th>\n",
       "      <th>jpg_url</th>\n",
       "      <th>img_num</th>\n",
       "      <th>p1</th>\n",
       "      <th>p1_confidence_interval</th>\n",
       "      <th>p1_dog</th>\n",
       "      <th>p2</th>\n",
       "      <th>p2_confidence_interval</th>\n",
       "      <th>p2_dog</th>\n",
       "      <th>p3</th>\n",
       "      <th>p3_confidence_interval</th>\n",
       "      <th>p3_dog</th>\n",
       "    </tr>\n",
       "  </thead>\n",
       "  <tbody>\n",
       "  </tbody>\n",
       "</table>\n",
       "</div>"
      ],
      "text/plain": [
       "Empty DataFrame\n",
       "Columns: [tweet_id, jpg_url, img_num, p1, p1_confidence_interval, p1_dog, p2, p2_confidence_interval, p2_dog, p3, p3_confidence_interval, p3_dog]\n",
       "Index: []"
      ]
     },
     "execution_count": 69,
     "metadata": {},
     "output_type": "execute_result"
    }
   ],
   "source": [
    "image_df_clean.query(\"p3_confidence_interval > p2_confidence_interval\")"
   ]
  },
  {
   "cell_type": "code",
   "execution_count": 70,
   "metadata": {},
   "outputs": [
    {
     "data": {
      "text/html": [
       "<div>\n",
       "<style scoped>\n",
       "    .dataframe tbody tr th:only-of-type {\n",
       "        vertical-align: middle;\n",
       "    }\n",
       "\n",
       "    .dataframe tbody tr th {\n",
       "        vertical-align: top;\n",
       "    }\n",
       "\n",
       "    .dataframe thead th {\n",
       "        text-align: right;\n",
       "    }\n",
       "</style>\n",
       "<table border=\"1\" class=\"dataframe\">\n",
       "  <thead>\n",
       "    <tr style=\"text-align: right;\">\n",
       "      <th></th>\n",
       "      <th>tweet_id</th>\n",
       "      <th>jpg_url</th>\n",
       "      <th>img_num</th>\n",
       "      <th>p1</th>\n",
       "      <th>p1_confidence_interval</th>\n",
       "      <th>p1_dog</th>\n",
       "      <th>p2</th>\n",
       "      <th>p2_confidence_interval</th>\n",
       "      <th>p2_dog</th>\n",
       "      <th>p3</th>\n",
       "      <th>p3_confidence_interval</th>\n",
       "      <th>p3_dog</th>\n",
       "    </tr>\n",
       "  </thead>\n",
       "  <tbody>\n",
       "  </tbody>\n",
       "</table>\n",
       "</div>"
      ],
      "text/plain": [
       "Empty DataFrame\n",
       "Columns: [tweet_id, jpg_url, img_num, p1, p1_confidence_interval, p1_dog, p2, p2_confidence_interval, p2_dog, p3, p3_confidence_interval, p3_dog]\n",
       "Index: []"
      ]
     },
     "execution_count": 70,
     "metadata": {},
     "output_type": "execute_result"
    }
   ],
   "source": [
    "image_df_clean.query(\"p3_confidence_interval > p1_confidence_interval\")"
   ]
  },
  {
   "cell_type": "markdown",
   "metadata": {},
   "source": [
    "* The previous three lines of code show that the confidence intervals were ordered for all rows, p1_confidence_interval having the largest value, p2_confidence_interval having the second largest and p3_confidence_interval having the least.\n",
    "\n",
    "* Next is to create a function that returns the dog with the highest confidence interval and pass it into the .apply() function."
   ]
  },
  {
   "cell_type": "code",
   "execution_count": 71,
   "metadata": {},
   "outputs": [],
   "source": [
    "# function to return highest confidence interval dog prediction.\n",
    "def get_attribute(df):\n",
    "    '''\n",
    "    This function is used on a dataframe with the .apply() function. It checks to see if the first value in the first\n",
    "    column is True, if yes, it returns the corresponding first value in the second column. If not, it moves to the first \n",
    "    value in the third column and so on. If none are True, it returns np.nan.\n",
    "    \n",
    "    Parameters: Columns in the dataframe must be in the order: check1, result1, check2, result2, result3\n",
    "    \n",
    "    Output: A new column with the result values for checks that evaluated to True.\n",
    "    '''\n",
    "    \n",
    "    # check if the first column is True (checks whether it is a dog)\n",
    "    if df[0] == True:\n",
    "        # return the value in the second column (the confidence interval)\n",
    "        return df[1]\n",
    "    \n",
    "    # check if the third column is True (checks whether it is a dog)\n",
    "    elif df[2] == True:\n",
    "        # return the value in the fourth column (the confidence interval)\n",
    "        return df[3]\n",
    "    \n",
    "    # if all else are False, return the value in the fifth column\n",
    "    else:\n",
    "        return df[4]"
   ]
  },
  {
   "cell_type": "code",
   "execution_count": 72,
   "metadata": {},
   "outputs": [],
   "source": [
    "# apply the function to get the type of the dog\n",
    "image_df_clean[\"breed\"] = image_df_clean[[\"p1_dog\", \"p1\", \"p2_dog\", \"p2\", \"p3\"]].apply(get_attribute, axis = 1)\n",
    "\n",
    "# apply the function to get the confidence interval corresponding to the type of the dog chosen\n",
    "image_df_clean[\"confidence_interval\"] = image_df_clean[[\"p1_dog\", \"p1_confidence_interval\", \n",
    "                                         \"p2_dog\", \"p2_confidence_interval\", \n",
    "                                         \"p3_confidence_interval\"]].apply(get_attribute, axis = 1)"
   ]
  },
  {
   "cell_type": "markdown",
   "metadata": {},
   "source": [
    "* Next, we drop all the columns relating to predictions (all columns with names starting with 'p')."
   ]
  },
  {
   "cell_type": "code",
   "execution_count": 73,
   "metadata": {},
   "outputs": [],
   "source": [
    "# list out columns to be dropped\n",
    "drop_cols = ['p1', 'p1_confidence_interval', 'p1_dog', \n",
    "             'p2', 'p2_confidence_interval', 'p2_dog', \n",
    "             'p3', 'p3_confidence_interval', 'p3_dog']\n",
    "\n",
    "# drop columns\n",
    "image_df_clean.drop(columns=drop_cols, inplace=True)"
   ]
  },
  {
   "cell_type": "markdown",
   "metadata": {},
   "source": [
    "#### Test"
   ]
  },
  {
   "cell_type": "code",
   "execution_count": 74,
   "metadata": {},
   "outputs": [
    {
     "data": {
      "text/html": [
       "<div>\n",
       "<style scoped>\n",
       "    .dataframe tbody tr th:only-of-type {\n",
       "        vertical-align: middle;\n",
       "    }\n",
       "\n",
       "    .dataframe tbody tr th {\n",
       "        vertical-align: top;\n",
       "    }\n",
       "\n",
       "    .dataframe thead th {\n",
       "        text-align: right;\n",
       "    }\n",
       "</style>\n",
       "<table border=\"1\" class=\"dataframe\">\n",
       "  <thead>\n",
       "    <tr style=\"text-align: right;\">\n",
       "      <th></th>\n",
       "      <th>tweet_id</th>\n",
       "      <th>jpg_url</th>\n",
       "      <th>img_num</th>\n",
       "      <th>breed</th>\n",
       "      <th>confidence_interval</th>\n",
       "    </tr>\n",
       "  </thead>\n",
       "  <tbody>\n",
       "    <tr>\n",
       "      <th>0</th>\n",
       "      <td>666020888022790149</td>\n",
       "      <td>https://pbs.twimg.com/media/CT4udn0WwAA0aMy.jpg</td>\n",
       "      <td>1</td>\n",
       "      <td>Welsh_Springer_Spaniel</td>\n",
       "      <td>0.465074</td>\n",
       "    </tr>\n",
       "    <tr>\n",
       "      <th>1</th>\n",
       "      <td>666029285002620928</td>\n",
       "      <td>https://pbs.twimg.com/media/CT42GRgUYAA5iDo.jpg</td>\n",
       "      <td>1</td>\n",
       "      <td>Redbone</td>\n",
       "      <td>0.506826</td>\n",
       "    </tr>\n",
       "    <tr>\n",
       "      <th>2</th>\n",
       "      <td>666033412701032449</td>\n",
       "      <td>https://pbs.twimg.com/media/CT4521TWwAEvMyu.jpg</td>\n",
       "      <td>1</td>\n",
       "      <td>German_Shepherd</td>\n",
       "      <td>0.596461</td>\n",
       "    </tr>\n",
       "    <tr>\n",
       "      <th>3</th>\n",
       "      <td>666044226329800704</td>\n",
       "      <td>https://pbs.twimg.com/media/CT5Dr8HUEAA-lEu.jpg</td>\n",
       "      <td>1</td>\n",
       "      <td>Rhodesian_Ridgeback</td>\n",
       "      <td>0.408143</td>\n",
       "    </tr>\n",
       "    <tr>\n",
       "      <th>4</th>\n",
       "      <td>666049248165822465</td>\n",
       "      <td>https://pbs.twimg.com/media/CT5IQmsXIAAKY4A.jpg</td>\n",
       "      <td>1</td>\n",
       "      <td>Miniature_Pinscher</td>\n",
       "      <td>0.560311</td>\n",
       "    </tr>\n",
       "  </tbody>\n",
       "</table>\n",
       "</div>"
      ],
      "text/plain": [
       "             tweet_id                                          jpg_url  \\\n",
       "0  666020888022790149  https://pbs.twimg.com/media/CT4udn0WwAA0aMy.jpg   \n",
       "1  666029285002620928  https://pbs.twimg.com/media/CT42GRgUYAA5iDo.jpg   \n",
       "2  666033412701032449  https://pbs.twimg.com/media/CT4521TWwAEvMyu.jpg   \n",
       "3  666044226329800704  https://pbs.twimg.com/media/CT5Dr8HUEAA-lEu.jpg   \n",
       "4  666049248165822465  https://pbs.twimg.com/media/CT5IQmsXIAAKY4A.jpg   \n",
       "\n",
       "   img_num                   breed  confidence_interval  \n",
       "0        1  Welsh_Springer_Spaniel             0.465074  \n",
       "1        1                 Redbone             0.506826  \n",
       "2        1         German_Shepherd             0.596461  \n",
       "3        1     Rhodesian_Ridgeback             0.408143  \n",
       "4        1      Miniature_Pinscher             0.560311  "
      ]
     },
     "execution_count": 74,
     "metadata": {},
     "output_type": "execute_result"
    }
   ],
   "source": [
    "# view first 5 rows\n",
    "image_df_clean.head()"
   ]
  },
  {
   "cell_type": "markdown",
   "metadata": {},
   "source": [
    "------------------------------------------------------------------------------------------------------------------------------"
   ]
  },
  {
   "cell_type": "markdown",
   "metadata": {},
   "source": [
    "### api_df_clean"
   ]
  },
  {
   "cell_type": "markdown",
   "metadata": {},
   "source": [
    "### Quality issue #1:\n",
    "\n",
    "##### `tweet id` is not numeric. It should be of type object."
   ]
  },
  {
   "cell_type": "markdown",
   "metadata": {},
   "source": [
    "#### Define:\n",
    "\n",
    "Convert the `tweet_id` column to object type using the .astype() function."
   ]
  },
  {
   "cell_type": "markdown",
   "metadata": {},
   "source": [
    "#### Code"
   ]
  },
  {
   "cell_type": "code",
   "execution_count": 75,
   "metadata": {},
   "outputs": [],
   "source": [
    "api_df_clean['tweet_id'] = api_df_clean['tweet_id'].astype('str')"
   ]
  },
  {
   "cell_type": "markdown",
   "metadata": {},
   "source": [
    "#### Test"
   ]
  },
  {
   "cell_type": "code",
   "execution_count": 76,
   "metadata": {},
   "outputs": [
    {
     "data": {
      "text/plain": [
       "dtype('O')"
      ]
     },
     "execution_count": 76,
     "metadata": {},
     "output_type": "execute_result"
    }
   ],
   "source": [
    "# check the datatype of tweet_id column to see if changes are effected.\n",
    "api_df_clean['tweet_id'].dtype"
   ]
  },
  {
   "cell_type": "markdown",
   "metadata": {},
   "source": [
    "### Quality issue #2:\n",
    "\n",
    "##### Seems that `retweeted` and `favorited` columns all contain one value all through."
   ]
  },
  {
   "cell_type": "markdown",
   "metadata": {},
   "source": [
    "#### Define:\n",
    "\n",
    "Since these columns all contain one value (False), it means that all the tweets in this dataframe are original tweets.\n",
    "> Drop these columns because they're not useful."
   ]
  },
  {
   "cell_type": "markdown",
   "metadata": {},
   "source": [
    "#### Code"
   ]
  },
  {
   "cell_type": "code",
   "execution_count": 77,
   "metadata": {},
   "outputs": [],
   "source": [
    "api_df_clean.drop(columns=['retweeted', 'favorited'], inplace=True)"
   ]
  },
  {
   "cell_type": "markdown",
   "metadata": {},
   "source": [
    "#### Test"
   ]
  },
  {
   "cell_type": "code",
   "execution_count": 78,
   "metadata": {},
   "outputs": [
    {
     "data": {
      "text/html": [
       "<div>\n",
       "<style scoped>\n",
       "    .dataframe tbody tr th:only-of-type {\n",
       "        vertical-align: middle;\n",
       "    }\n",
       "\n",
       "    .dataframe tbody tr th {\n",
       "        vertical-align: top;\n",
       "    }\n",
       "\n",
       "    .dataframe thead th {\n",
       "        text-align: right;\n",
       "    }\n",
       "</style>\n",
       "<table border=\"1\" class=\"dataframe\">\n",
       "  <thead>\n",
       "    <tr style=\"text-align: right;\">\n",
       "      <th></th>\n",
       "      <th>tweet_id</th>\n",
       "      <th>retweet_count</th>\n",
       "      <th>favorite_count</th>\n",
       "      <th>is_quote_status</th>\n",
       "      <th>display_text_range</th>\n",
       "    </tr>\n",
       "  </thead>\n",
       "  <tbody>\n",
       "    <tr>\n",
       "      <th>0</th>\n",
       "      <td>892420643555336193</td>\n",
       "      <td>7036</td>\n",
       "      <td>33872</td>\n",
       "      <td>False</td>\n",
       "      <td>[0, 85]</td>\n",
       "    </tr>\n",
       "    <tr>\n",
       "      <th>1</th>\n",
       "      <td>892177421306343426</td>\n",
       "      <td>5312</td>\n",
       "      <td>29385</td>\n",
       "      <td>False</td>\n",
       "      <td>[0, 138]</td>\n",
       "    </tr>\n",
       "    <tr>\n",
       "      <th>2</th>\n",
       "      <td>891815181378084864</td>\n",
       "      <td>3491</td>\n",
       "      <td>22100</td>\n",
       "      <td>False</td>\n",
       "      <td>[0, 121]</td>\n",
       "    </tr>\n",
       "    <tr>\n",
       "      <th>3</th>\n",
       "      <td>891689557279858688</td>\n",
       "      <td>7243</td>\n",
       "      <td>36999</td>\n",
       "      <td>False</td>\n",
       "      <td>[0, 79]</td>\n",
       "    </tr>\n",
       "    <tr>\n",
       "      <th>4</th>\n",
       "      <td>891327558926688256</td>\n",
       "      <td>7784</td>\n",
       "      <td>35374</td>\n",
       "      <td>False</td>\n",
       "      <td>[0, 138]</td>\n",
       "    </tr>\n",
       "  </tbody>\n",
       "</table>\n",
       "</div>"
      ],
      "text/plain": [
       "             tweet_id  retweet_count  favorite_count  is_quote_status  \\\n",
       "0  892420643555336193           7036           33872            False   \n",
       "1  892177421306343426           5312           29385            False   \n",
       "2  891815181378084864           3491           22100            False   \n",
       "3  891689557279858688           7243           36999            False   \n",
       "4  891327558926688256           7784           35374            False   \n",
       "\n",
       "  display_text_range  \n",
       "0            [0, 85]  \n",
       "1           [0, 138]  \n",
       "2           [0, 121]  \n",
       "3            [0, 79]  \n",
       "4           [0, 138]  "
      ]
     },
     "execution_count": 78,
     "metadata": {},
     "output_type": "execute_result"
    }
   ],
   "source": [
    "# view first few rows\n",
    "api_df_clean.head()"
   ]
  },
  {
   "cell_type": "markdown",
   "metadata": {},
   "source": [
    "### Tidiness issue #1:\n",
    "\n",
    "##### The `display_text_range` column could be split into two columns."
   ]
  },
  {
   "cell_type": "markdown",
   "metadata": {},
   "source": [
    "#### Define:\n",
    "\n",
    "Split the column into two columns with the .apply() function."
   ]
  },
  {
   "cell_type": "markdown",
   "metadata": {},
   "source": [
    "#### Code"
   ]
  },
  {
   "cell_type": "code",
   "execution_count": 79,
   "metadata": {},
   "outputs": [],
   "source": [
    "# get the lower text range at list index 0\n",
    "api_df_clean[\"lower_text_range\"] = api_df_clean[\"display_text_range\"].apply(lambda x: x[0])\n",
    "\n",
    "# get the lower text range at list index 1\n",
    "api_df_clean[\"upper_text_range\"] = api_df_clean[\"display_text_range\"].apply(lambda x: x[1])"
   ]
  },
  {
   "cell_type": "markdown",
   "metadata": {},
   "source": [
    "* Next, drop the original column since it is no longer useful."
   ]
  },
  {
   "cell_type": "code",
   "execution_count": 80,
   "metadata": {},
   "outputs": [],
   "source": [
    "api_df_clean.drop(\"display_text_range\", axis = 1, inplace = True)"
   ]
  },
  {
   "cell_type": "markdown",
   "metadata": {},
   "source": [
    "#### Test"
   ]
  },
  {
   "cell_type": "code",
   "execution_count": 81,
   "metadata": {},
   "outputs": [
    {
     "data": {
      "text/html": [
       "<div>\n",
       "<style scoped>\n",
       "    .dataframe tbody tr th:only-of-type {\n",
       "        vertical-align: middle;\n",
       "    }\n",
       "\n",
       "    .dataframe tbody tr th {\n",
       "        vertical-align: top;\n",
       "    }\n",
       "\n",
       "    .dataframe thead th {\n",
       "        text-align: right;\n",
       "    }\n",
       "</style>\n",
       "<table border=\"1\" class=\"dataframe\">\n",
       "  <thead>\n",
       "    <tr style=\"text-align: right;\">\n",
       "      <th></th>\n",
       "      <th>tweet_id</th>\n",
       "      <th>retweet_count</th>\n",
       "      <th>favorite_count</th>\n",
       "      <th>is_quote_status</th>\n",
       "      <th>lower_text_range</th>\n",
       "      <th>upper_text_range</th>\n",
       "    </tr>\n",
       "  </thead>\n",
       "  <tbody>\n",
       "    <tr>\n",
       "      <th>0</th>\n",
       "      <td>892420643555336193</td>\n",
       "      <td>7036</td>\n",
       "      <td>33872</td>\n",
       "      <td>False</td>\n",
       "      <td>0</td>\n",
       "      <td>85</td>\n",
       "    </tr>\n",
       "    <tr>\n",
       "      <th>1</th>\n",
       "      <td>892177421306343426</td>\n",
       "      <td>5312</td>\n",
       "      <td>29385</td>\n",
       "      <td>False</td>\n",
       "      <td>0</td>\n",
       "      <td>138</td>\n",
       "    </tr>\n",
       "    <tr>\n",
       "      <th>2</th>\n",
       "      <td>891815181378084864</td>\n",
       "      <td>3491</td>\n",
       "      <td>22100</td>\n",
       "      <td>False</td>\n",
       "      <td>0</td>\n",
       "      <td>121</td>\n",
       "    </tr>\n",
       "    <tr>\n",
       "      <th>3</th>\n",
       "      <td>891689557279858688</td>\n",
       "      <td>7243</td>\n",
       "      <td>36999</td>\n",
       "      <td>False</td>\n",
       "      <td>0</td>\n",
       "      <td>79</td>\n",
       "    </tr>\n",
       "    <tr>\n",
       "      <th>4</th>\n",
       "      <td>891327558926688256</td>\n",
       "      <td>7784</td>\n",
       "      <td>35374</td>\n",
       "      <td>False</td>\n",
       "      <td>0</td>\n",
       "      <td>138</td>\n",
       "    </tr>\n",
       "  </tbody>\n",
       "</table>\n",
       "</div>"
      ],
      "text/plain": [
       "             tweet_id  retweet_count  favorite_count  is_quote_status  \\\n",
       "0  892420643555336193           7036           33872            False   \n",
       "1  892177421306343426           5312           29385            False   \n",
       "2  891815181378084864           3491           22100            False   \n",
       "3  891689557279858688           7243           36999            False   \n",
       "4  891327558926688256           7784           35374            False   \n",
       "\n",
       "   lower_text_range  upper_text_range  \n",
       "0                 0                85  \n",
       "1                 0               138  \n",
       "2                 0               121  \n",
       "3                 0                79  \n",
       "4                 0               138  "
      ]
     },
     "execution_count": 81,
     "metadata": {},
     "output_type": "execute_result"
    }
   ],
   "source": [
    "# view first few rows to see changes.\n",
    "api_df_clean.head()"
   ]
  },
  {
   "cell_type": "markdown",
   "metadata": {},
   "source": [
    "-------------------------------------------------------------------------------------------------------------------------------"
   ]
  },
  {
   "cell_type": "markdown",
   "metadata": {},
   "source": [
    "## Joining the dataframes to create the Master dataset."
   ]
  },
  {
   "cell_type": "markdown",
   "metadata": {},
   "source": [
    "Now that all three datasets are cleaned, it's time to merge them to create the master dataset. The `twitter_df_clean` dataframe that we're confident contains no retweets and only original tweets would be merged with the `image_df_clean` dataframe with an inner join. **This first of all ensures that we only have original tweets with images.** This inner join automatically eliminates retweets in the `image_df_clean` dataframe (rows with the same jpg_url values in the *jpg_url* column). We couldn't just drop duplicates because we can't be sure if the second occurrence of the duplicate jpg_url (the one that would be dropped) is the original tweet or the retweeted tweet and dropping the wrong duplicate would make you lose the original tweet's tweet id in the *tweet_id* column of the `image_df_clean` dataframe. \n",
    "\n",
    "This inner join also takes care of tweets that do not have dogs in the picture (we removed those rows in the `image_df_clean` dataframe), which should also reduce the number of values less than 10 in the *ratings_numerator* column in the `twitter_df_clean` dataframe.\n",
    "\n",
    "After, we perform another inner join to merge the newly merged datasets with the `api_df_clean` dataframe. This is to also fulfill the specifications of only having original tweets with images."
   ]
  },
  {
   "cell_type": "code",
   "execution_count": 82,
   "metadata": {},
   "outputs": [
    {
     "data": {
      "text/html": [
       "<div>\n",
       "<style scoped>\n",
       "    .dataframe tbody tr th:only-of-type {\n",
       "        vertical-align: middle;\n",
       "    }\n",
       "\n",
       "    .dataframe tbody tr th {\n",
       "        vertical-align: top;\n",
       "    }\n",
       "\n",
       "    .dataframe thead th {\n",
       "        text-align: right;\n",
       "    }\n",
       "</style>\n",
       "<table border=\"1\" class=\"dataframe\">\n",
       "  <thead>\n",
       "    <tr style=\"text-align: right;\">\n",
       "      <th></th>\n",
       "      <th>tweet_id</th>\n",
       "      <th>in_reply_to_status_id</th>\n",
       "      <th>in_reply_to_user_id</th>\n",
       "      <th>timestamp</th>\n",
       "      <th>source</th>\n",
       "      <th>text</th>\n",
       "      <th>expanded_urls</th>\n",
       "      <th>rating_numerator</th>\n",
       "      <th>rating_denominator</th>\n",
       "      <th>name</th>\n",
       "      <th>dog_stage</th>\n",
       "      <th>jpg_url</th>\n",
       "      <th>img_num</th>\n",
       "      <th>breed</th>\n",
       "      <th>confidence_interval</th>\n",
       "    </tr>\n",
       "  </thead>\n",
       "  <tbody>\n",
       "    <tr>\n",
       "      <th>0</th>\n",
       "      <td>892177421306343426</td>\n",
       "      <td>NaN</td>\n",
       "      <td>NaN</td>\n",
       "      <td>2017-08-01 00:17:27+00:00</td>\n",
       "      <td>Twitter for iPhone</td>\n",
       "      <td>This is Tilly. She's just checking pup on you....</td>\n",
       "      <td>https://twitter.com/dog_rates/status/892177421...</td>\n",
       "      <td>13</td>\n",
       "      <td>10</td>\n",
       "      <td>Tilly</td>\n",
       "      <td>NaN</td>\n",
       "      <td>https://pbs.twimg.com/media/DGGmoV4XsAAUL6n.jpg</td>\n",
       "      <td>1</td>\n",
       "      <td>Chihuahua</td>\n",
       "      <td>0.323581</td>\n",
       "    </tr>\n",
       "    <tr>\n",
       "      <th>1</th>\n",
       "      <td>891815181378084864</td>\n",
       "      <td>NaN</td>\n",
       "      <td>NaN</td>\n",
       "      <td>2017-07-31 00:18:03+00:00</td>\n",
       "      <td>Twitter for iPhone</td>\n",
       "      <td>This is Archie. He is a rare Norwegian Pouncin...</td>\n",
       "      <td>https://twitter.com/dog_rates/status/891815181...</td>\n",
       "      <td>12</td>\n",
       "      <td>10</td>\n",
       "      <td>Archie</td>\n",
       "      <td>NaN</td>\n",
       "      <td>https://pbs.twimg.com/media/DGBdLU1WsAANxJ9.jpg</td>\n",
       "      <td>1</td>\n",
       "      <td>Chihuahua</td>\n",
       "      <td>0.716012</td>\n",
       "    </tr>\n",
       "    <tr>\n",
       "      <th>2</th>\n",
       "      <td>891689557279858688</td>\n",
       "      <td>NaN</td>\n",
       "      <td>NaN</td>\n",
       "      <td>2017-07-30 15:58:51+00:00</td>\n",
       "      <td>Twitter for iPhone</td>\n",
       "      <td>This is Darla. She commenced a snooze mid meal...</td>\n",
       "      <td>https://twitter.com/dog_rates/status/891689557...</td>\n",
       "      <td>13</td>\n",
       "      <td>10</td>\n",
       "      <td>Darla</td>\n",
       "      <td>NaN</td>\n",
       "      <td>https://pbs.twimg.com/media/DF_q7IAWsAEuuN8.jpg</td>\n",
       "      <td>1</td>\n",
       "      <td>Labrador_Retriever</td>\n",
       "      <td>0.168086</td>\n",
       "    </tr>\n",
       "  </tbody>\n",
       "</table>\n",
       "</div>"
      ],
      "text/plain": [
       "             tweet_id  in_reply_to_status_id  in_reply_to_user_id  \\\n",
       "0  892177421306343426                    NaN                  NaN   \n",
       "1  891815181378084864                    NaN                  NaN   \n",
       "2  891689557279858688                    NaN                  NaN   \n",
       "\n",
       "                  timestamp              source  \\\n",
       "0 2017-08-01 00:17:27+00:00  Twitter for iPhone   \n",
       "1 2017-07-31 00:18:03+00:00  Twitter for iPhone   \n",
       "2 2017-07-30 15:58:51+00:00  Twitter for iPhone   \n",
       "\n",
       "                                                text  \\\n",
       "0  This is Tilly. She's just checking pup on you....   \n",
       "1  This is Archie. He is a rare Norwegian Pouncin...   \n",
       "2  This is Darla. She commenced a snooze mid meal...   \n",
       "\n",
       "                                       expanded_urls  rating_numerator  \\\n",
       "0  https://twitter.com/dog_rates/status/892177421...                13   \n",
       "1  https://twitter.com/dog_rates/status/891815181...                12   \n",
       "2  https://twitter.com/dog_rates/status/891689557...                13   \n",
       "\n",
       "   rating_denominator    name dog_stage  \\\n",
       "0                  10   Tilly       NaN   \n",
       "1                  10  Archie       NaN   \n",
       "2                  10   Darla       NaN   \n",
       "\n",
       "                                           jpg_url  img_num  \\\n",
       "0  https://pbs.twimg.com/media/DGGmoV4XsAAUL6n.jpg        1   \n",
       "1  https://pbs.twimg.com/media/DGBdLU1WsAANxJ9.jpg        1   \n",
       "2  https://pbs.twimg.com/media/DF_q7IAWsAEuuN8.jpg        1   \n",
       "\n",
       "                breed  confidence_interval  \n",
       "0           Chihuahua             0.323581  \n",
       "1           Chihuahua             0.716012  \n",
       "2  Labrador_Retriever             0.168086  "
      ]
     },
     "execution_count": 82,
     "metadata": {},
     "output_type": "execute_result"
    }
   ],
   "source": [
    "# merge the twitter_df_clean and image_df_clean dataframes\n",
    "master_df = twitter_df_clean.merge(image_df_clean, how='inner', on='tweet_id')\n",
    "\n",
    "# view first few rows\n",
    "master_df.head(3)"
   ]
  },
  {
   "cell_type": "code",
   "execution_count": 83,
   "metadata": {},
   "outputs": [
    {
     "data": {
      "text/html": [
       "<div>\n",
       "<style scoped>\n",
       "    .dataframe tbody tr th:only-of-type {\n",
       "        vertical-align: middle;\n",
       "    }\n",
       "\n",
       "    .dataframe tbody tr th {\n",
       "        vertical-align: top;\n",
       "    }\n",
       "\n",
       "    .dataframe thead th {\n",
       "        text-align: right;\n",
       "    }\n",
       "</style>\n",
       "<table border=\"1\" class=\"dataframe\">\n",
       "  <thead>\n",
       "    <tr style=\"text-align: right;\">\n",
       "      <th></th>\n",
       "      <th>tweet_id</th>\n",
       "      <th>in_reply_to_status_id</th>\n",
       "      <th>in_reply_to_user_id</th>\n",
       "      <th>timestamp</th>\n",
       "      <th>source</th>\n",
       "      <th>text</th>\n",
       "      <th>expanded_urls</th>\n",
       "      <th>rating_numerator</th>\n",
       "      <th>rating_denominator</th>\n",
       "      <th>name</th>\n",
       "      <th>dog_stage</th>\n",
       "      <th>jpg_url</th>\n",
       "      <th>img_num</th>\n",
       "      <th>breed</th>\n",
       "      <th>confidence_interval</th>\n",
       "      <th>retweet_count</th>\n",
       "      <th>favorite_count</th>\n",
       "      <th>is_quote_status</th>\n",
       "      <th>lower_text_range</th>\n",
       "      <th>upper_text_range</th>\n",
       "    </tr>\n",
       "  </thead>\n",
       "  <tbody>\n",
       "    <tr>\n",
       "      <th>0</th>\n",
       "      <td>892177421306343426</td>\n",
       "      <td>NaN</td>\n",
       "      <td>NaN</td>\n",
       "      <td>2017-08-01 00:17:27+00:00</td>\n",
       "      <td>Twitter for iPhone</td>\n",
       "      <td>This is Tilly. She's just checking pup on you....</td>\n",
       "      <td>https://twitter.com/dog_rates/status/892177421...</td>\n",
       "      <td>13</td>\n",
       "      <td>10</td>\n",
       "      <td>Tilly</td>\n",
       "      <td>NaN</td>\n",
       "      <td>https://pbs.twimg.com/media/DGGmoV4XsAAUL6n.jpg</td>\n",
       "      <td>1</td>\n",
       "      <td>Chihuahua</td>\n",
       "      <td>0.323581</td>\n",
       "      <td>5312</td>\n",
       "      <td>29385</td>\n",
       "      <td>False</td>\n",
       "      <td>0</td>\n",
       "      <td>138</td>\n",
       "    </tr>\n",
       "    <tr>\n",
       "      <th>1</th>\n",
       "      <td>891815181378084864</td>\n",
       "      <td>NaN</td>\n",
       "      <td>NaN</td>\n",
       "      <td>2017-07-31 00:18:03+00:00</td>\n",
       "      <td>Twitter for iPhone</td>\n",
       "      <td>This is Archie. He is a rare Norwegian Pouncin...</td>\n",
       "      <td>https://twitter.com/dog_rates/status/891815181...</td>\n",
       "      <td>12</td>\n",
       "      <td>10</td>\n",
       "      <td>Archie</td>\n",
       "      <td>NaN</td>\n",
       "      <td>https://pbs.twimg.com/media/DGBdLU1WsAANxJ9.jpg</td>\n",
       "      <td>1</td>\n",
       "      <td>Chihuahua</td>\n",
       "      <td>0.716012</td>\n",
       "      <td>3491</td>\n",
       "      <td>22100</td>\n",
       "      <td>False</td>\n",
       "      <td>0</td>\n",
       "      <td>121</td>\n",
       "    </tr>\n",
       "    <tr>\n",
       "      <th>2</th>\n",
       "      <td>891689557279858688</td>\n",
       "      <td>NaN</td>\n",
       "      <td>NaN</td>\n",
       "      <td>2017-07-30 15:58:51+00:00</td>\n",
       "      <td>Twitter for iPhone</td>\n",
       "      <td>This is Darla. She commenced a snooze mid meal...</td>\n",
       "      <td>https://twitter.com/dog_rates/status/891689557...</td>\n",
       "      <td>13</td>\n",
       "      <td>10</td>\n",
       "      <td>Darla</td>\n",
       "      <td>NaN</td>\n",
       "      <td>https://pbs.twimg.com/media/DF_q7IAWsAEuuN8.jpg</td>\n",
       "      <td>1</td>\n",
       "      <td>Labrador_Retriever</td>\n",
       "      <td>0.168086</td>\n",
       "      <td>7243</td>\n",
       "      <td>36999</td>\n",
       "      <td>False</td>\n",
       "      <td>0</td>\n",
       "      <td>79</td>\n",
       "    </tr>\n",
       "  </tbody>\n",
       "</table>\n",
       "</div>"
      ],
      "text/plain": [
       "             tweet_id  in_reply_to_status_id  in_reply_to_user_id  \\\n",
       "0  892177421306343426                    NaN                  NaN   \n",
       "1  891815181378084864                    NaN                  NaN   \n",
       "2  891689557279858688                    NaN                  NaN   \n",
       "\n",
       "                  timestamp              source  \\\n",
       "0 2017-08-01 00:17:27+00:00  Twitter for iPhone   \n",
       "1 2017-07-31 00:18:03+00:00  Twitter for iPhone   \n",
       "2 2017-07-30 15:58:51+00:00  Twitter for iPhone   \n",
       "\n",
       "                                                text  \\\n",
       "0  This is Tilly. She's just checking pup on you....   \n",
       "1  This is Archie. He is a rare Norwegian Pouncin...   \n",
       "2  This is Darla. She commenced a snooze mid meal...   \n",
       "\n",
       "                                       expanded_urls  rating_numerator  \\\n",
       "0  https://twitter.com/dog_rates/status/892177421...                13   \n",
       "1  https://twitter.com/dog_rates/status/891815181...                12   \n",
       "2  https://twitter.com/dog_rates/status/891689557...                13   \n",
       "\n",
       "   rating_denominator    name dog_stage  \\\n",
       "0                  10   Tilly       NaN   \n",
       "1                  10  Archie       NaN   \n",
       "2                  10   Darla       NaN   \n",
       "\n",
       "                                           jpg_url  img_num  \\\n",
       "0  https://pbs.twimg.com/media/DGGmoV4XsAAUL6n.jpg        1   \n",
       "1  https://pbs.twimg.com/media/DGBdLU1WsAANxJ9.jpg        1   \n",
       "2  https://pbs.twimg.com/media/DF_q7IAWsAEuuN8.jpg        1   \n",
       "\n",
       "                breed  confidence_interval  retweet_count  favorite_count  \\\n",
       "0           Chihuahua             0.323581           5312           29385   \n",
       "1           Chihuahua             0.716012           3491           22100   \n",
       "2  Labrador_Retriever             0.168086           7243           36999   \n",
       "\n",
       "   is_quote_status  lower_text_range  upper_text_range  \n",
       "0            False                 0               138  \n",
       "1            False                 0               121  \n",
       "2            False                 0                79  "
      ]
     },
     "execution_count": 83,
     "metadata": {},
     "output_type": "execute_result"
    }
   ],
   "source": [
    "# merge the newly created master_df and the api_df_clean dataframes\n",
    "master_df = master_df.merge(api_df_clean, how='inner', on='tweet_id')\n",
    "\n",
    "# view first few rows\n",
    "master_df.head(3)"
   ]
  },
  {
   "cell_type": "code",
   "execution_count": 84,
   "metadata": {},
   "outputs": [
    {
     "data": {
      "text/plain": [
       "(1678, 20)"
      ]
     },
     "execution_count": 84,
     "metadata": {},
     "output_type": "execute_result"
    }
   ],
   "source": [
    "# how many rows and columns does the master dataframe have\n",
    "master_df.shape"
   ]
  },
  {
   "cell_type": "code",
   "execution_count": 85,
   "metadata": {},
   "outputs": [
    {
     "name": "stdout",
     "output_type": "stream",
     "text": [
      "<class 'pandas.core.frame.DataFrame'>\n",
      "Int64Index: 1678 entries, 0 to 1677\n",
      "Data columns (total 20 columns):\n",
      " #   Column                 Non-Null Count  Dtype              \n",
      "---  ------                 --------------  -----              \n",
      " 0   tweet_id               1678 non-null   object             \n",
      " 1   in_reply_to_status_id  20 non-null     float64            \n",
      " 2   in_reply_to_user_id    20 non-null     float64            \n",
      " 3   timestamp              1678 non-null   datetime64[ns, UTC]\n",
      " 4   source                 1678 non-null   object             \n",
      " 5   text                   1678 non-null   object             \n",
      " 6   expanded_urls          1678 non-null   object             \n",
      " 7   rating_numerator       1678 non-null   int64              \n",
      " 8   rating_denominator     1678 non-null   int64              \n",
      " 9   name                   1214 non-null   object             \n",
      " 10  dog_stage              254 non-null    object             \n",
      " 11  jpg_url                1678 non-null   object             \n",
      " 12  img_num                1678 non-null   int64              \n",
      " 13  breed                  1678 non-null   object             \n",
      " 14  confidence_interval    1678 non-null   float64            \n",
      " 15  retweet_count          1678 non-null   int64              \n",
      " 16  favorite_count         1678 non-null   int64              \n",
      " 17  is_quote_status        1678 non-null   bool               \n",
      " 18  lower_text_range       1678 non-null   int64              \n",
      " 19  upper_text_range       1678 non-null   int64              \n",
      "dtypes: bool(1), datetime64[ns, UTC](1), float64(3), int64(7), object(8)\n",
      "memory usage: 263.8+ KB\n"
     ]
    }
   ],
   "source": [
    "# view the structure of the dataframe.\n",
    "master_df.info()"
   ]
  },
  {
   "cell_type": "markdown",
   "metadata": {},
   "source": [
    "* The `in_reply_to_status_id` and `in_reply_to_user_id` columns are reply tweets made by WeRateDogs under another dog tweet. I've decided to leave them as original tweets because these tweets could be viewed as original tweets "
   ]
  },
  {
   "cell_type": "code",
   "execution_count": 86,
   "metadata": {},
   "outputs": [
    {
     "data": {
      "text/plain": [
       "10     1661\n",
       "50        3\n",
       "11        2\n",
       "80        2\n",
       "2         1\n",
       "7         1\n",
       "20        1\n",
       "40        1\n",
       "70        1\n",
       "90        1\n",
       "110       1\n",
       "120       1\n",
       "130       1\n",
       "150       1\n",
       "Name: rating_denominator, dtype: int64"
      ]
     },
     "execution_count": 86,
     "metadata": {},
     "output_type": "execute_result"
    }
   ],
   "source": [
    "master_df['rating_denominator'].value_counts()"
   ]
  },
  {
   "cell_type": "code",
   "execution_count": 87,
   "metadata": {},
   "outputs": [
    {
     "data": {
      "text/plain": [
       "12     421\n",
       "10     358\n",
       "11     356\n",
       "13     225\n",
       "9      133\n",
       "8       68\n",
       "7       32\n",
       "14      23\n",
       "6       16\n",
       "5       14\n",
       "4        7\n",
       "3        5\n",
       "2        2\n",
       "121      1\n",
       "84       1\n",
       "88       1\n",
       "99       1\n",
       "0        1\n",
       "143      1\n",
       "144      1\n",
       "75       1\n",
       "80       1\n",
       "24       1\n",
       "60       1\n",
       "50       1\n",
       "45       1\n",
       "44       1\n",
       "27       1\n",
       "26       1\n",
       "1        1\n",
       "165      1\n",
       "Name: rating_numerator, dtype: int64"
      ]
     },
     "execution_count": 87,
     "metadata": {},
     "output_type": "execute_result"
    }
   ],
   "source": [
    "master_df['rating_numerator'].value_counts()"
   ]
  },
  {
   "cell_type": "markdown",
   "metadata": {},
   "source": [
    "* Both the `rating_numerator` and `rating_denominator` columns have ratings with too high or too low numbers. I left cleaning of the ratings columns for last because the inner joins between tables would eliminate most of the wrong/incorrect ratings. Fortunately, there aren't a lot of them after merging the dataframes."
   ]
  },
  {
   "cell_type": "markdown",
   "metadata": {},
   "source": [
    "-------------------------------------------------------------------------------------------------------------------------------"
   ]
  },
  {
   "cell_type": "markdown",
   "metadata": {},
   "source": [
    "## Cleaning master dataset"
   ]
  },
  {
   "cell_type": "code",
   "execution_count": 88,
   "metadata": {},
   "outputs": [],
   "source": [
    "# make copy of the original data\n",
    "master_df_clean = master_df.copy()"
   ]
  },
  {
   "cell_type": "markdown",
   "metadata": {},
   "source": [
    "### master_df_clean"
   ]
  },
  {
   "cell_type": "markdown",
   "metadata": {},
   "source": [
    "### Quality issue #1:\n",
    "\n",
    "##### `rating_denominator` has numbers like 0, 2, 7. Check to see that the rating was extracted correctly."
   ]
  },
  {
   "cell_type": "markdown",
   "metadata": {},
   "source": [
    "#### Define:\n",
    "\n",
    "Manually check the weird ratings in the `rating_denominator` column and change to the correct values where necessary using .loc or .iloc."
   ]
  },
  {
   "cell_type": "markdown",
   "metadata": {},
   "source": [
    "#### Code"
   ]
  },
  {
   "cell_type": "code",
   "execution_count": 89,
   "metadata": {},
   "outputs": [
    {
     "data": {
      "text/plain": [
       "10     1661\n",
       "50        3\n",
       "11        2\n",
       "80        2\n",
       "2         1\n",
       "7         1\n",
       "20        1\n",
       "40        1\n",
       "70        1\n",
       "90        1\n",
       "110       1\n",
       "120       1\n",
       "130       1\n",
       "150       1\n",
       "Name: rating_denominator, dtype: int64"
      ]
     },
     "execution_count": 89,
     "metadata": {},
     "output_type": "execute_result"
    }
   ],
   "source": [
    "# view values to be checked\n",
    "master_df_clean['rating_denominator'].value_counts()"
   ]
  },
  {
   "cell_type": "code",
   "execution_count": 90,
   "metadata": {},
   "outputs": [
    {
     "data": {
      "text/html": [
       "<div>\n",
       "<style scoped>\n",
       "    .dataframe tbody tr th:only-of-type {\n",
       "        vertical-align: middle;\n",
       "    }\n",
       "\n",
       "    .dataframe tbody tr th {\n",
       "        vertical-align: top;\n",
       "    }\n",
       "\n",
       "    .dataframe thead th {\n",
       "        text-align: right;\n",
       "    }\n",
       "</style>\n",
       "<table border=\"1\" class=\"dataframe\">\n",
       "  <thead>\n",
       "    <tr style=\"text-align: right;\">\n",
       "      <th></th>\n",
       "      <th>tweet_id</th>\n",
       "      <th>in_reply_to_status_id</th>\n",
       "      <th>in_reply_to_user_id</th>\n",
       "      <th>timestamp</th>\n",
       "      <th>source</th>\n",
       "      <th>text</th>\n",
       "      <th>expanded_urls</th>\n",
       "      <th>rating_numerator</th>\n",
       "      <th>rating_denominator</th>\n",
       "      <th>name</th>\n",
       "      <th>dog_stage</th>\n",
       "      <th>jpg_url</th>\n",
       "      <th>img_num</th>\n",
       "      <th>breed</th>\n",
       "      <th>confidence_interval</th>\n",
       "      <th>retweet_count</th>\n",
       "      <th>favorite_count</th>\n",
       "      <th>is_quote_status</th>\n",
       "      <th>lower_text_range</th>\n",
       "      <th>upper_text_range</th>\n",
       "    </tr>\n",
       "  </thead>\n",
       "  <tbody>\n",
       "    <tr>\n",
       "      <th>288</th>\n",
       "      <td>820690176645140481</td>\n",
       "      <td>NaN</td>\n",
       "      <td>NaN</td>\n",
       "      <td>2017-01-15 17:52:40+00:00</td>\n",
       "      <td>Twitter for iPhone</td>\n",
       "      <td>The floofs have been released I repeat the flo...</td>\n",
       "      <td>https://twitter.com/dog_rates/status/820690176...</td>\n",
       "      <td>84</td>\n",
       "      <td>70</td>\n",
       "      <td>NaN</td>\n",
       "      <td>NaN</td>\n",
       "      <td>https://pbs.twimg.com/media/C2OtWr0VQAEnS9r.jpg</td>\n",
       "      <td>2</td>\n",
       "      <td>West_Highland_White_Terrier</td>\n",
       "      <td>0.872064</td>\n",
       "      <td>3009</td>\n",
       "      <td>11610</td>\n",
       "      <td>False</td>\n",
       "      <td>0</td>\n",
       "      <td>75</td>\n",
       "    </tr>\n",
       "    <tr>\n",
       "      <th>344</th>\n",
       "      <td>810984652412424192</td>\n",
       "      <td>NaN</td>\n",
       "      <td>NaN</td>\n",
       "      <td>2016-12-19 23:06:23+00:00</td>\n",
       "      <td>Twitter for iPhone</td>\n",
       "      <td>Meet Sam. She smiles 24/7 &amp;amp; secretly aspir...</td>\n",
       "      <td>https://www.gofundme.com/sams-smile,https://tw...</td>\n",
       "      <td>24</td>\n",
       "      <td>7</td>\n",
       "      <td>Sam</td>\n",
       "      <td>NaN</td>\n",
       "      <td>https://pbs.twimg.com/media/C0EyPZbXAAAceSc.jpg</td>\n",
       "      <td>1</td>\n",
       "      <td>Golden_Retriever</td>\n",
       "      <td>0.871342</td>\n",
       "      <td>1342</td>\n",
       "      <td>5071</td>\n",
       "      <td>False</td>\n",
       "      <td>0</td>\n",
       "      <td>143</td>\n",
       "    </tr>\n",
       "    <tr>\n",
       "      <th>587</th>\n",
       "      <td>758467244762497024</td>\n",
       "      <td>NaN</td>\n",
       "      <td>NaN</td>\n",
       "      <td>2016-07-28 01:00:57+00:00</td>\n",
       "      <td>Twitter for iPhone</td>\n",
       "      <td>Why does this never happen at my front door......</td>\n",
       "      <td>https://twitter.com/dog_rates/status/758467244...</td>\n",
       "      <td>165</td>\n",
       "      <td>150</td>\n",
       "      <td>NaN</td>\n",
       "      <td>NaN</td>\n",
       "      <td>https://pbs.twimg.com/ext_tw_video_thumb/75846...</td>\n",
       "      <td>1</td>\n",
       "      <td>Labrador_Retriever</td>\n",
       "      <td>0.436377</td>\n",
       "      <td>2033</td>\n",
       "      <td>4484</td>\n",
       "      <td>False</td>\n",
       "      <td>0</td>\n",
       "      <td>54</td>\n",
       "    </tr>\n",
       "    <tr>\n",
       "      <th>703</th>\n",
       "      <td>740373189193256964</td>\n",
       "      <td>NaN</td>\n",
       "      <td>NaN</td>\n",
       "      <td>2016-06-08 02:41:38+00:00</td>\n",
       "      <td>Twitter for iPhone</td>\n",
       "      <td>After so many requests, this is Bretagne. She ...</td>\n",
       "      <td>https://twitter.com/dog_rates/status/740373189...</td>\n",
       "      <td>9</td>\n",
       "      <td>11</td>\n",
       "      <td>NaN</td>\n",
       "      <td>NaN</td>\n",
       "      <td>https://pbs.twimg.com/media/CkZVdJ6WYAAXZ5A.jpg</td>\n",
       "      <td>3</td>\n",
       "      <td>Golden_Retriever</td>\n",
       "      <td>0.807644</td>\n",
       "      <td>12175</td>\n",
       "      <td>32672</td>\n",
       "      <td>False</td>\n",
       "      <td>0</td>\n",
       "      <td>116</td>\n",
       "    </tr>\n",
       "    <tr>\n",
       "      <th>784</th>\n",
       "      <td>722974582966214656</td>\n",
       "      <td>NaN</td>\n",
       "      <td>NaN</td>\n",
       "      <td>2016-04-21 02:25:47+00:00</td>\n",
       "      <td>Twitter for iPhone</td>\n",
       "      <td>Happy 4/20 from the squad! 13/10 for all https...</td>\n",
       "      <td>https://twitter.com/dog_rates/status/722974582...</td>\n",
       "      <td>4</td>\n",
       "      <td>20</td>\n",
       "      <td>NaN</td>\n",
       "      <td>NaN</td>\n",
       "      <td>https://pbs.twimg.com/media/CgiFjIpWgAA4wVp.jpg</td>\n",
       "      <td>1</td>\n",
       "      <td>Great_Dane</td>\n",
       "      <td>0.246762</td>\n",
       "      <td>1447</td>\n",
       "      <td>3791</td>\n",
       "      <td>False</td>\n",
       "      <td>0</td>\n",
       "      <td>40</td>\n",
       "    </tr>\n",
       "    <tr>\n",
       "      <th>814</th>\n",
       "      <td>716439118184652801</td>\n",
       "      <td>NaN</td>\n",
       "      <td>NaN</td>\n",
       "      <td>2016-04-03 01:36:11+00:00</td>\n",
       "      <td>Twitter for iPhone</td>\n",
       "      <td>This is Bluebert. He just saw that both #Final...</td>\n",
       "      <td>https://twitter.com/dog_rates/status/716439118...</td>\n",
       "      <td>50</td>\n",
       "      <td>50</td>\n",
       "      <td>Bluebert</td>\n",
       "      <td>NaN</td>\n",
       "      <td>https://pbs.twimg.com/media/CfFNk7cWAAA-hND.jpg</td>\n",
       "      <td>1</td>\n",
       "      <td>Siberian_Husky</td>\n",
       "      <td>0.396495</td>\n",
       "      <td>192</td>\n",
       "      <td>2205</td>\n",
       "      <td>False</td>\n",
       "      <td>0</td>\n",
       "      <td>117</td>\n",
       "    </tr>\n",
       "    <tr>\n",
       "      <th>833</th>\n",
       "      <td>713900603437621249</td>\n",
       "      <td>NaN</td>\n",
       "      <td>NaN</td>\n",
       "      <td>2016-03-27 01:29:02+00:00</td>\n",
       "      <td>Twitter for iPhone</td>\n",
       "      <td>Happy Saturday here's 9 puppers on a bench. 99...</td>\n",
       "      <td>https://twitter.com/dog_rates/status/713900603...</td>\n",
       "      <td>99</td>\n",
       "      <td>90</td>\n",
       "      <td>NaN</td>\n",
       "      <td>NaN</td>\n",
       "      <td>https://pbs.twimg.com/media/CehIzzZWQAEyHH5.jpg</td>\n",
       "      <td>1</td>\n",
       "      <td>Golden_Retriever</td>\n",
       "      <td>0.371816</td>\n",
       "      <td>666</td>\n",
       "      <td>2635</td>\n",
       "      <td>False</td>\n",
       "      <td>0</td>\n",
       "      <td>93</td>\n",
       "    </tr>\n",
       "    <tr>\n",
       "      <th>852</th>\n",
       "      <td>710658690886586372</td>\n",
       "      <td>NaN</td>\n",
       "      <td>NaN</td>\n",
       "      <td>2016-03-18 02:46:49+00:00</td>\n",
       "      <td>Twitter for iPhone</td>\n",
       "      <td>Here's a brigade of puppers. All look very pre...</td>\n",
       "      <td>https://twitter.com/dog_rates/status/710658690...</td>\n",
       "      <td>80</td>\n",
       "      <td>80</td>\n",
       "      <td>NaN</td>\n",
       "      <td>NaN</td>\n",
       "      <td>https://pbs.twimg.com/media/CdzETn4W4AAVU5N.jpg</td>\n",
       "      <td>1</td>\n",
       "      <td>Soft-Coated_Wheaten_Terrier</td>\n",
       "      <td>0.948617</td>\n",
       "      <td>519</td>\n",
       "      <td>2150</td>\n",
       "      <td>False</td>\n",
       "      <td>0</td>\n",
       "      <td>108</td>\n",
       "    </tr>\n",
       "    <tr>\n",
       "      <th>869</th>\n",
       "      <td>709198395643068416</td>\n",
       "      <td>NaN</td>\n",
       "      <td>NaN</td>\n",
       "      <td>2016-03-14 02:04:08+00:00</td>\n",
       "      <td>Twitter for iPhone</td>\n",
       "      <td>From left to right:\\nCletus, Jerome, Alejandro...</td>\n",
       "      <td>https://twitter.com/dog_rates/status/709198395...</td>\n",
       "      <td>45</td>\n",
       "      <td>50</td>\n",
       "      <td>NaN</td>\n",
       "      <td>NaN</td>\n",
       "      <td>https://pbs.twimg.com/media/CdeUKpcWoAAJAWJ.jpg</td>\n",
       "      <td>1</td>\n",
       "      <td>Borzoi</td>\n",
       "      <td>0.490783</td>\n",
       "      <td>592</td>\n",
       "      <td>2277</td>\n",
       "      <td>False</td>\n",
       "      <td>0</td>\n",
       "      <td>144</td>\n",
       "    </tr>\n",
       "    <tr>\n",
       "      <th>929</th>\n",
       "      <td>704054845121142784</td>\n",
       "      <td>NaN</td>\n",
       "      <td>NaN</td>\n",
       "      <td>2016-02-28 21:25:30+00:00</td>\n",
       "      <td>Twitter for iPhone</td>\n",
       "      <td>Here is a whole flock of puppers.  60/50 I'll ...</td>\n",
       "      <td>https://twitter.com/dog_rates/status/704054845...</td>\n",
       "      <td>60</td>\n",
       "      <td>50</td>\n",
       "      <td>NaN</td>\n",
       "      <td>NaN</td>\n",
       "      <td>https://pbs.twimg.com/media/CcVOJEcXEAM0FHL.jpg</td>\n",
       "      <td>1</td>\n",
       "      <td>Great_Pyrenees</td>\n",
       "      <td>0.667939</td>\n",
       "      <td>845</td>\n",
       "      <td>2704</td>\n",
       "      <td>False</td>\n",
       "      <td>0</td>\n",
       "      <td>82</td>\n",
       "    </tr>\n",
       "    <tr>\n",
       "      <th>995</th>\n",
       "      <td>697463031882764288</td>\n",
       "      <td>NaN</td>\n",
       "      <td>NaN</td>\n",
       "      <td>2016-02-10 16:51:59+00:00</td>\n",
       "      <td>Twitter for iPhone</td>\n",
       "      <td>Happy Wednesday here's a bucket of pups. 44/40...</td>\n",
       "      <td>https://twitter.com/dog_rates/status/697463031...</td>\n",
       "      <td>44</td>\n",
       "      <td>40</td>\n",
       "      <td>NaN</td>\n",
       "      <td>NaN</td>\n",
       "      <td>https://pbs.twimg.com/media/Ca3i7CzXIAMLhg8.jpg</td>\n",
       "      <td>1</td>\n",
       "      <td>Labrador_Retriever</td>\n",
       "      <td>0.999885</td>\n",
       "      <td>1280</td>\n",
       "      <td>3184</td>\n",
       "      <td>False</td>\n",
       "      <td>0</td>\n",
       "      <td>92</td>\n",
       "    </tr>\n",
       "    <tr>\n",
       "      <th>1138</th>\n",
       "      <td>684225744407494656</td>\n",
       "      <td>6.842229e+17</td>\n",
       "      <td>4.196984e+09</td>\n",
       "      <td>2016-01-05 04:11:44+00:00</td>\n",
       "      <td>Twitter for iPhone</td>\n",
       "      <td>Two sneaky puppers were not initially seen, mo...</td>\n",
       "      <td>https://twitter.com/dog_rates/status/684225744...</td>\n",
       "      <td>143</td>\n",
       "      <td>130</td>\n",
       "      <td>NaN</td>\n",
       "      <td>NaN</td>\n",
       "      <td>https://pbs.twimg.com/media/CX7br3HWsAAQ9L1.jpg</td>\n",
       "      <td>2</td>\n",
       "      <td>Golden_Retriever</td>\n",
       "      <td>0.203249</td>\n",
       "      <td>184</td>\n",
       "      <td>1152</td>\n",
       "      <td>False</td>\n",
       "      <td>0</td>\n",
       "      <td>126</td>\n",
       "    </tr>\n",
       "    <tr>\n",
       "      <th>1139</th>\n",
       "      <td>684222868335505415</td>\n",
       "      <td>NaN</td>\n",
       "      <td>NaN</td>\n",
       "      <td>2016-01-05 04:00:18+00:00</td>\n",
       "      <td>Twitter for iPhone</td>\n",
       "      <td>Someone help the girl is being mugged. Several...</td>\n",
       "      <td>https://twitter.com/dog_rates/status/684222868...</td>\n",
       "      <td>121</td>\n",
       "      <td>110</td>\n",
       "      <td>NaN</td>\n",
       "      <td>NaN</td>\n",
       "      <td>https://pbs.twimg.com/media/CX7Y_ByWwAEJdUy.jpg</td>\n",
       "      <td>1</td>\n",
       "      <td>Soft-Coated_Wheaten_Terrier</td>\n",
       "      <td>0.791182</td>\n",
       "      <td>1244</td>\n",
       "      <td>3534</td>\n",
       "      <td>False</td>\n",
       "      <td>0</td>\n",
       "      <td>140</td>\n",
       "    </tr>\n",
       "    <tr>\n",
       "      <th>1162</th>\n",
       "      <td>682962037429899265</td>\n",
       "      <td>NaN</td>\n",
       "      <td>NaN</td>\n",
       "      <td>2016-01-01 16:30:13+00:00</td>\n",
       "      <td>Twitter for iPhone</td>\n",
       "      <td>This is Darrel. He just robbed a 7/11 and is i...</td>\n",
       "      <td>https://twitter.com/dog_rates/status/682962037...</td>\n",
       "      <td>7</td>\n",
       "      <td>11</td>\n",
       "      <td>Darrel</td>\n",
       "      <td>NaN</td>\n",
       "      <td>https://pbs.twimg.com/media/CXpeVzQW8AApKYb.jpg</td>\n",
       "      <td>1</td>\n",
       "      <td>Chihuahua</td>\n",
       "      <td>0.155207</td>\n",
       "      <td>14955</td>\n",
       "      <td>33915</td>\n",
       "      <td>False</td>\n",
       "      <td>0</td>\n",
       "      <td>139</td>\n",
       "    </tr>\n",
       "    <tr>\n",
       "      <th>1246</th>\n",
       "      <td>677716515794329600</td>\n",
       "      <td>NaN</td>\n",
       "      <td>NaN</td>\n",
       "      <td>2015-12-18 05:06:23+00:00</td>\n",
       "      <td>Twitter for iPhone</td>\n",
       "      <td>IT'S PUPPERGEDDON. Total of 144/120 ...I think...</td>\n",
       "      <td>https://twitter.com/dog_rates/status/677716515...</td>\n",
       "      <td>144</td>\n",
       "      <td>120</td>\n",
       "      <td>NaN</td>\n",
       "      <td>NaN</td>\n",
       "      <td>https://pbs.twimg.com/media/CWe7kw9W4AE8UJh.jpg</td>\n",
       "      <td>1</td>\n",
       "      <td>Chow</td>\n",
       "      <td>0.025438</td>\n",
       "      <td>883</td>\n",
       "      <td>2796</td>\n",
       "      <td>False</td>\n",
       "      <td>0</td>\n",
       "      <td>70</td>\n",
       "    </tr>\n",
       "    <tr>\n",
       "      <th>1296</th>\n",
       "      <td>675853064436391936</td>\n",
       "      <td>NaN</td>\n",
       "      <td>NaN</td>\n",
       "      <td>2015-12-13 01:41:41+00:00</td>\n",
       "      <td>Twitter for iPhone</td>\n",
       "      <td>Here we have an entire platoon of puppers. Tot...</td>\n",
       "      <td>https://twitter.com/dog_rates/status/675853064...</td>\n",
       "      <td>88</td>\n",
       "      <td>80</td>\n",
       "      <td>NaN</td>\n",
       "      <td>NaN</td>\n",
       "      <td>https://pbs.twimg.com/media/CWEcxqWVEAAHyGH.jpg</td>\n",
       "      <td>1</td>\n",
       "      <td>Labrador_Retriever</td>\n",
       "      <td>0.868367</td>\n",
       "      <td>1143</td>\n",
       "      <td>2432</td>\n",
       "      <td>False</td>\n",
       "      <td>0</td>\n",
       "      <td>107</td>\n",
       "    </tr>\n",
       "    <tr>\n",
       "      <th>1660</th>\n",
       "      <td>666287406224695296</td>\n",
       "      <td>NaN</td>\n",
       "      <td>NaN</td>\n",
       "      <td>2015-11-16 16:11:11+00:00</td>\n",
       "      <td>Twitter for iPhone</td>\n",
       "      <td>This is an Albanian 3 1/2 legged  Episcopalian...</td>\n",
       "      <td>https://twitter.com/dog_rates/status/666287406...</td>\n",
       "      <td>1</td>\n",
       "      <td>2</td>\n",
       "      <td>an</td>\n",
       "      <td>NaN</td>\n",
       "      <td>https://pbs.twimg.com/media/CT8g3BpUEAAuFjg.jpg</td>\n",
       "      <td>1</td>\n",
       "      <td>Maltese_Dog</td>\n",
       "      <td>0.857531</td>\n",
       "      <td>57</td>\n",
       "      <td>123</td>\n",
       "      <td>False</td>\n",
       "      <td>0</td>\n",
       "      <td>136</td>\n",
       "    </tr>\n",
       "  </tbody>\n",
       "</table>\n",
       "</div>"
      ],
      "text/plain": [
       "                tweet_id  in_reply_to_status_id  in_reply_to_user_id  \\\n",
       "288   820690176645140481                    NaN                  NaN   \n",
       "344   810984652412424192                    NaN                  NaN   \n",
       "587   758467244762497024                    NaN                  NaN   \n",
       "703   740373189193256964                    NaN                  NaN   \n",
       "784   722974582966214656                    NaN                  NaN   \n",
       "814   716439118184652801                    NaN                  NaN   \n",
       "833   713900603437621249                    NaN                  NaN   \n",
       "852   710658690886586372                    NaN                  NaN   \n",
       "869   709198395643068416                    NaN                  NaN   \n",
       "929   704054845121142784                    NaN                  NaN   \n",
       "995   697463031882764288                    NaN                  NaN   \n",
       "1138  684225744407494656           6.842229e+17         4.196984e+09   \n",
       "1139  684222868335505415                    NaN                  NaN   \n",
       "1162  682962037429899265                    NaN                  NaN   \n",
       "1246  677716515794329600                    NaN                  NaN   \n",
       "1296  675853064436391936                    NaN                  NaN   \n",
       "1660  666287406224695296                    NaN                  NaN   \n",
       "\n",
       "                     timestamp              source  \\\n",
       "288  2017-01-15 17:52:40+00:00  Twitter for iPhone   \n",
       "344  2016-12-19 23:06:23+00:00  Twitter for iPhone   \n",
       "587  2016-07-28 01:00:57+00:00  Twitter for iPhone   \n",
       "703  2016-06-08 02:41:38+00:00  Twitter for iPhone   \n",
       "784  2016-04-21 02:25:47+00:00  Twitter for iPhone   \n",
       "814  2016-04-03 01:36:11+00:00  Twitter for iPhone   \n",
       "833  2016-03-27 01:29:02+00:00  Twitter for iPhone   \n",
       "852  2016-03-18 02:46:49+00:00  Twitter for iPhone   \n",
       "869  2016-03-14 02:04:08+00:00  Twitter for iPhone   \n",
       "929  2016-02-28 21:25:30+00:00  Twitter for iPhone   \n",
       "995  2016-02-10 16:51:59+00:00  Twitter for iPhone   \n",
       "1138 2016-01-05 04:11:44+00:00  Twitter for iPhone   \n",
       "1139 2016-01-05 04:00:18+00:00  Twitter for iPhone   \n",
       "1162 2016-01-01 16:30:13+00:00  Twitter for iPhone   \n",
       "1246 2015-12-18 05:06:23+00:00  Twitter for iPhone   \n",
       "1296 2015-12-13 01:41:41+00:00  Twitter for iPhone   \n",
       "1660 2015-11-16 16:11:11+00:00  Twitter for iPhone   \n",
       "\n",
       "                                                   text  \\\n",
       "288   The floofs have been released I repeat the flo...   \n",
       "344   Meet Sam. She smiles 24/7 &amp; secretly aspir...   \n",
       "587   Why does this never happen at my front door......   \n",
       "703   After so many requests, this is Bretagne. She ...   \n",
       "784   Happy 4/20 from the squad! 13/10 for all https...   \n",
       "814   This is Bluebert. He just saw that both #Final...   \n",
       "833   Happy Saturday here's 9 puppers on a bench. 99...   \n",
       "852   Here's a brigade of puppers. All look very pre...   \n",
       "869   From left to right:\\nCletus, Jerome, Alejandro...   \n",
       "929   Here is a whole flock of puppers.  60/50 I'll ...   \n",
       "995   Happy Wednesday here's a bucket of pups. 44/40...   \n",
       "1138  Two sneaky puppers were not initially seen, mo...   \n",
       "1139  Someone help the girl is being mugged. Several...   \n",
       "1162  This is Darrel. He just robbed a 7/11 and is i...   \n",
       "1246  IT'S PUPPERGEDDON. Total of 144/120 ...I think...   \n",
       "1296  Here we have an entire platoon of puppers. Tot...   \n",
       "1660  This is an Albanian 3 1/2 legged  Episcopalian...   \n",
       "\n",
       "                                          expanded_urls  rating_numerator  \\\n",
       "288   https://twitter.com/dog_rates/status/820690176...                84   \n",
       "344   https://www.gofundme.com/sams-smile,https://tw...                24   \n",
       "587   https://twitter.com/dog_rates/status/758467244...               165   \n",
       "703   https://twitter.com/dog_rates/status/740373189...                 9   \n",
       "784   https://twitter.com/dog_rates/status/722974582...                 4   \n",
       "814   https://twitter.com/dog_rates/status/716439118...                50   \n",
       "833   https://twitter.com/dog_rates/status/713900603...                99   \n",
       "852   https://twitter.com/dog_rates/status/710658690...                80   \n",
       "869   https://twitter.com/dog_rates/status/709198395...                45   \n",
       "929   https://twitter.com/dog_rates/status/704054845...                60   \n",
       "995   https://twitter.com/dog_rates/status/697463031...                44   \n",
       "1138  https://twitter.com/dog_rates/status/684225744...               143   \n",
       "1139  https://twitter.com/dog_rates/status/684222868...               121   \n",
       "1162  https://twitter.com/dog_rates/status/682962037...                 7   \n",
       "1246  https://twitter.com/dog_rates/status/677716515...               144   \n",
       "1296  https://twitter.com/dog_rates/status/675853064...                88   \n",
       "1660  https://twitter.com/dog_rates/status/666287406...                 1   \n",
       "\n",
       "      rating_denominator      name dog_stage  \\\n",
       "288                   70       NaN       NaN   \n",
       "344                    7       Sam       NaN   \n",
       "587                  150       NaN       NaN   \n",
       "703                   11       NaN       NaN   \n",
       "784                   20       NaN       NaN   \n",
       "814                   50  Bluebert       NaN   \n",
       "833                   90       NaN       NaN   \n",
       "852                   80       NaN       NaN   \n",
       "869                   50       NaN       NaN   \n",
       "929                   50       NaN       NaN   \n",
       "995                   40       NaN       NaN   \n",
       "1138                 130       NaN       NaN   \n",
       "1139                 110       NaN       NaN   \n",
       "1162                  11    Darrel       NaN   \n",
       "1246                 120       NaN       NaN   \n",
       "1296                  80       NaN       NaN   \n",
       "1660                   2        an       NaN   \n",
       "\n",
       "                                                jpg_url  img_num  \\\n",
       "288     https://pbs.twimg.com/media/C2OtWr0VQAEnS9r.jpg        2   \n",
       "344     https://pbs.twimg.com/media/C0EyPZbXAAAceSc.jpg        1   \n",
       "587   https://pbs.twimg.com/ext_tw_video_thumb/75846...        1   \n",
       "703     https://pbs.twimg.com/media/CkZVdJ6WYAAXZ5A.jpg        3   \n",
       "784     https://pbs.twimg.com/media/CgiFjIpWgAA4wVp.jpg        1   \n",
       "814     https://pbs.twimg.com/media/CfFNk7cWAAA-hND.jpg        1   \n",
       "833     https://pbs.twimg.com/media/CehIzzZWQAEyHH5.jpg        1   \n",
       "852     https://pbs.twimg.com/media/CdzETn4W4AAVU5N.jpg        1   \n",
       "869     https://pbs.twimg.com/media/CdeUKpcWoAAJAWJ.jpg        1   \n",
       "929     https://pbs.twimg.com/media/CcVOJEcXEAM0FHL.jpg        1   \n",
       "995     https://pbs.twimg.com/media/Ca3i7CzXIAMLhg8.jpg        1   \n",
       "1138    https://pbs.twimg.com/media/CX7br3HWsAAQ9L1.jpg        2   \n",
       "1139    https://pbs.twimg.com/media/CX7Y_ByWwAEJdUy.jpg        1   \n",
       "1162    https://pbs.twimg.com/media/CXpeVzQW8AApKYb.jpg        1   \n",
       "1246    https://pbs.twimg.com/media/CWe7kw9W4AE8UJh.jpg        1   \n",
       "1296    https://pbs.twimg.com/media/CWEcxqWVEAAHyGH.jpg        1   \n",
       "1660    https://pbs.twimg.com/media/CT8g3BpUEAAuFjg.jpg        1   \n",
       "\n",
       "                            breed  confidence_interval  retweet_count  \\\n",
       "288   West_Highland_White_Terrier             0.872064           3009   \n",
       "344              Golden_Retriever             0.871342           1342   \n",
       "587            Labrador_Retriever             0.436377           2033   \n",
       "703              Golden_Retriever             0.807644          12175   \n",
       "784                    Great_Dane             0.246762           1447   \n",
       "814                Siberian_Husky             0.396495            192   \n",
       "833              Golden_Retriever             0.371816            666   \n",
       "852   Soft-Coated_Wheaten_Terrier             0.948617            519   \n",
       "869                        Borzoi             0.490783            592   \n",
       "929                Great_Pyrenees             0.667939            845   \n",
       "995            Labrador_Retriever             0.999885           1280   \n",
       "1138             Golden_Retriever             0.203249            184   \n",
       "1139  Soft-Coated_Wheaten_Terrier             0.791182           1244   \n",
       "1162                    Chihuahua             0.155207          14955   \n",
       "1246                         Chow             0.025438            883   \n",
       "1296           Labrador_Retriever             0.868367           1143   \n",
       "1660                  Maltese_Dog             0.857531             57   \n",
       "\n",
       "      favorite_count  is_quote_status  lower_text_range  upper_text_range  \n",
       "288            11610            False                 0                75  \n",
       "344             5071            False                 0               143  \n",
       "587             4484            False                 0                54  \n",
       "703            32672            False                 0               116  \n",
       "784             3791            False                 0                40  \n",
       "814             2205            False                 0               117  \n",
       "833             2635            False                 0                93  \n",
       "852             2150            False                 0               108  \n",
       "869             2277            False                 0               144  \n",
       "929             2704            False                 0                82  \n",
       "995             3184            False                 0                92  \n",
       "1138            1152            False                 0               126  \n",
       "1139            3534            False                 0               140  \n",
       "1162           33915            False                 0               139  \n",
       "1246            2796            False                 0                70  \n",
       "1296            2432            False                 0               107  \n",
       "1660             123            False                 0               136  "
      ]
     },
     "execution_count": 90,
     "metadata": {},
     "output_type": "execute_result"
    }
   ],
   "source": [
    "# put the values to be checked in a list, exclude 10 of course\n",
    "denominators = list(master_df_clean['rating_denominator'].value_counts()[1:].index)\n",
    "\n",
    "# return rows that have this rating_denominator\n",
    "master_df_clean[master_df_clean['rating_denominator'].isin(denominators)]"
   ]
  },
  {
   "cell_type": "code",
   "execution_count": 91,
   "metadata": {},
   "outputs": [],
   "source": [
    "# 50 - [should be 10 (11/10). mistaken as 50/50. index 814], [correct rating (60/50). index 929], [correct rating (45/50). index 869]\n",
    "# 11 - [should be 10 (14/10). mistaken as 9/11. index 703], [should be 10 (10/10). mistaken as 7/11. index 1162]\n",
    "# 80 - [correct rating (88/80). index 1296], [correct rating (80/80). index 852]\n",
    "# 2 - should be 10 (9/10). mistaken as 3 1/2. index 1660\n",
    "# 7 - should np.nan (no rating). mistaken as 24/7. index 344\n",
    "# 20 - should be 10 (13/10). mistaken as 4/20. index 784\n",
    "# 40 - correct raing (44/40)\n",
    "# 70 - correct rating (84/70)\n",
    "# 90 - correct rating (99/90)\n",
    "# 110 - correct rating (121/110)\n",
    "# 120 - correct rating (144/20)\n",
    "# 130 - correct rating (143/130)\n",
    "# 150 - correct rating (165/150)\n",
    "\n",
    "master_df_clean.loc[814, 'rating_denominator'] = 10\n",
    "master_df_clean.loc[703, 'rating_denominator'] = 10\n",
    "master_df_clean.loc[1162, 'rating_denominator'] = 10\n",
    "master_df_clean.loc[1660, 'rating_denominator'] = 10\n",
    "master_df_clean.loc[344, 'rating_denominator'] = np.nan\n",
    "master_df_clean.loc[784, 'rating_denominator'] = 10"
   ]
  },
  {
   "cell_type": "markdown",
   "metadata": {},
   "source": [
    "#### Test"
   ]
  },
  {
   "cell_type": "code",
   "execution_count": 92,
   "metadata": {},
   "outputs": [
    {
     "data": {
      "text/plain": [
       "10.0     1666\n",
       "80.0        2\n",
       "50.0        2\n",
       "150.0       1\n",
       "70.0        1\n",
       "90.0        1\n",
       "130.0       1\n",
       "40.0        1\n",
       "110.0       1\n",
       "120.0       1\n",
       "Name: rating_denominator, dtype: int64"
      ]
     },
     "execution_count": 92,
     "metadata": {},
     "output_type": "execute_result"
    }
   ],
   "source": [
    "# check value_counts of the rating_denominator to inspect changes. (10 should increase by 5 to give 1666)\n",
    "master_df_clean['rating_denominator'].value_counts()"
   ]
  },
  {
   "cell_type": "markdown",
   "metadata": {},
   "source": [
    "### Quality issue #2:\n",
    "\n",
    "##### `rating_numerator` has numbers like 0, 143, 24. Check to see that the rating was extracted correctly."
   ]
  },
  {
   "cell_type": "markdown",
   "metadata": {},
   "source": [
    "#### Define:\n",
    "\n",
    "Inspect `rating_numerator` values that appear once. Some of the values to be changed can be inferred from the `rating_denominator`solution."
   ]
  },
  {
   "cell_type": "markdown",
   "metadata": {},
   "source": [
    "#### Code"
   ]
  },
  {
   "cell_type": "code",
   "execution_count": 93,
   "metadata": {},
   "outputs": [
    {
     "data": {
      "text/plain": [
       "12     421\n",
       "10     358\n",
       "11     356\n",
       "13     225\n",
       "9      133\n",
       "8       68\n",
       "7       32\n",
       "14      23\n",
       "6       16\n",
       "5       14\n",
       "4        7\n",
       "3        5\n",
       "2        2\n",
       "121      1\n",
       "84       1\n",
       "88       1\n",
       "99       1\n",
       "0        1\n",
       "143      1\n",
       "144      1\n",
       "75       1\n",
       "80       1\n",
       "24       1\n",
       "60       1\n",
       "50       1\n",
       "45       1\n",
       "44       1\n",
       "27       1\n",
       "26       1\n",
       "1        1\n",
       "165      1\n",
       "Name: rating_numerator, dtype: int64"
      ]
     },
     "execution_count": 93,
     "metadata": {},
     "output_type": "execute_result"
    }
   ],
   "source": [
    "master_df_clean['rating_numerator'].value_counts()"
   ]
  },
  {
   "cell_type": "code",
   "execution_count": 94,
   "metadata": {},
   "outputs": [
    {
     "data": {
      "text/html": [
       "<div>\n",
       "<style scoped>\n",
       "    .dataframe tbody tr th:only-of-type {\n",
       "        vertical-align: middle;\n",
       "    }\n",
       "\n",
       "    .dataframe tbody tr th {\n",
       "        vertical-align: top;\n",
       "    }\n",
       "\n",
       "    .dataframe thead th {\n",
       "        text-align: right;\n",
       "    }\n",
       "</style>\n",
       "<table border=\"1\" class=\"dataframe\">\n",
       "  <thead>\n",
       "    <tr style=\"text-align: right;\">\n",
       "      <th></th>\n",
       "      <th>tweet_id</th>\n",
       "      <th>in_reply_to_status_id</th>\n",
       "      <th>in_reply_to_user_id</th>\n",
       "      <th>timestamp</th>\n",
       "      <th>source</th>\n",
       "      <th>text</th>\n",
       "      <th>expanded_urls</th>\n",
       "      <th>rating_numerator</th>\n",
       "      <th>rating_denominator</th>\n",
       "      <th>name</th>\n",
       "      <th>dog_stage</th>\n",
       "      <th>jpg_url</th>\n",
       "      <th>img_num</th>\n",
       "      <th>breed</th>\n",
       "      <th>confidence_interval</th>\n",
       "      <th>retweet_count</th>\n",
       "      <th>favorite_count</th>\n",
       "      <th>is_quote_status</th>\n",
       "      <th>lower_text_range</th>\n",
       "      <th>upper_text_range</th>\n",
       "    </tr>\n",
       "  </thead>\n",
       "  <tbody>\n",
       "    <tr>\n",
       "      <th>205</th>\n",
       "      <td>835152434251116546</td>\n",
       "      <td>NaN</td>\n",
       "      <td>NaN</td>\n",
       "      <td>2017-02-24 15:40:31+00:00</td>\n",
       "      <td>Twitter for iPhone</td>\n",
       "      <td>When you're so blinded by your systematic plag...</td>\n",
       "      <td>https://twitter.com/dog_rates/status/835152434...</td>\n",
       "      <td>0</td>\n",
       "      <td>10.0</td>\n",
       "      <td>NaN</td>\n",
       "      <td>NaN</td>\n",
       "      <td>https://pbs.twimg.com/media/C5cOtWVWMAEjO5p.jpg</td>\n",
       "      <td>3</td>\n",
       "      <td>American_Staffordshire_Terrier</td>\n",
       "      <td>0.012731</td>\n",
       "      <td>2772</td>\n",
       "      <td>21020</td>\n",
       "      <td>False</td>\n",
       "      <td>0</td>\n",
       "      <td>89</td>\n",
       "    </tr>\n",
       "    <tr>\n",
       "      <th>288</th>\n",
       "      <td>820690176645140481</td>\n",
       "      <td>NaN</td>\n",
       "      <td>NaN</td>\n",
       "      <td>2017-01-15 17:52:40+00:00</td>\n",
       "      <td>Twitter for iPhone</td>\n",
       "      <td>The floofs have been released I repeat the flo...</td>\n",
       "      <td>https://twitter.com/dog_rates/status/820690176...</td>\n",
       "      <td>84</td>\n",
       "      <td>70.0</td>\n",
       "      <td>NaN</td>\n",
       "      <td>NaN</td>\n",
       "      <td>https://pbs.twimg.com/media/C2OtWr0VQAEnS9r.jpg</td>\n",
       "      <td>2</td>\n",
       "      <td>West_Highland_White_Terrier</td>\n",
       "      <td>0.872064</td>\n",
       "      <td>3009</td>\n",
       "      <td>11610</td>\n",
       "      <td>False</td>\n",
       "      <td>0</td>\n",
       "      <td>75</td>\n",
       "    </tr>\n",
       "    <tr>\n",
       "      <th>344</th>\n",
       "      <td>810984652412424192</td>\n",
       "      <td>NaN</td>\n",
       "      <td>NaN</td>\n",
       "      <td>2016-12-19 23:06:23+00:00</td>\n",
       "      <td>Twitter for iPhone</td>\n",
       "      <td>Meet Sam. She smiles 24/7 &amp;amp; secretly aspir...</td>\n",
       "      <td>https://www.gofundme.com/sams-smile,https://tw...</td>\n",
       "      <td>24</td>\n",
       "      <td>NaN</td>\n",
       "      <td>Sam</td>\n",
       "      <td>NaN</td>\n",
       "      <td>https://pbs.twimg.com/media/C0EyPZbXAAAceSc.jpg</td>\n",
       "      <td>1</td>\n",
       "      <td>Golden_Retriever</td>\n",
       "      <td>0.871342</td>\n",
       "      <td>1342</td>\n",
       "      <td>5071</td>\n",
       "      <td>False</td>\n",
       "      <td>0</td>\n",
       "      <td>143</td>\n",
       "    </tr>\n",
       "    <tr>\n",
       "      <th>450</th>\n",
       "      <td>786709082849828864</td>\n",
       "      <td>NaN</td>\n",
       "      <td>NaN</td>\n",
       "      <td>2016-10-13 23:23:56+00:00</td>\n",
       "      <td>Twitter for iPhone</td>\n",
       "      <td>This is Logan, the Chow who lived. He solemnly...</td>\n",
       "      <td>https://twitter.com/dog_rates/status/786709082...</td>\n",
       "      <td>75</td>\n",
       "      <td>10.0</td>\n",
       "      <td>Logan</td>\n",
       "      <td>NaN</td>\n",
       "      <td>https://pbs.twimg.com/media/CurzvFTXgAA2_AP.jpg</td>\n",
       "      <td>1</td>\n",
       "      <td>Pomeranian</td>\n",
       "      <td>0.467321</td>\n",
       "      <td>5750</td>\n",
       "      <td>17397</td>\n",
       "      <td>False</td>\n",
       "      <td>0</td>\n",
       "      <td>104</td>\n",
       "    </tr>\n",
       "    <tr>\n",
       "      <th>494</th>\n",
       "      <td>778027034220126208</td>\n",
       "      <td>NaN</td>\n",
       "      <td>NaN</td>\n",
       "      <td>2016-09-20 00:24:34+00:00</td>\n",
       "      <td>Twitter for iPhone</td>\n",
       "      <td>This is Sophie. She's a Jubilant Bush Pupper. ...</td>\n",
       "      <td>https://twitter.com/dog_rates/status/778027034...</td>\n",
       "      <td>27</td>\n",
       "      <td>10.0</td>\n",
       "      <td>Sophie</td>\n",
       "      <td>pupper</td>\n",
       "      <td>https://pbs.twimg.com/media/Cswbc2yWcAAVsCJ.jpg</td>\n",
       "      <td>1</td>\n",
       "      <td>Clumber</td>\n",
       "      <td>0.946718</td>\n",
       "      <td>1495</td>\n",
       "      <td>6208</td>\n",
       "      <td>False</td>\n",
       "      <td>0</td>\n",
       "      <td>137</td>\n",
       "    </tr>\n",
       "    <tr>\n",
       "      <th>587</th>\n",
       "      <td>758467244762497024</td>\n",
       "      <td>NaN</td>\n",
       "      <td>NaN</td>\n",
       "      <td>2016-07-28 01:00:57+00:00</td>\n",
       "      <td>Twitter for iPhone</td>\n",
       "      <td>Why does this never happen at my front door......</td>\n",
       "      <td>https://twitter.com/dog_rates/status/758467244...</td>\n",
       "      <td>165</td>\n",
       "      <td>150.0</td>\n",
       "      <td>NaN</td>\n",
       "      <td>NaN</td>\n",
       "      <td>https://pbs.twimg.com/ext_tw_video_thumb/75846...</td>\n",
       "      <td>1</td>\n",
       "      <td>Labrador_Retriever</td>\n",
       "      <td>0.436377</td>\n",
       "      <td>2033</td>\n",
       "      <td>4484</td>\n",
       "      <td>False</td>\n",
       "      <td>0</td>\n",
       "      <td>54</td>\n",
       "    </tr>\n",
       "    <tr>\n",
       "      <th>814</th>\n",
       "      <td>716439118184652801</td>\n",
       "      <td>NaN</td>\n",
       "      <td>NaN</td>\n",
       "      <td>2016-04-03 01:36:11+00:00</td>\n",
       "      <td>Twitter for iPhone</td>\n",
       "      <td>This is Bluebert. He just saw that both #Final...</td>\n",
       "      <td>https://twitter.com/dog_rates/status/716439118...</td>\n",
       "      <td>50</td>\n",
       "      <td>10.0</td>\n",
       "      <td>Bluebert</td>\n",
       "      <td>NaN</td>\n",
       "      <td>https://pbs.twimg.com/media/CfFNk7cWAAA-hND.jpg</td>\n",
       "      <td>1</td>\n",
       "      <td>Siberian_Husky</td>\n",
       "      <td>0.396495</td>\n",
       "      <td>192</td>\n",
       "      <td>2205</td>\n",
       "      <td>False</td>\n",
       "      <td>0</td>\n",
       "      <td>117</td>\n",
       "    </tr>\n",
       "    <tr>\n",
       "      <th>833</th>\n",
       "      <td>713900603437621249</td>\n",
       "      <td>NaN</td>\n",
       "      <td>NaN</td>\n",
       "      <td>2016-03-27 01:29:02+00:00</td>\n",
       "      <td>Twitter for iPhone</td>\n",
       "      <td>Happy Saturday here's 9 puppers on a bench. 99...</td>\n",
       "      <td>https://twitter.com/dog_rates/status/713900603...</td>\n",
       "      <td>99</td>\n",
       "      <td>90.0</td>\n",
       "      <td>NaN</td>\n",
       "      <td>NaN</td>\n",
       "      <td>https://pbs.twimg.com/media/CehIzzZWQAEyHH5.jpg</td>\n",
       "      <td>1</td>\n",
       "      <td>Golden_Retriever</td>\n",
       "      <td>0.371816</td>\n",
       "      <td>666</td>\n",
       "      <td>2635</td>\n",
       "      <td>False</td>\n",
       "      <td>0</td>\n",
       "      <td>93</td>\n",
       "    </tr>\n",
       "    <tr>\n",
       "      <th>852</th>\n",
       "      <td>710658690886586372</td>\n",
       "      <td>NaN</td>\n",
       "      <td>NaN</td>\n",
       "      <td>2016-03-18 02:46:49+00:00</td>\n",
       "      <td>Twitter for iPhone</td>\n",
       "      <td>Here's a brigade of puppers. All look very pre...</td>\n",
       "      <td>https://twitter.com/dog_rates/status/710658690...</td>\n",
       "      <td>80</td>\n",
       "      <td>80.0</td>\n",
       "      <td>NaN</td>\n",
       "      <td>NaN</td>\n",
       "      <td>https://pbs.twimg.com/media/CdzETn4W4AAVU5N.jpg</td>\n",
       "      <td>1</td>\n",
       "      <td>Soft-Coated_Wheaten_Terrier</td>\n",
       "      <td>0.948617</td>\n",
       "      <td>519</td>\n",
       "      <td>2150</td>\n",
       "      <td>False</td>\n",
       "      <td>0</td>\n",
       "      <td>108</td>\n",
       "    </tr>\n",
       "    <tr>\n",
       "      <th>869</th>\n",
       "      <td>709198395643068416</td>\n",
       "      <td>NaN</td>\n",
       "      <td>NaN</td>\n",
       "      <td>2016-03-14 02:04:08+00:00</td>\n",
       "      <td>Twitter for iPhone</td>\n",
       "      <td>From left to right:\\nCletus, Jerome, Alejandro...</td>\n",
       "      <td>https://twitter.com/dog_rates/status/709198395...</td>\n",
       "      <td>45</td>\n",
       "      <td>50.0</td>\n",
       "      <td>NaN</td>\n",
       "      <td>NaN</td>\n",
       "      <td>https://pbs.twimg.com/media/CdeUKpcWoAAJAWJ.jpg</td>\n",
       "      <td>1</td>\n",
       "      <td>Borzoi</td>\n",
       "      <td>0.490783</td>\n",
       "      <td>592</td>\n",
       "      <td>2277</td>\n",
       "      <td>False</td>\n",
       "      <td>0</td>\n",
       "      <td>144</td>\n",
       "    </tr>\n",
       "    <tr>\n",
       "      <th>929</th>\n",
       "      <td>704054845121142784</td>\n",
       "      <td>NaN</td>\n",
       "      <td>NaN</td>\n",
       "      <td>2016-02-28 21:25:30+00:00</td>\n",
       "      <td>Twitter for iPhone</td>\n",
       "      <td>Here is a whole flock of puppers.  60/50 I'll ...</td>\n",
       "      <td>https://twitter.com/dog_rates/status/704054845...</td>\n",
       "      <td>60</td>\n",
       "      <td>50.0</td>\n",
       "      <td>NaN</td>\n",
       "      <td>NaN</td>\n",
       "      <td>https://pbs.twimg.com/media/CcVOJEcXEAM0FHL.jpg</td>\n",
       "      <td>1</td>\n",
       "      <td>Great_Pyrenees</td>\n",
       "      <td>0.667939</td>\n",
       "      <td>845</td>\n",
       "      <td>2704</td>\n",
       "      <td>False</td>\n",
       "      <td>0</td>\n",
       "      <td>82</td>\n",
       "    </tr>\n",
       "    <tr>\n",
       "      <th>995</th>\n",
       "      <td>697463031882764288</td>\n",
       "      <td>NaN</td>\n",
       "      <td>NaN</td>\n",
       "      <td>2016-02-10 16:51:59+00:00</td>\n",
       "      <td>Twitter for iPhone</td>\n",
       "      <td>Happy Wednesday here's a bucket of pups. 44/40...</td>\n",
       "      <td>https://twitter.com/dog_rates/status/697463031...</td>\n",
       "      <td>44</td>\n",
       "      <td>40.0</td>\n",
       "      <td>NaN</td>\n",
       "      <td>NaN</td>\n",
       "      <td>https://pbs.twimg.com/media/Ca3i7CzXIAMLhg8.jpg</td>\n",
       "      <td>1</td>\n",
       "      <td>Labrador_Retriever</td>\n",
       "      <td>0.999885</td>\n",
       "      <td>1280</td>\n",
       "      <td>3184</td>\n",
       "      <td>False</td>\n",
       "      <td>0</td>\n",
       "      <td>92</td>\n",
       "    </tr>\n",
       "    <tr>\n",
       "      <th>1138</th>\n",
       "      <td>684225744407494656</td>\n",
       "      <td>6.842229e+17</td>\n",
       "      <td>4.196984e+09</td>\n",
       "      <td>2016-01-05 04:11:44+00:00</td>\n",
       "      <td>Twitter for iPhone</td>\n",
       "      <td>Two sneaky puppers were not initially seen, mo...</td>\n",
       "      <td>https://twitter.com/dog_rates/status/684225744...</td>\n",
       "      <td>143</td>\n",
       "      <td>130.0</td>\n",
       "      <td>NaN</td>\n",
       "      <td>NaN</td>\n",
       "      <td>https://pbs.twimg.com/media/CX7br3HWsAAQ9L1.jpg</td>\n",
       "      <td>2</td>\n",
       "      <td>Golden_Retriever</td>\n",
       "      <td>0.203249</td>\n",
       "      <td>184</td>\n",
       "      <td>1152</td>\n",
       "      <td>False</td>\n",
       "      <td>0</td>\n",
       "      <td>126</td>\n",
       "    </tr>\n",
       "    <tr>\n",
       "      <th>1139</th>\n",
       "      <td>684222868335505415</td>\n",
       "      <td>NaN</td>\n",
       "      <td>NaN</td>\n",
       "      <td>2016-01-05 04:00:18+00:00</td>\n",
       "      <td>Twitter for iPhone</td>\n",
       "      <td>Someone help the girl is being mugged. Several...</td>\n",
       "      <td>https://twitter.com/dog_rates/status/684222868...</td>\n",
       "      <td>121</td>\n",
       "      <td>110.0</td>\n",
       "      <td>NaN</td>\n",
       "      <td>NaN</td>\n",
       "      <td>https://pbs.twimg.com/media/CX7Y_ByWwAEJdUy.jpg</td>\n",
       "      <td>1</td>\n",
       "      <td>Soft-Coated_Wheaten_Terrier</td>\n",
       "      <td>0.791182</td>\n",
       "      <td>1244</td>\n",
       "      <td>3534</td>\n",
       "      <td>False</td>\n",
       "      <td>0</td>\n",
       "      <td>140</td>\n",
       "    </tr>\n",
       "    <tr>\n",
       "      <th>1196</th>\n",
       "      <td>680494726643068929</td>\n",
       "      <td>NaN</td>\n",
       "      <td>NaN</td>\n",
       "      <td>2015-12-25 21:06:00+00:00</td>\n",
       "      <td>Twitter for iPhone</td>\n",
       "      <td>Here we have uncovered an entire battalion of ...</td>\n",
       "      <td>https://twitter.com/dog_rates/status/680494726...</td>\n",
       "      <td>26</td>\n",
       "      <td>10.0</td>\n",
       "      <td>NaN</td>\n",
       "      <td>NaN</td>\n",
       "      <td>https://pbs.twimg.com/media/CXGaVxOWAAADjhF.jpg</td>\n",
       "      <td>1</td>\n",
       "      <td>Kuvasz</td>\n",
       "      <td>0.438627</td>\n",
       "      <td>442</td>\n",
       "      <td>1578</td>\n",
       "      <td>False</td>\n",
       "      <td>0</td>\n",
       "      <td>106</td>\n",
       "    </tr>\n",
       "    <tr>\n",
       "      <th>1246</th>\n",
       "      <td>677716515794329600</td>\n",
       "      <td>NaN</td>\n",
       "      <td>NaN</td>\n",
       "      <td>2015-12-18 05:06:23+00:00</td>\n",
       "      <td>Twitter for iPhone</td>\n",
       "      <td>IT'S PUPPERGEDDON. Total of 144/120 ...I think...</td>\n",
       "      <td>https://twitter.com/dog_rates/status/677716515...</td>\n",
       "      <td>144</td>\n",
       "      <td>120.0</td>\n",
       "      <td>NaN</td>\n",
       "      <td>NaN</td>\n",
       "      <td>https://pbs.twimg.com/media/CWe7kw9W4AE8UJh.jpg</td>\n",
       "      <td>1</td>\n",
       "      <td>Chow</td>\n",
       "      <td>0.025438</td>\n",
       "      <td>883</td>\n",
       "      <td>2796</td>\n",
       "      <td>False</td>\n",
       "      <td>0</td>\n",
       "      <td>70</td>\n",
       "    </tr>\n",
       "    <tr>\n",
       "      <th>1296</th>\n",
       "      <td>675853064436391936</td>\n",
       "      <td>NaN</td>\n",
       "      <td>NaN</td>\n",
       "      <td>2015-12-13 01:41:41+00:00</td>\n",
       "      <td>Twitter for iPhone</td>\n",
       "      <td>Here we have an entire platoon of puppers. Tot...</td>\n",
       "      <td>https://twitter.com/dog_rates/status/675853064...</td>\n",
       "      <td>88</td>\n",
       "      <td>80.0</td>\n",
       "      <td>NaN</td>\n",
       "      <td>NaN</td>\n",
       "      <td>https://pbs.twimg.com/media/CWEcxqWVEAAHyGH.jpg</td>\n",
       "      <td>1</td>\n",
       "      <td>Labrador_Retriever</td>\n",
       "      <td>0.868367</td>\n",
       "      <td>1143</td>\n",
       "      <td>2432</td>\n",
       "      <td>False</td>\n",
       "      <td>0</td>\n",
       "      <td>107</td>\n",
       "    </tr>\n",
       "    <tr>\n",
       "      <th>1660</th>\n",
       "      <td>666287406224695296</td>\n",
       "      <td>NaN</td>\n",
       "      <td>NaN</td>\n",
       "      <td>2015-11-16 16:11:11+00:00</td>\n",
       "      <td>Twitter for iPhone</td>\n",
       "      <td>This is an Albanian 3 1/2 legged  Episcopalian...</td>\n",
       "      <td>https://twitter.com/dog_rates/status/666287406...</td>\n",
       "      <td>1</td>\n",
       "      <td>10.0</td>\n",
       "      <td>an</td>\n",
       "      <td>NaN</td>\n",
       "      <td>https://pbs.twimg.com/media/CT8g3BpUEAAuFjg.jpg</td>\n",
       "      <td>1</td>\n",
       "      <td>Maltese_Dog</td>\n",
       "      <td>0.857531</td>\n",
       "      <td>57</td>\n",
       "      <td>123</td>\n",
       "      <td>False</td>\n",
       "      <td>0</td>\n",
       "      <td>136</td>\n",
       "    </tr>\n",
       "  </tbody>\n",
       "</table>\n",
       "</div>"
      ],
      "text/plain": [
       "                tweet_id  in_reply_to_status_id  in_reply_to_user_id  \\\n",
       "205   835152434251116546                    NaN                  NaN   \n",
       "288   820690176645140481                    NaN                  NaN   \n",
       "344   810984652412424192                    NaN                  NaN   \n",
       "450   786709082849828864                    NaN                  NaN   \n",
       "494   778027034220126208                    NaN                  NaN   \n",
       "587   758467244762497024                    NaN                  NaN   \n",
       "814   716439118184652801                    NaN                  NaN   \n",
       "833   713900603437621249                    NaN                  NaN   \n",
       "852   710658690886586372                    NaN                  NaN   \n",
       "869   709198395643068416                    NaN                  NaN   \n",
       "929   704054845121142784                    NaN                  NaN   \n",
       "995   697463031882764288                    NaN                  NaN   \n",
       "1138  684225744407494656           6.842229e+17         4.196984e+09   \n",
       "1139  684222868335505415                    NaN                  NaN   \n",
       "1196  680494726643068929                    NaN                  NaN   \n",
       "1246  677716515794329600                    NaN                  NaN   \n",
       "1296  675853064436391936                    NaN                  NaN   \n",
       "1660  666287406224695296                    NaN                  NaN   \n",
       "\n",
       "                     timestamp              source  \\\n",
       "205  2017-02-24 15:40:31+00:00  Twitter for iPhone   \n",
       "288  2017-01-15 17:52:40+00:00  Twitter for iPhone   \n",
       "344  2016-12-19 23:06:23+00:00  Twitter for iPhone   \n",
       "450  2016-10-13 23:23:56+00:00  Twitter for iPhone   \n",
       "494  2016-09-20 00:24:34+00:00  Twitter for iPhone   \n",
       "587  2016-07-28 01:00:57+00:00  Twitter for iPhone   \n",
       "814  2016-04-03 01:36:11+00:00  Twitter for iPhone   \n",
       "833  2016-03-27 01:29:02+00:00  Twitter for iPhone   \n",
       "852  2016-03-18 02:46:49+00:00  Twitter for iPhone   \n",
       "869  2016-03-14 02:04:08+00:00  Twitter for iPhone   \n",
       "929  2016-02-28 21:25:30+00:00  Twitter for iPhone   \n",
       "995  2016-02-10 16:51:59+00:00  Twitter for iPhone   \n",
       "1138 2016-01-05 04:11:44+00:00  Twitter for iPhone   \n",
       "1139 2016-01-05 04:00:18+00:00  Twitter for iPhone   \n",
       "1196 2015-12-25 21:06:00+00:00  Twitter for iPhone   \n",
       "1246 2015-12-18 05:06:23+00:00  Twitter for iPhone   \n",
       "1296 2015-12-13 01:41:41+00:00  Twitter for iPhone   \n",
       "1660 2015-11-16 16:11:11+00:00  Twitter for iPhone   \n",
       "\n",
       "                                                   text  \\\n",
       "205   When you're so blinded by your systematic plag...   \n",
       "288   The floofs have been released I repeat the flo...   \n",
       "344   Meet Sam. She smiles 24/7 &amp; secretly aspir...   \n",
       "450   This is Logan, the Chow who lived. He solemnly...   \n",
       "494   This is Sophie. She's a Jubilant Bush Pupper. ...   \n",
       "587   Why does this never happen at my front door......   \n",
       "814   This is Bluebert. He just saw that both #Final...   \n",
       "833   Happy Saturday here's 9 puppers on a bench. 99...   \n",
       "852   Here's a brigade of puppers. All look very pre...   \n",
       "869   From left to right:\\nCletus, Jerome, Alejandro...   \n",
       "929   Here is a whole flock of puppers.  60/50 I'll ...   \n",
       "995   Happy Wednesday here's a bucket of pups. 44/40...   \n",
       "1138  Two sneaky puppers were not initially seen, mo...   \n",
       "1139  Someone help the girl is being mugged. Several...   \n",
       "1196  Here we have uncovered an entire battalion of ...   \n",
       "1246  IT'S PUPPERGEDDON. Total of 144/120 ...I think...   \n",
       "1296  Here we have an entire platoon of puppers. Tot...   \n",
       "1660  This is an Albanian 3 1/2 legged  Episcopalian...   \n",
       "\n",
       "                                          expanded_urls  rating_numerator  \\\n",
       "205   https://twitter.com/dog_rates/status/835152434...                 0   \n",
       "288   https://twitter.com/dog_rates/status/820690176...                84   \n",
       "344   https://www.gofundme.com/sams-smile,https://tw...                24   \n",
       "450   https://twitter.com/dog_rates/status/786709082...                75   \n",
       "494   https://twitter.com/dog_rates/status/778027034...                27   \n",
       "587   https://twitter.com/dog_rates/status/758467244...               165   \n",
       "814   https://twitter.com/dog_rates/status/716439118...                50   \n",
       "833   https://twitter.com/dog_rates/status/713900603...                99   \n",
       "852   https://twitter.com/dog_rates/status/710658690...                80   \n",
       "869   https://twitter.com/dog_rates/status/709198395...                45   \n",
       "929   https://twitter.com/dog_rates/status/704054845...                60   \n",
       "995   https://twitter.com/dog_rates/status/697463031...                44   \n",
       "1138  https://twitter.com/dog_rates/status/684225744...               143   \n",
       "1139  https://twitter.com/dog_rates/status/684222868...               121   \n",
       "1196  https://twitter.com/dog_rates/status/680494726...                26   \n",
       "1246  https://twitter.com/dog_rates/status/677716515...               144   \n",
       "1296  https://twitter.com/dog_rates/status/675853064...                88   \n",
       "1660  https://twitter.com/dog_rates/status/666287406...                 1   \n",
       "\n",
       "      rating_denominator      name dog_stage  \\\n",
       "205                 10.0       NaN       NaN   \n",
       "288                 70.0       NaN       NaN   \n",
       "344                  NaN       Sam       NaN   \n",
       "450                 10.0     Logan       NaN   \n",
       "494                 10.0    Sophie    pupper   \n",
       "587                150.0       NaN       NaN   \n",
       "814                 10.0  Bluebert       NaN   \n",
       "833                 90.0       NaN       NaN   \n",
       "852                 80.0       NaN       NaN   \n",
       "869                 50.0       NaN       NaN   \n",
       "929                 50.0       NaN       NaN   \n",
       "995                 40.0       NaN       NaN   \n",
       "1138               130.0       NaN       NaN   \n",
       "1139               110.0       NaN       NaN   \n",
       "1196                10.0       NaN       NaN   \n",
       "1246               120.0       NaN       NaN   \n",
       "1296                80.0       NaN       NaN   \n",
       "1660                10.0        an       NaN   \n",
       "\n",
       "                                                jpg_url  img_num  \\\n",
       "205     https://pbs.twimg.com/media/C5cOtWVWMAEjO5p.jpg        3   \n",
       "288     https://pbs.twimg.com/media/C2OtWr0VQAEnS9r.jpg        2   \n",
       "344     https://pbs.twimg.com/media/C0EyPZbXAAAceSc.jpg        1   \n",
       "450     https://pbs.twimg.com/media/CurzvFTXgAA2_AP.jpg        1   \n",
       "494     https://pbs.twimg.com/media/Cswbc2yWcAAVsCJ.jpg        1   \n",
       "587   https://pbs.twimg.com/ext_tw_video_thumb/75846...        1   \n",
       "814     https://pbs.twimg.com/media/CfFNk7cWAAA-hND.jpg        1   \n",
       "833     https://pbs.twimg.com/media/CehIzzZWQAEyHH5.jpg        1   \n",
       "852     https://pbs.twimg.com/media/CdzETn4W4AAVU5N.jpg        1   \n",
       "869     https://pbs.twimg.com/media/CdeUKpcWoAAJAWJ.jpg        1   \n",
       "929     https://pbs.twimg.com/media/CcVOJEcXEAM0FHL.jpg        1   \n",
       "995     https://pbs.twimg.com/media/Ca3i7CzXIAMLhg8.jpg        1   \n",
       "1138    https://pbs.twimg.com/media/CX7br3HWsAAQ9L1.jpg        2   \n",
       "1139    https://pbs.twimg.com/media/CX7Y_ByWwAEJdUy.jpg        1   \n",
       "1196    https://pbs.twimg.com/media/CXGaVxOWAAADjhF.jpg        1   \n",
       "1246    https://pbs.twimg.com/media/CWe7kw9W4AE8UJh.jpg        1   \n",
       "1296    https://pbs.twimg.com/media/CWEcxqWVEAAHyGH.jpg        1   \n",
       "1660    https://pbs.twimg.com/media/CT8g3BpUEAAuFjg.jpg        1   \n",
       "\n",
       "                               breed  confidence_interval  retweet_count  \\\n",
       "205   American_Staffordshire_Terrier             0.012731           2772   \n",
       "288      West_Highland_White_Terrier             0.872064           3009   \n",
       "344                 Golden_Retriever             0.871342           1342   \n",
       "450                       Pomeranian             0.467321           5750   \n",
       "494                          Clumber             0.946718           1495   \n",
       "587               Labrador_Retriever             0.436377           2033   \n",
       "814                   Siberian_Husky             0.396495            192   \n",
       "833                 Golden_Retriever             0.371816            666   \n",
       "852      Soft-Coated_Wheaten_Terrier             0.948617            519   \n",
       "869                           Borzoi             0.490783            592   \n",
       "929                   Great_Pyrenees             0.667939            845   \n",
       "995               Labrador_Retriever             0.999885           1280   \n",
       "1138                Golden_Retriever             0.203249            184   \n",
       "1139     Soft-Coated_Wheaten_Terrier             0.791182           1244   \n",
       "1196                          Kuvasz             0.438627            442   \n",
       "1246                            Chow             0.025438            883   \n",
       "1296              Labrador_Retriever             0.868367           1143   \n",
       "1660                     Maltese_Dog             0.857531             57   \n",
       "\n",
       "      favorite_count  is_quote_status  lower_text_range  upper_text_range  \n",
       "205            21020            False                 0                89  \n",
       "288            11610            False                 0                75  \n",
       "344             5071            False                 0               143  \n",
       "450            17397            False                 0               104  \n",
       "494             6208            False                 0               137  \n",
       "587             4484            False                 0                54  \n",
       "814             2205            False                 0               117  \n",
       "833             2635            False                 0                93  \n",
       "852             2150            False                 0               108  \n",
       "869             2277            False                 0               144  \n",
       "929             2704            False                 0                82  \n",
       "995             3184            False                 0                92  \n",
       "1138            1152            False                 0               126  \n",
       "1139            3534            False                 0               140  \n",
       "1196            1578            False                 0               106  \n",
       "1246            2796            False                 0                70  \n",
       "1296            2432            False                 0               107  \n",
       "1660             123            False                 0               136  "
      ]
     },
     "execution_count": 94,
     "metadata": {},
     "output_type": "execute_result"
    }
   ],
   "source": [
    "# create list of rating_numerator that appears once.\n",
    "numerators = [121, 84, 88, 99, 0, 143, 144, 75, 80, 24, 60, 50, 45, 44, 27, 26, 1, 165]\n",
    "\n",
    "master_df_clean[master_df_clean['rating_numerator'].isin(numerators)]"
   ]
  },
  {
   "cell_type": "markdown",
   "metadata": {},
   "source": [
    "* Important to note that some ratings are float!. We'll have to use regular expressions to check for more occurrences.\n",
    "* Also important to note that some of the float ratings are averages."
   ]
  },
  {
   "cell_type": "code",
   "execution_count": 95,
   "metadata": {},
   "outputs": [],
   "source": [
    "# start with the indexes discovered while cleaning rating_denominator. [703 -> 14, 1162 -> 10, 784 -> 13]\n",
    "# 121 - correct rating\n",
    "# 84 - correct rating\n",
    "# 88 - correct rating\n",
    "# 99 - correct rating\n",
    "# 0 - correct rating. shocking! it's because the picture was taken and the full dog was not visible.\n",
    "# 143 - correct rating\n",
    "# 144 - correct rating\n",
    "# 75 - decimal, 9.75. index 450\n",
    "# 80 - correct rating\n",
    "# 24 - no rating, np.nan, mistaken as 24 (24/7). index 344\n",
    "# 60 - correct rating\n",
    "# 50 - supposed to be 11 (11/10). index 814\n",
    "# 45 - correct rating\n",
    "# 44 - correct rating\n",
    "# 27 - decimal, 11.27. index 494\n",
    "# 26 - decimal, 11.26. index 1196\n",
    "# 1 - supposed to be 9 (9/10). index 1660\n",
    "# 165 - correct rating\n",
    "\n",
    "master_df_clean.loc[703, 'rating_numerator'] = 14\n",
    "master_df_clean.loc[1162, 'rating_numerator'] = 10\n",
    "master_df_clean.loc[784, 'rating_numerator'] = 13\n",
    "master_df_clean.loc[450, 'rating_numerator'] = 9.75\n",
    "master_df_clean.loc[344, 'rating_numerator'] = np.nan\n",
    "master_df_clean.loc[814, 'rating_numerator'] = 11\n",
    "master_df_clean.loc[494, 'rating_numerator'] = 11.27\n",
    "master_df_clean.loc[1196, 'rating_numerator'] = 11.26\n",
    "master_df_clean.loc[1660, 'rating_numerator'] = 9"
   ]
  },
  {
   "cell_type": "code",
   "execution_count": 96,
   "metadata": {},
   "outputs": [
    {
     "data": {
      "text/plain": [
       "36       13.5/10\n",
       "450      9.75/10\n",
       "494     11.27/10\n",
       "1196    11.26/10\n",
       "Name: 0, dtype: object"
      ]
     },
     "execution_count": 96,
     "metadata": {},
     "output_type": "execute_result"
    }
   ],
   "source": [
    "# check for other occurrences of decimals\n",
    "pattern = \"(\\d+\\.\\d+\\/\\d+)\"\n",
    "\n",
    "master_df_clean.text.str.extract(pattern, expand = True)[0].dropna()"
   ]
  },
  {
   "cell_type": "markdown",
   "metadata": {},
   "source": [
    "* Seems I got most of them. The last one is 13.5/10 which would have a rating_numerator of 5."
   ]
  },
  {
   "cell_type": "code",
   "execution_count": 97,
   "metadata": {},
   "outputs": [],
   "source": [
    "# change value using the index above\n",
    "master_df_clean.loc[36, 'rating_numerator'] = 13.5"
   ]
  },
  {
   "cell_type": "markdown",
   "metadata": {},
   "source": [
    "#### Test"
   ]
  },
  {
   "cell_type": "code",
   "execution_count": 98,
   "metadata": {},
   "outputs": [
    {
     "data": {
      "text/plain": [
       "12.00     421\n",
       "10.00     359\n",
       "11.00     357\n",
       "13.00     226\n",
       "9.00      133\n",
       "8.00       68\n",
       "7.00       31\n",
       "14.00      24\n",
       "6.00       16\n",
       "5.00       13\n",
       "4.00        6\n",
       "3.00        5\n",
       "2.00        2\n",
       "165.00      1\n",
       "144.00      1\n",
       "11.26       1\n",
       "121.00      1\n",
       "0.00        1\n",
       "9.75        1\n",
       "44.00       1\n",
       "84.00       1\n",
       "60.00       1\n",
       "88.00       1\n",
       "99.00       1\n",
       "45.00       1\n",
       "13.50       1\n",
       "11.27       1\n",
       "80.00       1\n",
       "143.00      1\n",
       "Name: rating_numerator, dtype: int64"
      ]
     },
     "execution_count": 98,
     "metadata": {},
     "output_type": "execute_result"
    }
   ],
   "source": [
    "# check the value_counts to confirm that changes have been effected (we should see decimal numbers there).\n",
    "master_df_clean['rating_numerator'].value_counts()"
   ]
  },
  {
   "cell_type": "markdown",
   "metadata": {},
   "source": [
    "-------------------------------------------------------------------------------------------------------------------------------"
   ]
  },
  {
   "cell_type": "markdown",
   "metadata": {},
   "source": [
    "## Storing Data\n",
    "Save gathered, assessed, and cleaned master dataset to a CSV file named \"twitter_archive_master.csv\"."
   ]
  },
  {
   "cell_type": "code",
   "execution_count": 99,
   "metadata": {},
   "outputs": [],
   "source": [
    "# store clean data to a csv file\n",
    "master_df_clean.to_csv('twitter_archive_master.csv', index=False)"
   ]
  },
  {
   "cell_type": "markdown",
   "metadata": {},
   "source": [
    "## Analyzing and Visualizing Data\n",
    "In this section, analyze and visualize your wrangled data."
   ]
  },
  {
   "cell_type": "code",
   "execution_count": 100,
   "metadata": {},
   "outputs": [
    {
     "data": {
      "text/html": [
       "<div>\n",
       "<style scoped>\n",
       "    .dataframe tbody tr th:only-of-type {\n",
       "        vertical-align: middle;\n",
       "    }\n",
       "\n",
       "    .dataframe tbody tr th {\n",
       "        vertical-align: top;\n",
       "    }\n",
       "\n",
       "    .dataframe thead th {\n",
       "        text-align: right;\n",
       "    }\n",
       "</style>\n",
       "<table border=\"1\" class=\"dataframe\">\n",
       "  <thead>\n",
       "    <tr style=\"text-align: right;\">\n",
       "      <th></th>\n",
       "      <th>tweet_id</th>\n",
       "      <th>in_reply_to_status_id</th>\n",
       "      <th>in_reply_to_user_id</th>\n",
       "      <th>timestamp</th>\n",
       "      <th>source</th>\n",
       "      <th>text</th>\n",
       "      <th>expanded_urls</th>\n",
       "      <th>rating_numerator</th>\n",
       "      <th>rating_denominator</th>\n",
       "      <th>name</th>\n",
       "      <th>dog_stage</th>\n",
       "      <th>jpg_url</th>\n",
       "      <th>img_num</th>\n",
       "      <th>breed</th>\n",
       "      <th>confidence_interval</th>\n",
       "      <th>retweet_count</th>\n",
       "      <th>favorite_count</th>\n",
       "      <th>is_quote_status</th>\n",
       "      <th>lower_text_range</th>\n",
       "      <th>upper_text_range</th>\n",
       "    </tr>\n",
       "  </thead>\n",
       "  <tbody>\n",
       "    <tr>\n",
       "      <th>0</th>\n",
       "      <td>892177421306343426</td>\n",
       "      <td>NaN</td>\n",
       "      <td>NaN</td>\n",
       "      <td>2017-08-01 00:17:27+00:00</td>\n",
       "      <td>Twitter for iPhone</td>\n",
       "      <td>This is Tilly. She's just checking pup on you....</td>\n",
       "      <td>https://twitter.com/dog_rates/status/892177421...</td>\n",
       "      <td>13.0</td>\n",
       "      <td>10.0</td>\n",
       "      <td>Tilly</td>\n",
       "      <td>NaN</td>\n",
       "      <td>https://pbs.twimg.com/media/DGGmoV4XsAAUL6n.jpg</td>\n",
       "      <td>1</td>\n",
       "      <td>Chihuahua</td>\n",
       "      <td>0.323581</td>\n",
       "      <td>5312</td>\n",
       "      <td>29385</td>\n",
       "      <td>False</td>\n",
       "      <td>0</td>\n",
       "      <td>138</td>\n",
       "    </tr>\n",
       "    <tr>\n",
       "      <th>1</th>\n",
       "      <td>891815181378084864</td>\n",
       "      <td>NaN</td>\n",
       "      <td>NaN</td>\n",
       "      <td>2017-07-31 00:18:03+00:00</td>\n",
       "      <td>Twitter for iPhone</td>\n",
       "      <td>This is Archie. He is a rare Norwegian Pouncin...</td>\n",
       "      <td>https://twitter.com/dog_rates/status/891815181...</td>\n",
       "      <td>12.0</td>\n",
       "      <td>10.0</td>\n",
       "      <td>Archie</td>\n",
       "      <td>NaN</td>\n",
       "      <td>https://pbs.twimg.com/media/DGBdLU1WsAANxJ9.jpg</td>\n",
       "      <td>1</td>\n",
       "      <td>Chihuahua</td>\n",
       "      <td>0.716012</td>\n",
       "      <td>3491</td>\n",
       "      <td>22100</td>\n",
       "      <td>False</td>\n",
       "      <td>0</td>\n",
       "      <td>121</td>\n",
       "    </tr>\n",
       "    <tr>\n",
       "      <th>2</th>\n",
       "      <td>891689557279858688</td>\n",
       "      <td>NaN</td>\n",
       "      <td>NaN</td>\n",
       "      <td>2017-07-30 15:58:51+00:00</td>\n",
       "      <td>Twitter for iPhone</td>\n",
       "      <td>This is Darla. She commenced a snooze mid meal...</td>\n",
       "      <td>https://twitter.com/dog_rates/status/891689557...</td>\n",
       "      <td>13.0</td>\n",
       "      <td>10.0</td>\n",
       "      <td>Darla</td>\n",
       "      <td>NaN</td>\n",
       "      <td>https://pbs.twimg.com/media/DF_q7IAWsAEuuN8.jpg</td>\n",
       "      <td>1</td>\n",
       "      <td>Labrador_Retriever</td>\n",
       "      <td>0.168086</td>\n",
       "      <td>7243</td>\n",
       "      <td>36999</td>\n",
       "      <td>False</td>\n",
       "      <td>0</td>\n",
       "      <td>79</td>\n",
       "    </tr>\n",
       "  </tbody>\n",
       "</table>\n",
       "</div>"
      ],
      "text/plain": [
       "             tweet_id  in_reply_to_status_id  in_reply_to_user_id  \\\n",
       "0  892177421306343426                    NaN                  NaN   \n",
       "1  891815181378084864                    NaN                  NaN   \n",
       "2  891689557279858688                    NaN                  NaN   \n",
       "\n",
       "                   timestamp              source  \\\n",
       "0  2017-08-01 00:17:27+00:00  Twitter for iPhone   \n",
       "1  2017-07-31 00:18:03+00:00  Twitter for iPhone   \n",
       "2  2017-07-30 15:58:51+00:00  Twitter for iPhone   \n",
       "\n",
       "                                                text  \\\n",
       "0  This is Tilly. She's just checking pup on you....   \n",
       "1  This is Archie. He is a rare Norwegian Pouncin...   \n",
       "2  This is Darla. She commenced a snooze mid meal...   \n",
       "\n",
       "                                       expanded_urls  rating_numerator  \\\n",
       "0  https://twitter.com/dog_rates/status/892177421...              13.0   \n",
       "1  https://twitter.com/dog_rates/status/891815181...              12.0   \n",
       "2  https://twitter.com/dog_rates/status/891689557...              13.0   \n",
       "\n",
       "   rating_denominator    name dog_stage  \\\n",
       "0                10.0   Tilly       NaN   \n",
       "1                10.0  Archie       NaN   \n",
       "2                10.0   Darla       NaN   \n",
       "\n",
       "                                           jpg_url  img_num  \\\n",
       "0  https://pbs.twimg.com/media/DGGmoV4XsAAUL6n.jpg        1   \n",
       "1  https://pbs.twimg.com/media/DGBdLU1WsAANxJ9.jpg        1   \n",
       "2  https://pbs.twimg.com/media/DF_q7IAWsAEuuN8.jpg        1   \n",
       "\n",
       "                breed  confidence_interval  retweet_count  favorite_count  \\\n",
       "0           Chihuahua             0.323581           5312           29385   \n",
       "1           Chihuahua             0.716012           3491           22100   \n",
       "2  Labrador_Retriever             0.168086           7243           36999   \n",
       "\n",
       "   is_quote_status  lower_text_range  upper_text_range  \n",
       "0            False                 0               138  \n",
       "1            False                 0               121  \n",
       "2            False                 0                79  "
      ]
     },
     "execution_count": 100,
     "metadata": {},
     "output_type": "execute_result"
    }
   ],
   "source": [
    "# read in the data into a dataframe\n",
    "df = pd.read_csv('twitter_archive_master.csv')\n",
    "\n",
    "# view the first 3 rows\n",
    "df.head(3)"
   ]
  },
  {
   "cell_type": "markdown",
   "metadata": {},
   "source": [
    "### Questions:\n",
    "1. What breed of dog is the most popular (number of times a breed of dog is rated) in this dataset?\n",
    "\n",
    "2. What breed of dog is liked/favorited overall?\n",
    "\n",
    "3. Is there a relationship between number of words/characters in a text and favorite_count?\n",
    "\n",
    "4. Where does WeRateDogs tweets originate from the most?\n",
    "\n",
    "5. How are tweets distributed by weekday and by month?"
   ]
  },
  {
   "cell_type": "markdown",
   "metadata": {
    "collapsed": true
   },
   "source": [
    "### Visualization"
   ]
  },
  {
   "cell_type": "markdown",
   "metadata": {},
   "source": [
    "**1. What breed of dog is the most popular (number of times a breed of dog is rated) in this dataset?**"
   ]
  },
  {
   "cell_type": "code",
   "execution_count": 124,
   "metadata": {},
   "outputs": [
    {
     "data": {
      "text/plain": [
       "breed\n",
       "Golden_Retriever      158\n",
       "Labrador_Retriever    105\n",
       "Pembroke               95\n",
       "Chihuahua              91\n",
       "Pug                    62\n",
       "Toy_Poodle             50\n",
       "Chow                   48\n",
       "Pomeranian             42\n",
       "Samoyed                41\n",
       "Malamute               33\n",
       "Name: tweet_id, dtype: int64"
      ]
     },
     "execution_count": 124,
     "metadata": {},
     "output_type": "execute_result"
    }
   ],
   "source": [
    "# group the dataset by breed and use the count function to count the number of occurrences. Select the top 10 most popular.\n",
    "pop_df = df.groupby('breed').count()['tweet_id'].sort_values(ascending=False)[:10]\n",
    "\n",
    "# select the highest 10\n",
    "pop_df"
   ]
  },
  {
   "cell_type": "code",
   "execution_count": 127,
   "metadata": {},
   "outputs": [
    {
     "data": {
      "image/png": "[encoded data removed]",
      "text/plain": [
       "<Figure size 1440x432 with 1 Axes>"
      ]
     },
     "metadata": {
      "needs_background": "light"
     },
     "output_type": "display_data"
    }
   ],
   "source": [
    "# choose the figure size of the plot\n",
    "plt.figure(figsize=(20, 6))\n",
    "\n",
    "# plot bar chart to display the information\n",
    "sns.barplot(x=pop_df.index, y='tweet_id', data=pop_df.to_frame(), order=pop_df.sort_index().index);\n",
    "\n",
    "# necessary labels and title\n",
    "plt.title('Popular dog breeds on WeRateDogs Twitter page');\n",
    "plt.xlabel('Breed');\n",
    "plt.ylabel('Number of times rated');"
   ]
  },
  {
   "cell_type": "markdown",
   "metadata": {},
   "source": [
    "* The Golden Retriever is the breed that has been rated the most on WeRateDogs."
   ]
  },
  {
   "cell_type": "markdown",
   "metadata": {},
   "source": [
    "-------------------------------------------------------------------------------------------------------------------------------"
   ]
  },
  {
   "cell_type": "markdown",
   "metadata": {},
   "source": [
    "**2. What breed of dog is liked/favorited overall?**"
   ]
  },
  {
   "cell_type": "code",
   "execution_count": 131,
   "metadata": {},
   "outputs": [
    {
     "data": {
      "text/plain": [
       "breed\n",
       "Golden_Retriever      1691688.0\n",
       "Labrador_Retriever    1041749.0\n",
       "Pembroke               907636.0\n",
       "Chihuahua              670867.0\n",
       "French_Bulldog         527142.0\n",
       "Samoyed                483052.0\n",
       "Chow                   390400.0\n",
       "Cocker_Spaniel         352987.0\n",
       "Pug                    326080.0\n",
       "Malamute               305341.0\n",
       "Name: favorite_count, dtype: float64"
      ]
     },
     "execution_count": 131,
     "metadata": {},
     "output_type": "execute_result"
    }
   ],
   "source": [
    "# group the dataset by breed and sum the favorite_count column for each breed.\n",
    "like_df = df.groupby('breed').sum()['favorite_count'].sort_values(ascending=False)[:10]\n",
    "\n",
    "like_df"
   ]
  },
  {
   "cell_type": "code",
   "execution_count": 132,
   "metadata": {},
   "outputs": [
    {
     "data": {
      "image/png": "[encoded data removed]",
      "text/plain": [
       "<Figure size 1440x432 with 1 Axes>"
      ]
     },
     "metadata": {
      "needs_background": "light"
     },
     "output_type": "display_data"
    }
   ],
   "source": [
    "# choose the figure size of the plot\n",
    "plt.figure(figsize=(20, 6))\n",
    "\n",
    "# plot bar chart to display the information\n",
    "sns.barplot(x=like_df.index, y='favorite_count', data=like_df.to_frame(), order=like_df.sort_index().index);\n",
    "\n",
    "# necessary labels and title\n",
    "plt.title('Top favorited dog breeds');\n",
    "plt.xlabel('Breed');\n",
    "plt.ylabel('Number of likes');"
   ]
  },
  {
   "cell_type": "markdown",
   "metadata": {},
   "source": [
    "* The Golden Retriever is still the most favorited breed. This is expected as it is also the most popular breed in this dataset.\n",
    ">Although this trend does not follow for other popular breeds."
   ]
  },
  {
   "cell_type": "markdown",
   "metadata": {},
   "source": [
    "* Another method that would show which dog breed was the most liked/favorited overall would be one that shows the average number of likes per dog breed."
   ]
  },
  {
   "cell_type": "code",
   "execution_count": 193,
   "metadata": {},
   "outputs": [
    {
     "data": {
      "text/plain": [
       "breed\n",
       "Bedlington_Terrier         21596.000000\n",
       "Saluki                     20841.000000\n",
       "French_Bulldog             17571.400000\n",
       "Bouvier_Des_Flandres       15390.000000\n",
       "Afghan_Hound               14736.000000\n",
       "Black-And-Tan_Coonhound    14700.000000\n",
       "Flat-Coated_Retriever      14550.375000\n",
       "Irish_Water_Spaniel        14003.000000\n",
       "Whippet                    12732.636364\n",
       "Leonberg                   12681.000000\n",
       "Name: favorite_count, dtype: float64"
      ]
     },
     "execution_count": 193,
     "metadata": {},
     "output_type": "execute_result"
    }
   ],
   "source": [
    "# group the dataset by breed and find the average of the favorite_count column for each breed.\n",
    "like_mean_df = df.groupby('breed').mean()['favorite_count'].sort_values(ascending=False)[:10]\n",
    "\n",
    "like_mean_df"
   ]
  },
  {
   "cell_type": "code",
   "execution_count": 195,
   "metadata": {},
   "outputs": [
    {
     "data": {
      "image/png": "[encoded data removed]",
      "text/plain": [
       "<Figure size 1728x432 with 1 Axes>"
      ]
     },
     "metadata": {
      "needs_background": "light"
     },
     "output_type": "display_data"
    }
   ],
   "source": [
    "# choose the figure size of the plot\n",
    "plt.figure(figsize=(24, 6))\n",
    "\n",
    "# plot bar chart to display the information\n",
    "sns.barplot(x=like_mean_df.index, y='favorite_count', data=like_mean_df.to_frame(), order=like_mean_df.sort_index().index);\n",
    "\n",
    "# necessary labels and title\n",
    "plt.title('Top favorited dog breeds');\n",
    "plt.xlabel('Breed');\n",
    "plt.ylabel('Average number of likes');"
   ]
  },
  {
   "cell_type": "markdown",
   "metadata": {},
   "source": [
    "* Interesting! The Golden Retriever dog breed is nowhere to be seen. Infact none of the dog breeds in the sum bar graph are in this one. The Bedlington Terrier is the dog breed with the highest average number of likes per tweet, closely followed by the Saluki dog breed."
   ]
  },
  {
   "cell_type": "markdown",
   "metadata": {},
   "source": [
    "-------------------------------------------------------------------------------------------------------------------------------"
   ]
  },
  {
   "cell_type": "markdown",
   "metadata": {},
   "source": [
    "**3. Is there a relationship between number of words/characters in a text and favorite_count?**"
   ]
  },
  {
   "cell_type": "code",
   "execution_count": 135,
   "metadata": {},
   "outputs": [
    {
     "data": {
      "image/png": "[encoded data removed]",
      "text/plain": [
       "<Figure size 1440x432 with 1 Axes>"
      ]
     },
     "metadata": {
      "needs_background": "light"
     },
     "output_type": "display_data"
    }
   ],
   "source": [
    "# choose the figure size of the plot\n",
    "plt.figure(figsize=(20, 6))\n",
    "\n",
    "# plot scatter plot to check relationship\n",
    "sns.scatterplot(x='upper_text_range', y='favorite_count', data=df);\n",
    "\n",
    "# necessary labels and title\n",
    "plt.title('Relationship between length of text characters and favorite_count');\n",
    "plt.xlabel('Text length');\n",
    "plt.ylabel('Number of likes');"
   ]
  },
  {
   "cell_type": "code",
   "execution_count": 136,
   "metadata": {},
   "outputs": [
    {
     "data": {
      "text/html": [
       "<div>\n",
       "<style scoped>\n",
       "    .dataframe tbody tr th:only-of-type {\n",
       "        vertical-align: middle;\n",
       "    }\n",
       "\n",
       "    .dataframe tbody tr th {\n",
       "        vertical-align: top;\n",
       "    }\n",
       "\n",
       "    .dataframe thead th {\n",
       "        text-align: right;\n",
       "    }\n",
       "</style>\n",
       "<table border=\"1\" class=\"dataframe\">\n",
       "  <thead>\n",
       "    <tr style=\"text-align: right;\">\n",
       "      <th></th>\n",
       "      <th>upper_text_range</th>\n",
       "      <th>favorite_count</th>\n",
       "    </tr>\n",
       "  </thead>\n",
       "  <tbody>\n",
       "    <tr>\n",
       "      <th>upper_text_range</th>\n",
       "      <td>1.000000</td>\n",
       "      <td>-0.066843</td>\n",
       "    </tr>\n",
       "    <tr>\n",
       "      <th>favorite_count</th>\n",
       "      <td>-0.066843</td>\n",
       "      <td>1.000000</td>\n",
       "    </tr>\n",
       "  </tbody>\n",
       "</table>\n",
       "</div>"
      ],
      "text/plain": [
       "                  upper_text_range  favorite_count\n",
       "upper_text_range          1.000000       -0.066843\n",
       "favorite_count           -0.066843        1.000000"
      ]
     },
     "execution_count": 136,
     "metadata": {},
     "output_type": "execute_result"
    }
   ],
   "source": [
    "# check the pearson correlation coefficient between the two variables.\n",
    "df[['upper_text_range', 'favorite_count']].corr()"
   ]
  },
  {
   "cell_type": "markdown",
   "metadata": {},
   "source": [
    "* There is very little/no relationship between the number of words in a tweet and number of likes."
   ]
  },
  {
   "cell_type": "markdown",
   "metadata": {},
   "source": [
    "-------------------------------------------------------------------------------------------------------------------------------"
   ]
  },
  {
   "cell_type": "markdown",
   "metadata": {},
   "source": [
    "**4. Where does WeRateDogs tweets originate from the most?**"
   ]
  },
  {
   "cell_type": "code",
   "execution_count": 144,
   "metadata": {},
   "outputs": [
    {
     "data": {
      "image/png": "[encoded data removed]",
      "text/plain": [
       "<Figure size 1440x432 with 1 Axes>"
      ]
     },
     "metadata": {
      "needs_background": "light"
     },
     "output_type": "display_data"
    }
   ],
   "source": [
    "# choose the figure size of the plot\n",
    "plt.figure(figsize=(20, 6))\n",
    "\n",
    "# plot a count plot\n",
    "sns.countplot(x='source', data=df);\n",
    "\n",
    "# necessary labels and title\n",
    "plt.title('Origins of WeRateDogs tweets');\n",
    "plt.xlabel('Sources');\n",
    "plt.ylabel('');"
   ]
  },
  {
   "cell_type": "markdown",
   "metadata": {},
   "source": [
    "* It is very clear that most of the WeRateDogs tweets originated from one source."
   ]
  },
  {
   "cell_type": "markdown",
   "metadata": {},
   "source": [
    "-------------------------------------------------------------------------------------------------------------------------------"
   ]
  },
  {
   "cell_type": "markdown",
   "metadata": {},
   "source": [
    "**5. How are tweets distributed by weekday and by month?**"
   ]
  },
  {
   "cell_type": "code",
   "execution_count": 151,
   "metadata": {},
   "outputs": [],
   "source": [
    "# create a copy of the dataset\n",
    "time_df = df.copy()"
   ]
  },
  {
   "cell_type": "code",
   "execution_count": 152,
   "metadata": {},
   "outputs": [
    {
     "name": "stdout",
     "output_type": "stream",
     "text": [
      "<class 'pandas.core.frame.DataFrame'>\n",
      "RangeIndex: 1678 entries, 0 to 1677\n",
      "Data columns (total 20 columns):\n",
      " #   Column                 Non-Null Count  Dtype  \n",
      "---  ------                 --------------  -----  \n",
      " 0   tweet_id               1678 non-null   int64  \n",
      " 1   in_reply_to_status_id  20 non-null     float64\n",
      " 2   in_reply_to_user_id    20 non-null     float64\n",
      " 3   timestamp              1678 non-null   object \n",
      " 4   source                 1678 non-null   object \n",
      " 5   text                   1678 non-null   object \n",
      " 6   expanded_urls          1678 non-null   object \n",
      " 7   rating_numerator       1677 non-null   float64\n",
      " 8   rating_denominator     1677 non-null   float64\n",
      " 9   name                   1214 non-null   object \n",
      " 10  dog_stage              254 non-null    object \n",
      " 11  jpg_url                1678 non-null   object \n",
      " 12  img_num                1678 non-null   int64  \n",
      " 13  breed                  1678 non-null   object \n",
      " 14  confidence_interval    1678 non-null   float64\n",
      " 15  retweet_count          1678 non-null   int64  \n",
      " 16  favorite_count         1678 non-null   int64  \n",
      " 17  is_quote_status        1678 non-null   bool   \n",
      " 18  lower_text_range       1678 non-null   int64  \n",
      " 19  upper_text_range       1678 non-null   int64  \n",
      "dtypes: bool(1), float64(5), int64(6), object(8)\n",
      "memory usage: 250.8+ KB\n"
     ]
    }
   ],
   "source": [
    "time_df.info()"
   ]
  },
  {
   "cell_type": "code",
   "execution_count": 153,
   "metadata": {},
   "outputs": [],
   "source": [
    "# convert timestamp column to datetime datatype...again\n",
    "time_df['timestamp'] = pd.to_datetime(time_df['timestamp'])"
   ]
  },
  {
   "cell_type": "code",
   "execution_count": 154,
   "metadata": {},
   "outputs": [],
   "source": [
    "# create a new column that shows the day of week for each tweet\n",
    "time_df[\"day_of_week\"] = time_df[\"timestamp\"].apply(lambda x: x.dayofweek)"
   ]
  },
  {
   "cell_type": "code",
   "execution_count": 158,
   "metadata": {},
   "outputs": [],
   "source": [
    "# Next, we'll map the different days of the week (0-6) to their actual days\n",
    "time_df[\"day_of_week\"] = time_df[\"day_of_week\"].map({0: 'Monday', 1: 'Tuesday', 2: 'Wednesday', 3: 'Thursday',\n",
    "                                                     4: 'Friday', 5: 'Saturday', 6:'Sunday'})"
   ]
  },
  {
   "cell_type": "code",
   "execution_count": 159,
   "metadata": {},
   "outputs": [
    {
     "data": {
      "text/plain": [
       "array(['Tuesday', 'Monday', 'Sunday', 'Saturday', 'Friday', 'Thursday',\n",
       "       'Wednesday'], dtype=object)"
      ]
     },
     "execution_count": 159,
     "metadata": {},
     "output_type": "execute_result"
    }
   ],
   "source": [
    "# view changes\n",
    "time_df[\"day_of_week\"].unique()"
   ]
  },
  {
   "cell_type": "code",
   "execution_count": 167,
   "metadata": {},
   "outputs": [
    {
     "data": {
      "text/plain": [
       "day_of_week\n",
       "Friday       240\n",
       "Monday       280\n",
       "Saturday     209\n",
       "Sunday       222\n",
       "Thursday     244\n",
       "Tuesday      244\n",
       "Wednesday    239\n",
       "Name: tweet_id, dtype: int64"
      ]
     },
     "execution_count": 167,
     "metadata": {},
     "output_type": "execute_result"
    }
   ],
   "source": [
    "# group data to find the number of tweets per weekday\n",
    "weekday = time_df.groupby('day_of_week').count()['tweet_id']\n",
    "\n",
    "weekday"
   ]
  },
  {
   "cell_type": "code",
   "execution_count": 188,
   "metadata": {},
   "outputs": [
    {
     "data": {
      "image/png": "[encoded data removed]",
      "text/plain": [
       "<Figure size 1440x432 with 1 Axes>"
      ]
     },
     "metadata": {
      "needs_background": "light"
     },
     "output_type": "display_data"
    }
   ],
   "source": [
    "# choose the figure size of the plot\n",
    "plt.figure(figsize=(20, 6))\n",
    "\n",
    "# plot bar plot to show tweet distribution\n",
    "order = ['Monday', 'Tuesday', 'Wednesday', 'Thursday', 'Friday', 'Saturday', 'Sunday']\n",
    "ax = sns.barplot(x=weekday.index, y='tweet_id', data=weekday.to_frame(), order=order);\n",
    "\n",
    "# necessary labels and title\n",
    "ax.set_title('Number of tweets for each day of the week');\n",
    "ax.set_xlabel('Day of week');\n",
    "ax.set_ylabel('Tweets');\n",
    "\n",
    "# add count values on top of each bar\n",
    "for p in ax.patches:\n",
    "    ax.annotate('{:.0f}'.format(p.get_height()), (p.get_x() + 0.35, p.get_height() + 1.5))"
   ]
  },
  {
   "cell_type": "markdown",
   "metadata": {},
   "source": [
    "* It looks like in this dataset, Monday is by far the busiest, the rest of the weekdays are the same more or less, and the weekends see number of tweets drop especially on Saturday."
   ]
  },
  {
   "cell_type": "markdown",
   "metadata": {},
   "source": [
    "-------------------------------------------------------------------------------------------------------------------------------"
   ]
  },
  {
   "cell_type": "markdown",
   "metadata": {},
   "source": [
    "##### For months of the year"
   ]
  },
  {
   "cell_type": "code",
   "execution_count": 181,
   "metadata": {},
   "outputs": [
    {
     "data": {
      "text/plain": [
       "Timestamp('2015-11-15 22:32:08+0000', tz='UTC')"
      ]
     },
     "execution_count": 181,
     "metadata": {},
     "output_type": "execute_result"
    }
   ],
   "source": [
    "# timestamp of the first tweet in the dataset\n",
    "time_df['timestamp'].min()"
   ]
  },
  {
   "cell_type": "code",
   "execution_count": 182,
   "metadata": {},
   "outputs": [
    {
     "data": {
      "text/plain": [
       "Timestamp('2017-08-01 00:17:27+0000', tz='UTC')"
      ]
     },
     "execution_count": 182,
     "metadata": {},
     "output_type": "execute_result"
    }
   ],
   "source": [
    "# timestamp of the last tweet in the dataset\n",
    "time_df['timestamp'].max()"
   ]
  },
  {
   "cell_type": "code",
   "execution_count": 183,
   "metadata": {},
   "outputs": [],
   "source": [
    "# extract the month from the timestamp\n",
    "time_df[\"month\"] = time_df[\"timestamp\"].apply(lambda x: x.month)"
   ]
  },
  {
   "cell_type": "code",
   "execution_count": 185,
   "metadata": {},
   "outputs": [],
   "source": [
    "# Next, we map each month number(1-12) to their respective months\n",
    "time_df[\"month\"] = time_df[\"month\"].map({1: 'January', 2: 'February', 3: 'March', 4: 'April',\n",
    "                                         5: 'May', 6: 'June', 7: 'July', 8: 'August',\n",
    "                                         9: 'September', 10: 'October', 11: 'November', 12: 'December'})"
   ]
  },
  {
   "cell_type": "code",
   "execution_count": 186,
   "metadata": {},
   "outputs": [
    {
     "data": {
      "text/plain": [
       "array(['August', 'July', 'June', 'May', 'April', 'March', 'February',\n",
       "       'January', 'December', 'November', 'October', 'September'],\n",
       "      dtype=object)"
      ]
     },
     "execution_count": 186,
     "metadata": {},
     "output_type": "execute_result"
    }
   ],
   "source": [
    "# view changes\n",
    "time_df['month'].unique()"
   ]
  },
  {
   "cell_type": "code",
   "execution_count": 187,
   "metadata": {},
   "outputs": [
    {
     "data": {
      "text/plain": [
       "month\n",
       "April         84\n",
       "August        47\n",
       "December     340\n",
       "February     155\n",
       "January      200\n",
       "July         123\n",
       "June         109\n",
       "March        149\n",
       "May           84\n",
       "November     271\n",
       "October       60\n",
       "September     56\n",
       "Name: tweet_id, dtype: int64"
      ]
     },
     "execution_count": 187,
     "metadata": {},
     "output_type": "execute_result"
    }
   ],
   "source": [
    "# group data to find the number of tweets per month\n",
    "month = time_df.groupby('month').count()['tweet_id']\n",
    "\n",
    "month"
   ]
  },
  {
   "cell_type": "code",
   "execution_count": 190,
   "metadata": {},
   "outputs": [
    {
     "data": {
      "image/png": "[encoded data removed]",
      "text/plain": [
       "<Figure size 1440x432 with 1 Axes>"
      ]
     },
     "metadata": {
      "needs_background": "light"
     },
     "output_type": "display_data"
    }
   ],
   "source": [
    "# choose the figure size of the plot\n",
    "plt.figure(figsize=(20, 6))\n",
    "\n",
    "# plot bar plot to show tweet distribution\n",
    "order = ['January', 'February', 'March', 'April', 'May', 'June', \n",
    "         'July', 'August', 'September', 'October', 'November', 'December']\n",
    "ax = sns.barplot(x=month.index, y='tweet_id', data=month.to_frame(), order=order);\n",
    "\n",
    "# necessary labels and title\n",
    "ax.set_title('Number of tweets for each month');\n",
    "ax.set_xlabel('Month');\n",
    "ax.set_ylabel('Tweets');\n",
    "\n",
    "# add count values on top of each bar\n",
    "for p in ax.patches:\n",
    "    ax.annotate('{:.0f}'.format(p.get_height()), (p.get_x() + 0.3, p.get_height() + 1.5))"
   ]
  },
  {
   "cell_type": "markdown",
   "metadata": {},
   "source": [
    "* December has the most number of tweets, maybe because of the festive season?. November is the next highest.\n",
    "> It is worth noting that the data was collected from November, 2015 till August 2017. So it is not a complete two years worth of data, September and October suffer this the most (might be why they're among the smallest)."
   ]
  },
  {
   "cell_type": "markdown",
   "metadata": {},
   "source": [
    "-------------------------------------------------------------------------------------------------------------------------------"
   ]
  },
  {
   "cell_type": "markdown",
   "metadata": {},
   "source": [
    "### Insights\n",
    "1. The Golden Retriever is the dog breed that has been rated the most on WeRateDogs.\n",
    "\n",
    "2. The Golden Retriever is also the dog breed with the highest favorite count.\n",
    "\n",
    "3. There is very little/ no correlation between number of text characters and favorite count.\n",
    "\n",
    "4. Most of the tweets on WeRateDogs originated from one source (Twitter for iPhone).\n",
    "\n",
    "5. Monday is the busiest weekday with more tweets rolling out on this day. December is also the busiest month, with more tweets rolling out in this month."
   ]
  },
  {
   "cell_type": "markdown",
   "metadata": {},
   "source": [
    "-------------------------------------------------------------------------------------------------------------------------------"
   ]
  },
  {
   "cell_type": "markdown",
   "metadata": {},
   "source": [
    "### Summary"
   ]
  },
  {
   "cell_type": "markdown",
   "metadata": {},
   "source": [
    "In this project, we went through all the stages of the Data Wrangling process, from gathering the data from three different sources (locally, from a website and gathering data from an API), to assessing the data to identify errors and inconsistencies in the data, to cleaning the data using pandas/python's functions and modules. After, we analyzed the data and visualized it in order to generate insights."
   ]
  },
  {
   "cell_type": "markdown",
   "metadata": {},
   "source": [
    "-------------------------------------------------------------------------------------------------------------------------------"
   ]
  }
 ],
 "metadata": {
  "extensions": {
   "jupyter_dashboards": {
    "activeView": "report_default",
    "version": 1,
    "views": {
     "grid_default": {
      "cellMargin": 10,
      "defaultCellHeight": 20,
      "maxColumns": 12,
      "name": "grid",
      "type": "grid"
     },
     "report_default": {
      "name": "report",
      "type": "report"
     }
    }
   }
  },
  "kernelspec": {
   "display_name": "Python 3",
   "language": "python",
   "name": "python3"
  },
  "language_info": {
   "codemirror_mode": {
    "name": "ipython",
    "version": 3
   },
   "file_extension": ".py",
   "mimetype": "text/x-python",
   "name": "python",
   "nbconvert_exporter": "python",
   "pygments_lexer": "ipython3",
   "version": "3.8.8"
  }
 },
 "nbformat": 4,
 "nbformat_minor": 2
}
